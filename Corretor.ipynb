{
  "nbformat": 4,
  "nbformat_minor": 0,
  "metadata": {
    "colab": {
      "provenance": [],
      "collapsed_sections": [
        "Wg4eOthXTyN6",
        "YaXXRrACT5Im",
        "BOVoiGwSgJ_U",
        "Q8uDZvtyDy9Y",
        "An2uHnTa1Utr",
        "yc3hcOLyDHn0",
        "s4fQP3S3C8-k",
        "PtjvEIl-NH6m",
        "hHciGUe5R4lZ"
      ],
      "authorship_tag": "ABX9TyNYRn8vMzYyGlXQ4Fp6zrQM",
      "include_colab_link": true
    },
    "kernelspec": {
      "name": "python3",
      "display_name": "Python 3"
    },
    "language_info": {
      "name": "python"
    }
  },
  "cells": [
    {
      "cell_type": "markdown",
      "metadata": {
        "id": "view-in-github",
        "colab_type": "text"
      },
      "source": [
        "<a href=\"https://colab.research.google.com/github/Leo-alves2/Corretor_Ortografico/blob/main/Corretor.ipynb\" target=\"_parent\"><img src=\"https://colab.research.google.com/assets/colab-badge.svg\" alt=\"Open In Colab\"/></a>"
      ]
    },
    {
      "cell_type": "markdown",
      "source": [
        "O que é o processamento de linguagem natural (NLP).\n",
        "\n",
        "O que está por trás de um corretor ortográfico.\n",
        "\n",
        "Como ler um arquivo de texto utilizando python.\n",
        "\n",
        "Como contar a quantidade de caracteres de um texto usando len()."
      ],
      "metadata": {
        "id": "ZJ7hdh2NLmBu"
      }
    },
    {
      "cell_type": "code",
      "execution_count": 1,
      "metadata": {
        "colab": {
          "base_uri": "https://localhost:8080/"
        },
        "id": "KFl4Rg-sErFH",
        "outputId": "a0da4f3e-5299-4f51-ac71-fe5c573307f6"
      },
      "outputs": [
        {
          "output_type": "execute_result",
          "data": {
            "text/plain": [
              "<_io.TextIOWrapper name='artigos.txt' mode='r' encoding='UTF-8'>"
            ]
          },
          "metadata": {},
          "execution_count": 1
        }
      ],
      "source": [
        "# Ler um arquivo texto\n",
        "\n",
        "open('artigos.txt', 'r')"
      ]
    },
    {
      "cell_type": "code",
      "source": [
        "# Colocando o artigo em uma variavel para leitura\n",
        "\n",
        "with open('artigos.txt', 'r') as f:\n",
        "  artigos = f.read()\n",
        "\n",
        "print(artigos[:500])"
      ],
      "metadata": {
        "colab": {
          "base_uri": "https://localhost:8080/"
        },
        "id": "Lpz4eZKeF98q",
        "outputId": "bd572aad-ccc5-4cfe-df40-99a2b2081a65"
      },
      "execution_count": 2,
      "outputs": [
        {
          "output_type": "stream",
          "name": "stdout",
          "text": [
            "\n",
            "\n",
            "\n",
            "imagem \n",
            "\n",
            "Temos a seguinte classe que representa um usuário no nosso sistema:\n",
            "\n",
            "java\n",
            "\n",
            "Para salvar um novo usuário, várias validações são feitas, como por exemplo: Ver se o nome só contém letras, [**o CPF só números**] e ver se o usuário possui no mínimo 18 anos. Veja o método que faz essa validação:\n",
            "\n",
            "java \n",
            "\n",
            "Suponha agora que eu tenha outra classe, a classe `Produto`, que contém um atributo nome e eu quero fazer a mesma validação que fiz para o nome do usuário: Ver se só contém letras. E aí? Vou\n"
          ]
        }
      ]
    },
    {
      "cell_type": "markdown",
      "source": [
        "# Tokenização"
      ],
      "metadata": {
        "id": "Wg4eOthXTyN6"
      }
    },
    {
      "cell_type": "code",
      "source": [
        "# Verificando as palavras repetidas\n",
        "\n",
        "len(artigos)"
      ],
      "metadata": {
        "colab": {
          "base_uri": "https://localhost:8080/"
        },
        "id": "36gO0Pi_GszO",
        "outputId": "26ecbbcf-0e95-45f9-dfe8-6c704f2f54db"
      },
      "execution_count": 3,
      "outputs": [
        {
          "output_type": "execute_result",
          "data": {
            "text/plain": [
              "2605046"
            ]
          },
          "metadata": {},
          "execution_count": 3
        }
      ]
    },
    {
      "cell_type": "code",
      "source": [
        "# Velificando uma palavra expecifica\n",
        "\n",
        "len('Olá')"
      ],
      "metadata": {
        "colab": {
          "base_uri": "https://localhost:8080/"
        },
        "id": "NxztRmHrIIL0",
        "outputId": "d9320674-2e65-4066-f249-7d664d2fc0fe"
      },
      "execution_count": 4,
      "outputs": [
        {
          "output_type": "execute_result",
          "data": {
            "text/plain": [
              "3"
            ]
          },
          "metadata": {},
          "execution_count": 4
        }
      ]
    },
    {
      "cell_type": "code",
      "source": [
        "# Utilizando o split para separar palavras, não é recomendado, segue exemplo\n",
        "\n",
        "# Criando uma frase\n",
        "\n",
        "texto_exemplo = 'Olá, tudo bem?'\n",
        "\n",
        "# Usado o Split para separar\n",
        "\n",
        "palavras_separadas = texto_exemplo.split()\n",
        "\n",
        "# Printando a variável com as palavras separadas\n",
        "\n",
        "# Verifique que o split entende como palavra a pontuação. Ex. \"bem?\"\n",
        "\n",
        "print(palavras_separadas)"
      ],
      "metadata": {
        "colab": {
          "base_uri": "https://localhost:8080/"
        },
        "id": "yxjMNhCWIU8Z",
        "outputId": "d6c379a9-ca71-4e5a-deb0-ff453340efef"
      },
      "execution_count": 5,
      "outputs": [
        {
          "output_type": "stream",
          "name": "stdout",
          "text": [
            "['Olá,', 'tudo', 'bem?']\n"
          ]
        }
      ]
    },
    {
      "cell_type": "code",
      "source": [
        "# ['Olá,', 'tudo', 'bem?'] cada elemento desse lista \n",
        "# é um Token em Processamento de Linguagem Natural (NLP).\n",
        "\n",
        "texto_exemplo = 'Olá, tudo bem?'\n",
        "tokens = texto_exemplo.split()\n",
        "print(tokens)"
      ],
      "metadata": {
        "colab": {
          "base_uri": "https://localhost:8080/"
        },
        "id": "4IBxLDGTJwRx",
        "outputId": "014130f2-1b2c-4ef4-ce2a-761175009b43"
      },
      "execution_count": 6,
      "outputs": [
        {
          "output_type": "stream",
          "name": "stdout",
          "text": [
            "['Olá,', 'tudo', 'bem?']\n"
          ]
        }
      ]
    },
    {
      "cell_type": "markdown",
      "source": [
        "Token é uma sequência de caracteres, separados por um limitador, que pode ser um espaço em branco, pontuação ou quebra de linhas, por exemplo.\n",
        "\n",
        "Os tokens não necessariamente são apenas palavras, podem ser uma sequência de caracteres alfanuméricos, alfabéticos com pontuações, etc."
      ],
      "metadata": {
        "id": "AO62_pjOLV3o"
      }
    },
    {
      "cell_type": "markdown",
      "source": [
        "O processo de transformar um arquivo de texto em pequenos tokens é chamado de Tokenização, o qual é recorrente no pré-processamento ou na análise estatística de dados textuais. Então, como é bastante utilizado, temos ferramentas que facilitam a sua implementação.\n",
        "\n",
        "Uma bem conhecida na área de NLP é o nltk ou Natural Language Tool Kit, que é um conjunto de ferramentas que implementa diversos métodos e algoritmos para análise textual.\n",
        "\n",
        "Apenas relembrando nosso problema, separamos os tokens da nossa frase com split(), mas as palavras ainda estão junto com as pontuações. Então separaremos em tokens de palavras e tokens de pontuação."
      ],
      "metadata": {
        "id": "NptA3birNTii"
      }
    },
    {
      "cell_type": "code",
      "source": [
        "import nltk \n",
        "nltk.download('punkt')"
      ],
      "metadata": {
        "colab": {
          "base_uri": "https://localhost:8080/"
        },
        "id": "EJg74-gDN0an",
        "outputId": "8be27cd9-106d-4767-aab4-2da59fb46816"
      },
      "execution_count": 7,
      "outputs": [
        {
          "output_type": "stream",
          "name": "stderr",
          "text": [
            "[nltk_data] Downloading package punkt to /root/nltk_data...\n",
            "[nltk_data]   Package punkt is already up-to-date!\n"
          ]
        },
        {
          "output_type": "execute_result",
          "data": {
            "text/plain": [
              "True"
            ]
          },
          "metadata": {},
          "execution_count": 7
        }
      ]
    },
    {
      "cell_type": "code",
      "source": [
        "palavras_separadas = nltk.tokenize.word_tokenize(texto_exemplo)"
      ],
      "metadata": {
        "id": "U4FbK8P4KqkU"
      },
      "execution_count": 8,
      "outputs": []
    },
    {
      "cell_type": "code",
      "source": [
        "print(palavras_separadas)"
      ],
      "metadata": {
        "colab": {
          "base_uri": "https://localhost:8080/"
        },
        "id": "wMhLU-iVOG9E",
        "outputId": "8f01a38f-05f3-44a0-d249-c38b3dad9754"
      },
      "execution_count": 9,
      "outputs": [
        {
          "output_type": "stream",
          "name": "stdout",
          "text": [
            "['Olá', ',', 'tudo', 'bem', '?']\n"
          ]
        }
      ]
    },
    {
      "cell_type": "code",
      "source": [
        "len(palavras_separadas)"
      ],
      "metadata": {
        "colab": {
          "base_uri": "https://localhost:8080/"
        },
        "id": "VaGfkbq5OhIY",
        "outputId": "442e71a5-f6db-49d6-94c2-7148f5f8ee99"
      },
      "execution_count": 10,
      "outputs": [
        {
          "output_type": "execute_result",
          "data": {
            "text/plain": [
              "5"
            ]
          },
          "metadata": {},
          "execution_count": 10
        }
      ]
    },
    {
      "cell_type": "markdown",
      "source": [
        "Para descobrirmos se um Token é palavra ou pontuação usaremos um método chamado .isalpha() se for apenas palavra retornará como verdadeiro. Caso encontre um que não seja alfabético como exemplo \"palavra1\" ou apenas \"./\", \"?\" com um número ou pontuação por exemplo, nos retornará falso."
      ],
      "metadata": {
        "id": "XQYbRimSQUgU"
      }
    },
    {
      "cell_type": "code",
      "source": [
        "# Criando uma função para pegar somente as palavras sem a pontuação\n",
        "\n",
        "# Cirando um lista vazia\n",
        "\n",
        "def separa_palavras(lista_tokens):\n",
        "  lista_palavras = []\n",
        "  for token in lista_tokens:\n",
        "    if token.isalpha():\n",
        "      lista_palavras.append(token)\n",
        "  return lista_palavras"
      ],
      "metadata": {
        "id": "fkYxk_l_PQRO"
      },
      "execution_count": 11,
      "outputs": []
    },
    {
      "cell_type": "code",
      "source": [
        "# Testando, teremos separado a lista de tokens somente em palavras.\n",
        "\n",
        "separa_palavras(palavras_separadas)"
      ],
      "metadata": {
        "colab": {
          "base_uri": "https://localhost:8080/"
        },
        "id": "2zLOtwmqR2Hs",
        "outputId": "7ce00c65-3e8a-4973-ddf1-34baa1f9209f"
      },
      "execution_count": 12,
      "outputs": [
        {
          "output_type": "execute_result",
          "data": {
            "text/plain": [
              "['Olá', 'tudo', 'bem']"
            ]
          },
          "metadata": {},
          "execution_count": 12
        }
      ]
    },
    {
      "cell_type": "code",
      "source": [
        "# Aplicando a função no arquivo\n",
        "\n",
        "lista_tokens = nltk.tokenize.word_tokenize(artigos)\n",
        "lista_palavras = separa_palavras(lista_tokens)\n",
        "print(f\"O número de palavras é {len(lista_palavras)}\")"
      ],
      "metadata": {
        "colab": {
          "base_uri": "https://localhost:8080/"
        },
        "id": "C4lvni7KR_mI",
        "outputId": "2304bdcc-5862-4b3c-9a81-e4d954826403"
      },
      "execution_count": 13,
      "outputs": [
        {
          "output_type": "stream",
          "name": "stdout",
          "text": [
            "O número de palavras é 403031\n"
          ]
        }
      ]
    },
    {
      "cell_type": "markdown",
      "source": [
        "# Normalização"
      ],
      "metadata": {
        "id": "YaXXRrACT5Im"
      }
    },
    {
      "cell_type": "markdown",
      "source": [
        "O valor total de 393916 palavras retornado anteriormente não representa a quantidade de palavras únicas que podem ser corrigidas, afinal muitas delas aparecerão *repetidas* nos textos.\n",
        "\n",
        "Portanto, precisaremos calcular quantos vocábulos únicos existem sem repetição."
      ],
      "metadata": {
        "id": "aDM1S71nYsLx"
      }
    },
    {
      "cell_type": "code",
      "source": [
        "# Printando as 5 primeiras palavras\n",
        "\n",
        "print(lista_palavras[:5])"
      ],
      "metadata": {
        "colab": {
          "base_uri": "https://localhost:8080/"
        },
        "id": "MM85v8uOTnR-",
        "outputId": "1834cc3f-6e8f-4555-86e7-d12bd1e5a80f"
      },
      "execution_count": 14,
      "outputs": [
        {
          "output_type": "stream",
          "name": "stdout",
          "text": [
            "['imagem', 'Temos', 'a', 'seguinte', 'classe']\n"
          ]
        }
      ]
    },
    {
      "cell_type": "markdown",
      "source": [
        "Neste caso, a palavra “Temos” inicia com letra maiúscula, mas também poderemos ter a mesma palavra “temos” iniciando com letra minúscula no meio do texto, então as contabilizaremos como dois tipos diferentes.\n",
        "\n",
        "Portanto, deveremos normalizar o texto e transformar todo o texto em letras minúsculas."
      ],
      "metadata": {
        "id": "lM060dqUbbvh"
      }
    },
    {
      "cell_type": "code",
      "source": [
        "def normalizacao(lista_palavras):\n",
        "    lista_normalizada = []\n",
        "    for palavra in lista_palavras:\n",
        "        lista_normalizada.append(palavra.lower())\n",
        "    return lista_normalizada\n"
      ],
      "metadata": {
        "id": "rBMxijFzai4-"
      },
      "execution_count": 15,
      "outputs": []
    },
    {
      "cell_type": "code",
      "source": [
        "# Visualizar\n",
        "\n",
        "# Como retorno, receberemos a mesma lista de palavras anterior, mas a palavra \n",
        "# 'temos' aparecerá com letra minúscula ao invés de maiúscula como estava antes.\n",
        "\n",
        "lista_normalizada = normalizacao(lista_palavras)\n",
        "print(lista_normalizada[:5])"
      ],
      "metadata": {
        "colab": {
          "base_uri": "https://localhost:8080/"
        },
        "id": "q9-v0Vzpbp2Y",
        "outputId": "574e5dc4-06fa-49c5-f190-de59e051cda6"
      },
      "execution_count": 16,
      "outputs": [
        {
          "output_type": "stream",
          "name": "stdout",
          "text": [
            "['imagem', 'temos', 'a', 'seguinte', 'classe']\n"
          ]
        }
      ]
    },
    {
      "cell_type": "markdown",
      "source": [
        "Agora que já temos nossa lista normalizada, poderemos remover as repetições de palavras, e existem algumas formas de fazer isso.\n",
        "\n",
        "Poderemos tanto construir um algoritmo, quanto trabalhar com ideias mais interessantes no Python, pois este tem métodos que implementam a ideia de conjuntos matemáticos, como o set()."
      ],
      "metadata": {
        "id": "Vjzx881sdvek"
      }
    },
    {
      "cell_type": "code",
      "source": [
        "# Exemplo com SET\n",
        "\n",
        "set([1, 2, 3, 3, 3, 3, 4, 5, 6])"
      ],
      "metadata": {
        "colab": {
          "base_uri": "https://localhost:8080/"
        },
        "id": "XX2ma6Sidwiy",
        "outputId": "a9c84fe4-ca0e-4774-931e-86a6d016e61b"
      },
      "execution_count": 17,
      "outputs": [
        {
          "output_type": "execute_result",
          "data": {
            "text/plain": [
              "{1, 2, 3, 4, 5, 6}"
            ]
          },
          "metadata": {},
          "execution_count": 17
        }
      ]
    },
    {
      "cell_type": "code",
      "source": [
        "# Utilizando o Set para remover as palavras repetidas da lista_palavras\n",
        "\n",
        "set(lista_normalizada)"
      ],
      "metadata": {
        "colab": {
          "base_uri": "https://localhost:8080/"
        },
        "id": "yAoc9fJNd70-",
        "outputId": "473625cc-73df-436f-8bc8-928773b17cb6"
      },
      "execution_count": 18,
      "outputs": [
        {
          "output_type": "execute_result",
          "data": {
            "text/plain": [
              "{'mergulhar',\n",
              " 'passaram',\n",
              " 'perl',\n",
              " 'oficializou',\n",
              " 'avançadas',\n",
              " 'lambda',\n",
              " 'fechar',\n",
              " 'concorrente',\n",
              " 'treinamos',\n",
              " 'cenário',\n",
              " 'alterar',\n",
              " 'bombando',\n",
              " 'semente',\n",
              " 'executasse',\n",
              " 'missão',\n",
              " 'chamativa',\n",
              " 'saudate',\n",
              " 'leigo',\n",
              " 'map',\n",
              " 'maker',\n",
              " 'cabeçalhos',\n",
              " 'ofício',\n",
              " 'in',\n",
              " 'incalculável',\n",
              " 'df',\n",
              " 'slugs',\n",
              " 'apresentada',\n",
              " 'uol',\n",
              " 'encaixam',\n",
              " 'datalist',\n",
              " 'permitidas',\n",
              " 'tcc',\n",
              " 'benéfica',\n",
              " 'zoeira',\n",
              " 'registre',\n",
              " 'marmitas',\n",
              " 'tomadas',\n",
              " 'sons',\n",
              " 'dirigindo',\n",
              " 'satisfatório',\n",
              " 'atuará',\n",
              " 'retrovisores',\n",
              " 'prevenção',\n",
              " 'usual',\n",
              " 'píxels',\n",
              " 'concreto',\n",
              " 'designernatan',\n",
              " 'matrícula',\n",
              " 'leucemiazero',\n",
              " 'sobrou',\n",
              " 'motor',\n",
              " 'sorted',\n",
              " 'teclas',\n",
              " 'alura',\n",
              " 'disco',\n",
              " 'gateway',\n",
              " 'xt',\n",
              " 'remotos',\n",
              " 'trazido',\n",
              " 'cm',\n",
              " 'selecionado',\n",
              " 'alemanha',\n",
              " 'quão',\n",
              " 'texto',\n",
              " 'modelagem',\n",
              " 'doadores',\n",
              " 'representamos',\n",
              " 'retornava',\n",
              " 'princípio',\n",
              " 'adaptei',\n",
              " 'sólidos',\n",
              " 'stanford',\n",
              " 'dependemos',\n",
              " 'parciais',\n",
              " 'implementados',\n",
              " 'módulo',\n",
              " 'leads',\n",
              " 'aumentaram',\n",
              " 'familiarizar',\n",
              " 'mantêm',\n",
              " 'consiga',\n",
              " 'old',\n",
              " 'agradáveis',\n",
              " 'tirou',\n",
              " 'difusão',\n",
              " 'sobrepor',\n",
              " 'inesquecível',\n",
              " 'demandado',\n",
              " 'popularmente',\n",
              " 'léxico',\n",
              " 'hh',\n",
              " 'estóico',\n",
              " 'cruzamento',\n",
              " 'demonstra',\n",
              " 'aparecem',\n",
              " 'transcrever',\n",
              " 'fortaleça',\n",
              " 'gostem',\n",
              " 'saiba',\n",
              " 'médico',\n",
              " 'temperadas',\n",
              " 'navigation',\n",
              " 'passageiro',\n",
              " 'cassete',\n",
              " 'simbólicas',\n",
              " 'distanciar',\n",
              " 'voltamos',\n",
              " 'almeida',\n",
              " 'personalizáveis',\n",
              " 'anonimamente',\n",
              " 'romário',\n",
              " 'airnb',\n",
              " 'insistente',\n",
              " 'obtenção',\n",
              " 'iframe',\n",
              " 'sorteamos',\n",
              " 'modernos',\n",
              " 'maurício',\n",
              " 'má',\n",
              " 'getmenuinfo',\n",
              " 'resolvido',\n",
              " 'impondo',\n",
              " 'scrollmagic',\n",
              " 'polêmicas',\n",
              " 'incêndio',\n",
              " 'leonard',\n",
              " 'rígido',\n",
              " 'desempenhada',\n",
              " 'racional',\n",
              " 'impecável',\n",
              " 'decodificação',\n",
              " 'empregar',\n",
              " 'brusca',\n",
              " 'temos',\n",
              " 'pacman',\n",
              " 'espalhado',\n",
              " 'quarenta',\n",
              " 'agende',\n",
              " 'sintaxe',\n",
              " 'comparable',\n",
              " 'inesperado',\n",
              " 'started',\n",
              " 'homologação',\n",
              " 'codificadas',\n",
              " 'contratantes',\n",
              " 'portfólios',\n",
              " 'empolgando',\n",
              " 'lembra',\n",
              " 'objective',\n",
              " 'cambaleante',\n",
              " 'feio',\n",
              " 'jogando',\n",
              " 'importa',\n",
              " 'imagina',\n",
              " 'débitos',\n",
              " 'milk',\n",
              " 'utilizemos',\n",
              " 'largado',\n",
              " 'camtasia',\n",
              " 'novas',\n",
              " 'prestadores',\n",
              " 'preceitos',\n",
              " 'vem',\n",
              " 'convencer',\n",
              " 'caminhamos',\n",
              " 'financeira',\n",
              " 'danosas',\n",
              " 'matéria',\n",
              " 'cruzar',\n",
              " 'agregação',\n",
              " 'reserve',\n",
              " 'empresária',\n",
              " 'imprimem',\n",
              " 'home',\n",
              " 'height',\n",
              " 'iniciado',\n",
              " 'pense',\n",
              " 'mostra',\n",
              " 'estáticos',\n",
              " 'apelar',\n",
              " 'ocupando',\n",
              " 'ficaram',\n",
              " 'corriqueiro',\n",
              " 'representados',\n",
              " 'mexe',\n",
              " 'conhece',\n",
              " 'modificar',\n",
              " 'descontração',\n",
              " 'apaixonaram',\n",
              " 'personalidade',\n",
              " 'totalizar',\n",
              " 'quantitativas',\n",
              " 'eliminarmos',\n",
              " 'produtividade',\n",
              " 'peding',\n",
              " 'intensidade',\n",
              " 'subcamada',\n",
              " 'orientador',\n",
              " 'jeitinho',\n",
              " 'específicos',\n",
              " 'surgirem',\n",
              " 'carente',\n",
              " 'componha',\n",
              " 'permitem',\n",
              " 'granted',\n",
              " 'cli',\n",
              " 'cabos',\n",
              " 'forneceu',\n",
              " 'significativos',\n",
              " 'compreendem',\n",
              " 'indisponibilidade',\n",
              " 'disputado',\n",
              " 'mascote',\n",
              " 'engessados',\n",
              " 'renomeação',\n",
              " 'transparente',\n",
              " 'executassem',\n",
              " 'zerados',\n",
              " 'elon',\n",
              " 'eloi',\n",
              " 'seguirmos',\n",
              " 'rank',\n",
              " 'intercalada',\n",
              " 'observados',\n",
              " 'fabio',\n",
              " 'risco',\n",
              " 'sobra',\n",
              " 'artboard',\n",
              " 'melhoram',\n",
              " 'legíveis',\n",
              " 'limpinha',\n",
              " 'revelava',\n",
              " 'totalizadores',\n",
              " 'workspace',\n",
              " 'estarem',\n",
              " 'riquíssimas',\n",
              " 'recentes',\n",
              " 'emergiram',\n",
              " 'capaz',\n",
              " 'suas',\n",
              " 'estruturada',\n",
              " 'serie',\n",
              " 'rastreia',\n",
              " 'potenciais',\n",
              " 'funcionassem',\n",
              " 'permitiu',\n",
              " 'programadora',\n",
              " 'ambientar',\n",
              " 'avós',\n",
              " 'migração',\n",
              " 'amostragem',\n",
              " 'proibitivo',\n",
              " 'contribuam',\n",
              " 'salão',\n",
              " 'alimento',\n",
              " 'celeron',\n",
              " 'gerindo',\n",
              " 'habilita',\n",
              " 'entrasse',\n",
              " 'implementada',\n",
              " 'avisar',\n",
              " 'perguntadas',\n",
              " 'binomiais',\n",
              " 'bucket',\n",
              " 'proporcionada',\n",
              " 'descontado',\n",
              " 'flutuam',\n",
              " 'somos',\n",
              " 'acessos',\n",
              " 'descoloração',\n",
              " 'acrobacias',\n",
              " 'format',\n",
              " 'aos',\n",
              " 'tons',\n",
              " 'artigo',\n",
              " 'selo',\n",
              " 'john',\n",
              " 'observei',\n",
              " 'completos',\n",
              " 'empregada',\n",
              " 'superficial',\n",
              " 'reuniram',\n",
              " 'preview',\n",
              " 'reiniciando',\n",
              " 'engraçados',\n",
              " 'excitantes',\n",
              " 'varie',\n",
              " 'processamos',\n",
              " 'simplicando',\n",
              " 'liderando',\n",
              " 'pude',\n",
              " 'autorais',\n",
              " 'fanpages',\n",
              " 'agendas',\n",
              " 'lua',\n",
              " 'iphones',\n",
              " 'imprevisíveis',\n",
              " 'sincroniza',\n",
              " 'resgatarmos',\n",
              " 'varrer',\n",
              " 'iam',\n",
              " 'ba',\n",
              " 'memórias',\n",
              " 'append',\n",
              " 'injustificado',\n",
              " 'alivia',\n",
              " 'dor',\n",
              " 'burza',\n",
              " 'irá',\n",
              " 'sessão',\n",
              " 'anexo',\n",
              " 'motorola',\n",
              " 'peso',\n",
              " 'treinamentos',\n",
              " 'selva',\n",
              " 'norteiam',\n",
              " 'marcos',\n",
              " 'stefanini',\n",
              " 'trechos',\n",
              " 'errarem',\n",
              " 'publicou',\n",
              " 'rodarem',\n",
              " 'transformado',\n",
              " 'conflitantes',\n",
              " 'dicionário',\n",
              " 'suprema',\n",
              " 'sweetalert',\n",
              " 'launch',\n",
              " 'porquê',\n",
              " 'sentirão',\n",
              " 'negativamente',\n",
              " 'devagar',\n",
              " 'cs',\n",
              " 'mouse',\n",
              " 'otimização',\n",
              " 'shape',\n",
              " 'cidadaobr',\n",
              " 'voos',\n",
              " 'amplie',\n",
              " 'socialmente',\n",
              " 'val',\n",
              " 'fotografia',\n",
              " 'automatizando',\n",
              " 'agora',\n",
              " 'boletos',\n",
              " 'músicas',\n",
              " 'thrones',\n",
              " 'concorrer',\n",
              " 'percorremos',\n",
              " 'solução',\n",
              " 'assistidas',\n",
              " 'lá',\n",
              " 'ligado',\n",
              " 'toolbar',\n",
              " 'attached',\n",
              " 'plot',\n",
              " 'decahexateto',\n",
              " 'senso',\n",
              " 'moleculas',\n",
              " 'ficasse',\n",
              " 'incorretos',\n",
              " 'compositora',\n",
              " 'principal',\n",
              " 'entendo',\n",
              " 'compostos',\n",
              " 'atingiu',\n",
              " 'simetria',\n",
              " 'sebrae',\n",
              " 'potência',\n",
              " 'gaussiana',\n",
              " 'setcontenttext',\n",
              " 'scheduling',\n",
              " 'içada',\n",
              " 'gentileza',\n",
              " 'offset',\n",
              " 'napster',\n",
              " 'evidenciar',\n",
              " 'funcionais',\n",
              " 'óleo',\n",
              " 'agruparam',\n",
              " 'me',\n",
              " 'contatar',\n",
              " 'sugere',\n",
              " 'investimento',\n",
              " 'cobertura',\n",
              " 'previsível',\n",
              " 'atitudes',\n",
              " 'pontinhos',\n",
              " 'psr',\n",
              " 'razoavelmente',\n",
              " 'subcategorias',\n",
              " 'abacaxi',\n",
              " 'sofrendo',\n",
              " 'brushstroke',\n",
              " 'subscription',\n",
              " 'recarregando',\n",
              " 'high',\n",
              " 'pitada',\n",
              " 'indicada',\n",
              " 'escutar',\n",
              " 'passariam',\n",
              " 'causou',\n",
              " 'arquiteturas',\n",
              " 'instancia',\n",
              " 'get',\n",
              " 'flatten',\n",
              " 'acirram',\n",
              " 'pivô',\n",
              " 'campanhas',\n",
              " 'poderemos',\n",
              " 'interpreta',\n",
              " 'testada',\n",
              " 'abertas',\n",
              " 'específicar',\n",
              " 'interna',\n",
              " 'preferirei',\n",
              " 'version',\n",
              " 'ruas',\n",
              " 'spam',\n",
              " 'etiqueta',\n",
              " 'iremos',\n",
              " 'clamp',\n",
              " 'reuniu',\n",
              " 'arquiteto',\n",
              " 'cc',\n",
              " 'svelte',\n",
              " 'criptografia',\n",
              " 'haja',\n",
              " 'ocultam',\n",
              " 'facilitava',\n",
              " 'indústria',\n",
              " 'revelaram',\n",
              " 'companhias',\n",
              " 'compartilhe',\n",
              " 'crista',\n",
              " 'imaginado',\n",
              " 'causadas',\n",
              " 'ouvir',\n",
              " 'equivocadamente',\n",
              " 'fibras',\n",
              " 'program',\n",
              " 'ned',\n",
              " 'robin',\n",
              " 'repassado',\n",
              " 'fecho',\n",
              " 'funcionarão',\n",
              " 'trial',\n",
              " 'mean',\n",
              " 'consumida',\n",
              " 'menus',\n",
              " 'desnecessários',\n",
              " 'plus',\n",
              " 'supervisor',\n",
              " 'getwriter',\n",
              " 'desenvolvimento',\n",
              " 'recrutador',\n",
              " 'samples',\n",
              " 'cabeamento',\n",
              " 'delete',\n",
              " 'copiados',\n",
              " 'danos',\n",
              " 'tentação',\n",
              " 'ifood',\n",
              " 'planejamos',\n",
              " 'vindi',\n",
              " 'homenagens',\n",
              " 'oferecemos',\n",
              " 'caímos',\n",
              " 'vazios',\n",
              " 'tablepress',\n",
              " 'animation',\n",
              " 'anotados',\n",
              " 'homepage',\n",
              " 'abstração',\n",
              " 'coroutines',\n",
              " 'lideranças',\n",
              " 'reiniciar',\n",
              " 'postar',\n",
              " 'notify',\n",
              " 'page',\n",
              " 'pesquisei',\n",
              " 'escolhidos',\n",
              " 'anterior',\n",
              " 'trilhar',\n",
              " 'ficção',\n",
              " 'indesejáveis',\n",
              " 'horizontais',\n",
              " 'sonoro',\n",
              " 'animada',\n",
              " 'divulgador',\n",
              " 'fevereiro',\n",
              " 'descemos',\n",
              " 'alegando',\n",
              " 'usando',\n",
              " 'economia',\n",
              " 'oliveira',\n",
              " 'codigos',\n",
              " 'quebrados',\n",
              " 'independente',\n",
              " 'exchange',\n",
              " 'ainda',\n",
              " 'focos',\n",
              " 'apresentaremos',\n",
              " 'justin',\n",
              " 'prazer',\n",
              " 'suar',\n",
              " 'two',\n",
              " 'acerta',\n",
              " 'conflito',\n",
              " 'marca',\n",
              " 'datetime',\n",
              " 'cabecear',\n",
              " 'convivência',\n",
              " 'levava',\n",
              " 'elaborados',\n",
              " 'yahama',\n",
              " 'fluiu',\n",
              " 'politécnica',\n",
              " 'sucessivamente',\n",
              " 'erick',\n",
              " 'velha',\n",
              " 'entusiastas',\n",
              " 'conhecendo',\n",
              " 'intervalo',\n",
              " 'rts',\n",
              " 'vestindo',\n",
              " 'agrupamento',\n",
              " 'gratuitas',\n",
              " 'autoanálise',\n",
              " 'plano',\n",
              " 'chown',\n",
              " 'devices',\n",
              " 'fact',\n",
              " 'respeitados',\n",
              " 'changes',\n",
              " 'ftp',\n",
              " 'secos',\n",
              " 'acorda',\n",
              " 'invadido',\n",
              " 'chamo',\n",
              " 'substituídos',\n",
              " 'setbuf',\n",
              " 'garamond',\n",
              " 'plataformas',\n",
              " 'viciado',\n",
              " 'binários',\n",
              " 'jornal',\n",
              " 'parceiros',\n",
              " 'progressão',\n",
              " 'escolheu',\n",
              " 'superficiais',\n",
              " 'canhoto',\n",
              " 'dedique',\n",
              " 'pedras',\n",
              " 'phonegap',\n",
              " 'mitos',\n",
              " 'agregar',\n",
              " 'repensando',\n",
              " 'relativa',\n",
              " 'reflexão',\n",
              " 'estaríamos',\n",
              " 'controla',\n",
              " 'iii',\n",
              " 'toolbox',\n",
              " 'optem',\n",
              " 'delírios',\n",
              " 'induz',\n",
              " 'am',\n",
              " 'opacity',\n",
              " 'apoiado',\n",
              " 'aceleração',\n",
              " 'devs',\n",
              " 'gratuitamente',\n",
              " 'folga',\n",
              " 'necessários',\n",
              " 'automático',\n",
              " 'influenciada',\n",
              " 'precisarão',\n",
              " 'memoráveis',\n",
              " 'característica',\n",
              " 'acadêmico',\n",
              " 'lacuna',\n",
              " 'carteiros',\n",
              " 'complementação',\n",
              " 'propomos',\n",
              " 'ajustou',\n",
              " 'transmitem',\n",
              " 'fenômenos',\n",
              " 'áreas',\n",
              " 'varios',\n",
              " 'achavam',\n",
              " 'bouncein',\n",
              " 'bitolado',\n",
              " 'hardwares',\n",
              " 'developers',\n",
              " 'subdiretórios',\n",
              " 'narrativas',\n",
              " 'compile',\n",
              " 'input',\n",
              " 'internet',\n",
              " 'spotify',\n",
              " 'emigração',\n",
              " 'nós',\n",
              " 'sede',\n",
              " 'inéditas',\n",
              " 'humor',\n",
              " 'utilizarmos',\n",
              " 'valiosos',\n",
              " 'battoni',\n",
              " 'efeito',\n",
              " 'hci',\n",
              " 'eita',\n",
              " 'formulários',\n",
              " 'suposições',\n",
              " 'marcobrunobr',\n",
              " 'thalles',\n",
              " 'doctor',\n",
              " 'cadeia',\n",
              " 'poder',\n",
              " 'meunamespace',\n",
              " 'acham',\n",
              " 'bimestre',\n",
              " 'relacional',\n",
              " 'fita',\n",
              " 'impor',\n",
              " 'sejam',\n",
              " 'tornam',\n",
              " 'eis',\n",
              " 'impressos',\n",
              " 'detalhar',\n",
              " 'potter',\n",
              " 'cativante',\n",
              " 'economizaria',\n",
              " 'sec',\n",
              " 'realizar',\n",
              " 'siga',\n",
              " 'pesado',\n",
              " 'incontável',\n",
              " 'alocou',\n",
              " 'textview',\n",
              " 'usariam',\n",
              " 'changed',\n",
              " 'contrataram',\n",
              " 'tratada',\n",
              " 'otimizará',\n",
              " 'comportamentais',\n",
              " 'freqüente',\n",
              " 'tornando',\n",
              " 'contente',\n",
              " 'finalizou',\n",
              " 'controlamos',\n",
              " 'estadunidenses',\n",
              " 'retrabalho',\n",
              " 'assumimos',\n",
              " 'spacex',\n",
              " 'adivinhar',\n",
              " 'manuais',\n",
              " 'iterador',\n",
              " 'utilizei',\n",
              " 'título',\n",
              " 'aspectos',\n",
              " 'crises',\n",
              " 'artigos',\n",
              " 'informamos',\n",
              " 'refazer',\n",
              " 'um',\n",
              " 'como',\n",
              " 'vivem',\n",
              " 'altíssimo',\n",
              " 'produção',\n",
              " 'squirrel',\n",
              " 'possuem',\n",
              " 'prefeitura',\n",
              " 'definidas',\n",
              " 'representava',\n",
              " 'avançou',\n",
              " 'janela',\n",
              " 'mercados',\n",
              " 'directory',\n",
              " 'todavia',\n",
              " 'toques',\n",
              " 'mensagem',\n",
              " 'concentrador',\n",
              " 'esquerdo',\n",
              " 'comigo',\n",
              " 'elaborada',\n",
              " 'holanda',\n",
              " 'karbon',\n",
              " 'highsmith',\n",
              " 'registros',\n",
              " 'descobre',\n",
              " 'cabeçalho',\n",
              " 'vitrines',\n",
              " 'canudo',\n",
              " 'programadoras',\n",
              " 'repare',\n",
              " 'mande',\n",
              " 'brainstorm',\n",
              " 'psicólogo',\n",
              " 'desliga',\n",
              " 'governo',\n",
              " 'atras',\n",
              " 'conseguiu',\n",
              " 'beans',\n",
              " 'atendendo',\n",
              " 'janelas',\n",
              " 'reformulamos',\n",
              " 'inflate',\n",
              " 'apaguem',\n",
              " 'tipada',\n",
              " 'vinha',\n",
              " 'indo',\n",
              " 'aleatória',\n",
              " 'odontologia',\n",
              " 'assignment',\n",
              " 'coringa',\n",
              " 'maravilhas',\n",
              " 'not',\n",
              " 'continuaram',\n",
              " 'emergindo',\n",
              " 'gravam',\n",
              " 'vislumbrar',\n",
              " 'respectivo',\n",
              " 'scheme',\n",
              " 'incentivando',\n",
              " 'intensificar',\n",
              " 'órgãos',\n",
              " 'desenvolvermos',\n",
              " 'colaborativa',\n",
              " 'acessórios',\n",
              " 'multidão',\n",
              " 'representada',\n",
              " 'ômega',\n",
              " 'escolhido',\n",
              " 'linearidade',\n",
              " 'restaurados',\n",
              " 'reverter',\n",
              " 'logaritmos',\n",
              " 'parques',\n",
              " 'properties',\n",
              " 'slipt',\n",
              " 'abraçam',\n",
              " 'subestimar',\n",
              " 'configurarmos',\n",
              " 'necessariamente',\n",
              " 'complicar',\n",
              " 'múltipla',\n",
              " 'suportadas',\n",
              " 'instalando',\n",
              " 'formalize',\n",
              " 'boot',\n",
              " 'hierárquico',\n",
              " 'herança',\n",
              " 'recomendado',\n",
              " 'cenários',\n",
              " 'preco',\n",
              " 'junto',\n",
              " 'tire',\n",
              " 'vue',\n",
              " 'individual',\n",
              " 'julio',\n",
              " 'sobem',\n",
              " 'jta',\n",
              " 'medalhas',\n",
              " 'master',\n",
              " 'lenta',\n",
              " 'selecionados',\n",
              " 'malsucedidas',\n",
              " 'edições',\n",
              " 'reunidos',\n",
              " 'rankeie',\n",
              " 'desejado',\n",
              " 'estudaram',\n",
              " 'raspando',\n",
              " 'teriamos',\n",
              " 'substituirá',\n",
              " 'notificações',\n",
              " 'git',\n",
              " 'experiente',\n",
              " 'macintosh',\n",
              " 'agradecer',\n",
              " 'humanizados',\n",
              " 'recorrência',\n",
              " 'encaixar',\n",
              " 'enquetes',\n",
              " 'transmitir',\n",
              " 'participar',\n",
              " 'aprendidas',\n",
              " 'irão',\n",
              " 'pensamento',\n",
              " 'levam',\n",
              " 'minimalismo',\n",
              " 'pintou',\n",
              " 'desejava',\n",
              " 'active',\n",
              " 'so',\n",
              " 'bart',\n",
              " 'processar',\n",
              " 'reforçará',\n",
              " 'dan',\n",
              " 'território',\n",
              " 'projeções',\n",
              " 'liberta',\n",
              " 'copaso',\n",
              " 'person',\n",
              " 'fluminense',\n",
              " 'mim',\n",
              " 'arredondado',\n",
              " 'piscar',\n",
              " 'conseguirmos',\n",
              " 'paginas',\n",
              " 'sanções',\n",
              " 'verdana',\n",
              " 'duas',\n",
              " 'diminuído',\n",
              " 'where',\n",
              " 'portal',\n",
              " 'contratual',\n",
              " 'shimomura',\n",
              " 'estando',\n",
              " 'trabalhadas',\n",
              " 'inalizada',\n",
              " 'gere',\n",
              " 'umbler',\n",
              " 'been',\n",
              " 'setsmallicon',\n",
              " 'cpython',\n",
              " 'vetorizados',\n",
              " 'especializar',\n",
              " 'existiam',\n",
              " 'envolvemos',\n",
              " 'ayarza',\n",
              " 'aquém',\n",
              " 'copiarem',\n",
              " 'sabíamos',\n",
              " 'deitar',\n",
              " 'divididos',\n",
              " 'filtrando',\n",
              " 'vishing',\n",
              " 'preferenceactivity',\n",
              " 'jornalista',\n",
              " 'sinalizado',\n",
              " 'administrativo',\n",
              " 'coreldraw',\n",
              " 'senti',\n",
              " 'mencionamos',\n",
              " 'testável',\n",
              " 'perfeito',\n",
              " 'departamento',\n",
              " 'reseta',\n",
              " 'modalidades',\n",
              " 'figurino',\n",
              " 'seriedade',\n",
              " 'declarada',\n",
              " 'capacitado',\n",
              " 'enriquecer',\n",
              " 'compõe',\n",
              " 'pote',\n",
              " 'ditando',\n",
              " 'nowledge',\n",
              " 'dono',\n",
              " 'delongas',\n",
              " 'fatos',\n",
              " 'cabe',\n",
              " 'transactions',\n",
              " 'criamos',\n",
              " 'receberá',\n",
              " 'emails',\n",
              " 'experimentando',\n",
              " 'arriscar',\n",
              " 'metálicos',\n",
              " 'mental',\n",
              " 'barrados',\n",
              " 'exploraremos',\n",
              " 'laranja',\n",
              " 'demore',\n",
              " 'apresentará',\n",
              " 'adicionaram',\n",
              " 'echo',\n",
              " 'agregarem',\n",
              " 'tiver',\n",
              " 'vcf',\n",
              " 'funil',\n",
              " 'enfrentava',\n",
              " 'mostrarsplash',\n",
              " 'imaginem',\n",
              " 'hibridas',\n",
              " 'pranchas',\n",
              " 'saving',\n",
              " 'run',\n",
              " 'formandas',\n",
              " 'nextint',\n",
              " 'pmbok',\n",
              " 'apresente',\n",
              " 'file',\n",
              " 'satisfaz',\n",
              " 'tática',\n",
              " 'atraído',\n",
              " 'jpa',\n",
              " 'modificam',\n",
              " 'provou',\n",
              " 'devemos',\n",
              " 'hostname',\n",
              " 'efetuada',\n",
              " 'impactará',\n",
              " 'graphicsfuel',\n",
              " 'globalmente',\n",
              " 'caberá',\n",
              " 'documento',\n",
              " 'language',\n",
              " 'matches',\n",
              " 'jornalismo',\n",
              " 'guiado',\n",
              " 'produtivamente',\n",
              " 'us',\n",
              " 'associando',\n",
              " 'perdas',\n",
              " 'modifiers',\n",
              " 'personalizadas',\n",
              " 'callback',\n",
              " 'diretores',\n",
              " 'icônica',\n",
              " 'coca',\n",
              " 'orientamos',\n",
              " 'fracas',\n",
              " 'usarmos',\n",
              " 'obsessiva',\n",
              " 'ocorria',\n",
              " 'popularmos',\n",
              " 'carro',\n",
              " 'ocupariam',\n",
              " 'engraçadinhos',\n",
              " 'miniblog',\n",
              " 'poderia',\n",
              " 'offline',\n",
              " 'eficientes',\n",
              " 'intersecção',\n",
              " 'fazenda',\n",
              " 'valeu',\n",
              " 'techweek',\n",
              " 'imprimiu',\n",
              " 'otimizada',\n",
              " 'souber',\n",
              " 'condiz',\n",
              " 'sequence',\n",
              " 'atinge',\n",
              " 'frear',\n",
              " 'sanar',\n",
              " 'altair',\n",
              " 'testcarrinhodecompras',\n",
              " 'room',\n",
              " 'acho',\n",
              " 'gramaticalmente',\n",
              " 'visível',\n",
              " 'reiniciado',\n",
              " 'devem',\n",
              " 'jean',\n",
              " 'subject',\n",
              " 'atuação',\n",
              " 'gigantesca',\n",
              " 'removemos',\n",
              " 'sentar',\n",
              " 'isso',\n",
              " 'ótimas',\n",
              " 'validaemail',\n",
              " 'macêdo',\n",
              " 'advanced',\n",
              " 'service',\n",
              " 'grau',\n",
              " 'categorizar',\n",
              " 'if',\n",
              " 'apaixonar',\n",
              " 'valorminusculo',\n",
              " 'quebras',\n",
              " 'autodidatas',\n",
              " 'escape',\n",
              " 'destacado',\n",
              " 'impedimento',\n",
              " 'densos',\n",
              " 'demorará',\n",
              " 'congestionamento',\n",
              " 'explicitamente',\n",
              " 'treinos',\n",
              " 'ousado',\n",
              " 'mantemos',\n",
              " 'delegates',\n",
              " 'verifiquem',\n",
              " 'favoritas',\n",
              " 'ofertam',\n",
              " 'tivemos',\n",
              " 'national',\n",
              " 'modificaremos',\n",
              " 'alteram',\n",
              " 'animadas',\n",
              " 'trocarmos',\n",
              " 'compromisso',\n",
              " 'monday',\n",
              " 'mentor',\n",
              " 'organizacionais',\n",
              " 'reorganize',\n",
              " ...}"
            ]
          },
          "metadata": {},
          "execution_count": 18
        }
      ]
    },
    {
      "cell_type": "code",
      "source": [
        "# Contando a quantidade de palavras\n",
        "\n",
        "len(set(lista_normalizada))"
      ],
      "metadata": {
        "colab": {
          "base_uri": "https://localhost:8080/"
        },
        "id": "1TtPo0xkeVew",
        "outputId": "a0017b34-23d0-47b2-8c87-f61d13dc2a05"
      },
      "execution_count": 19,
      "outputs": [
        {
          "output_type": "execute_result",
          "data": {
            "text/plain": [
              "18464"
            ]
          },
          "metadata": {},
          "execution_count": 19
        }
      ]
    },
    {
      "cell_type": "markdown",
      "source": [
        "Executando o código, obteremos a quantidade de 18.464 de tipos diferentes, o que é um valor bastante interessante.\n",
        "\n",
        "Este será o número de palavras que nosso corretor ortográfico aprenderá a corrigir, lembrando que temos um total de 403.031 vocábulos no texto."
      ],
      "metadata": {
        "id": "-D7FNDBIfLQz"
      }
    },
    {
      "cell_type": "markdown",
      "source": [
        "# Detalhando o corretor"
      ],
      "metadata": {
        "id": "BOVoiGwSgJ_U"
      }
    },
    {
      "cell_type": "markdown",
      "source": [
        "Relembrando como nosso corretor ortográfico funcionará, queremos que este receba o termo \"lgica\" escrito erroneamente e que devolva-o corrigido para \"lógica\".\n",
        "\n",
        "Descobrimos a palavra correta porque está entre os mais de 17.000 vocábulos conhecidos pela contagem feita anteriormente.\n",
        "\n",
        "Porém, ainda não implementamos a transição de “lgica” para “lógica” de fato.\n",
        "\n",
        "Pegaremos a palavra digitada errada e geraremos novas palavras, onde uma delas poderá ser a correta. Neste nosso problema específico, temos a letra \"ó\" a menos.\n",
        "\n",
        "Nosso modelo de NLP precisará de um algoritmo capaz de inserir uma letra a mais neste termo digitado equivocadamente.\n",
        "\n",
        "No Processamento de Linguagem Natural, temos a entrada da palavra equivocada e a saída da correta. Entre esses pontos, elaboramos uma tabela com três colunas representando os passos da correção deste algoritmo que desenvolveremos."
      ],
      "metadata": {
        "id": "6L9C91VSguyz"
      }
    },
    {
      "cell_type": "markdown",
      "source": [
        "<table><thead><tr><th>ESQUERDO</th><th>DIREITO</th><th>OPERAÇÃO</th><th>RESULTADO</th></tr></thead><tbody><tr><td>null</td><td>lgica</td><td>null + ó + lgica</td><td>óligca</td></tr><tr><td>l</td><td>gica</td><td>l + ó + gica</td><td><strong>lógica</strong></td></tr><tr><td>lg</td><td>ica</td><td>lg + ó + ica</td><td>lgóica</td></tr><tr><td>lgi</td><td>ca</td><td>lgi + ó + ca</td><td>lgióca</td></tr><tr><td>lgic</td><td>a</td><td>lgic + ó + a</td><td>lgicóa</td></tr><tr><td>lgica</td><td>null</td><td>lgica + ó + null</td><td>lgicaó</td></tr></tbody></table>"
      ],
      "metadata": {
        "id": "4RRm5kgvje7r"
      }
    },
    {
      "cell_type": "markdown",
      "source": [
        "Neste passo, transformaremos o algoritmo no formato de tabela em código.\n",
        "\n",
        "Como resultado das operações, geraremos novas palavras candidatas à correção. Então começaremos definindo a função gerador_palavras()."
      ],
      "metadata": {
        "id": "1zDLl-Bpj9PA"
      }
    },
    {
      "cell_type": "markdown",
      "source": [
        "Então construiremos um algoritmo que fatiará a palavra. Em Python, poderemos utilizar o mesmo conceito de Fatiamento de Listas para strings.\n",
        "\n",
        "Para acessarmos um elemento, chamaremos a lista[] na linha seguinte e abriremos colchetes para passarmos o index da posição que queremos. Neste caso, acessaremos o primeiro item da lista passando apenas o valor 0."
      ],
      "metadata": {
        "id": "j5W9bvQqlbKV"
      }
    },
    {
      "cell_type": "code",
      "source": [
        "lista = [1,2,3]\n",
        "lista[0]"
      ],
      "metadata": {
        "colab": {
          "base_uri": "https://localhost:8080/"
        },
        "id": "8rzWBEqPlh6y",
        "outputId": "1e689a5b-ffbf-48c9-a928-da37f8adab82"
      },
      "execution_count": 20,
      "outputs": [
        {
          "output_type": "execute_result",
          "data": {
            "text/plain": [
              "1"
            ]
          },
          "metadata": {},
          "execution_count": 20
        }
      ]
    },
    {
      "cell_type": "markdown",
      "source": [
        "Se quisermos o último dos três elementos, o index é 2. Com isso, além de acessarmos, poderemos fatiar a lista pegando do primeiro item ao último.\n",
        "\n",
        "Se precisarmos retornar o elemento de posição 1 até 2 com : entre os valores de lista[], receberemos 2 como resultado, e não 3 como o esperado.\n",
        "\n",
        "Isso aconteceu porque o sistema sempre retornará a posição anterior, ou seja, pegará até a posição 1 ao invés da 2. Então, para retornarmos o último elemento, passaremos um número a mais, neste caso 3."
      ],
      "metadata": {
        "id": "1hIjmzlgloKZ"
      }
    },
    {
      "cell_type": "code",
      "source": [
        "lista = [1,2,3]\n",
        "lista[1:3]"
      ],
      "metadata": {
        "colab": {
          "base_uri": "https://localhost:8080/"
        },
        "id": "jYPaoI7ilphI",
        "outputId": "eaa70ba0-2d38-438e-cf87-c82d28eb6671"
      },
      "execution_count": 21,
      "outputs": [
        {
          "output_type": "execute_result",
          "data": {
            "text/plain": [
              "[2, 3]"
            ]
          },
          "metadata": {},
          "execution_count": 21
        }
      ]
    },
    {
      "cell_type": "markdown",
      "source": [
        "Com isso, teremos fatiado a lista entre os elementos 2 e 3 como queríamos.\n",
        "\n",
        "Faremos algo similar com a string. Passaremos \"lgica\" para a variável lista ao invés de [1,2,3], e pegaremos as posições 1 relativa ao \"l\" até a 2 que é o \"i\" dentro de lista[]."
      ],
      "metadata": {
        "id": "PfLOnELwlwUn"
      }
    },
    {
      "cell_type": "code",
      "source": [
        "lista = \"lgica\"\n",
        "lista[1:3]"
      ],
      "metadata": {
        "colab": {
          "base_uri": "https://localhost:8080/",
          "height": 0
        },
        "id": "brL_biMflyxP",
        "outputId": "f2fd9db3-872e-4f5e-efba-b394d5d7f551"
      },
      "execution_count": 22,
      "outputs": [
        {
          "output_type": "execute_result",
          "data": {
            "text/plain": [
              "'gi'"
            ],
            "application/vnd.google.colaboratory.intrinsic+json": {
              "type": "string"
            }
          },
          "metadata": {},
          "execution_count": 22
        }
      ]
    },
    {
      "cell_type": "markdown",
      "source": [
        "Como retorno, receberemos a parte 'gi' da palavra.\n",
        "\n",
        "Portanto, trabalhamos com Fatiamento de strings da mesma maneira feita com listas, o que nos ajudará bastante.\n",
        "\n",
        "Para entendermos melhor como fatiaremos as palavras, precisaremos pegar o lado direito e esquerdo por meio da criação de uma tupla, colocando a lista[] entre parênteses.\n",
        "\n",
        "O primeiro elemento da tupla será representado pela primeira parte do lado esquerdo e o segundo pela segunda fatia."
      ],
      "metadata": {
        "id": "Uu20RjIml5-0"
      }
    },
    {
      "cell_type": "code",
      "source": [
        "lista = \"lgica\"\n",
        "(lista[:1],lista[1:])"
      ],
      "metadata": {
        "colab": {
          "base_uri": "https://localhost:8080/"
        },
        "id": "Di3--Fi-l75x",
        "outputId": "9249a956-3ba6-457e-bdc3-94b3a47b5836"
      },
      "execution_count": 23,
      "outputs": [
        {
          "output_type": "execute_result",
          "data": {
            "text/plain": [
              "('l', 'gica')"
            ]
          },
          "metadata": {},
          "execution_count": 23
        }
      ]
    },
    {
      "cell_type": "markdown",
      "source": [
        "O retorno com o lado esquerdo da primeira posição é o 'l' e do lado direito é o 'gica'. Em seguida, poderemos apenas variar os números das partes da tupla."
      ],
      "metadata": {
        "id": "fVUgLUermBPh"
      }
    },
    {
      "cell_type": "code",
      "source": [
        "palavra_exemplo = \"lgica\"\n",
        "def gerador_palavras(palavra):\n",
        "    fatias = []\n",
        "    for i in range(len(palavra)):\n",
        "        fatias.append((lista[:i],lista[i:]))\n",
        "    print(fatias)\n",
        "    #palavras_geradas = insere_letras(fatias)\n",
        "    #return palavras_geradas\n",
        "\n",
        "gerador_palavras(palavra_exemplo)"
      ],
      "metadata": {
        "colab": {
          "base_uri": "https://localhost:8080/"
        },
        "id": "VOBLxem8efW4",
        "outputId": "e625e57b-d931-4175-ce07-6cdad1a86cb6"
      },
      "execution_count": 24,
      "outputs": [
        {
          "output_type": "stream",
          "name": "stdout",
          "text": [
            "[('', 'lgica'), ('l', 'gica'), ('lg', 'ica'), ('lgi', 'ca'), ('lgic', 'a')]\n"
          ]
        }
      ]
    },
    {
      "cell_type": "markdown",
      "source": [
        "No exemplo de Fatiamento que fizemos no início, vimos que é preciso adicionar um número a mais para pegarmos o último caractere da string. Da mesma forma, adicionaremos +1 ao len() da palavra dentro de range()."
      ],
      "metadata": {
        "id": "lIyDUI2LnRva"
      }
    },
    {
      "cell_type": "code",
      "source": [
        "palavra_exemplo = \"lgica\"\n",
        "def gerador_palavras(palavra):\n",
        "    fatias = []\n",
        "    for i in range(len(palavra)+1):\n",
        "        fatias.append((lista[:i],lista[i:]))\n",
        "    print(fatias)\n",
        "    #palavras_geradas = insere_letras(fatias)\n",
        "    #return palavras_geradas\n",
        "\n",
        "gerador_palavras(palavra_exemplo)"
      ],
      "metadata": {
        "colab": {
          "base_uri": "https://localhost:8080/"
        },
        "id": "cerf6ytcnTJ4",
        "outputId": "2cb8be9d-c76b-4942-c6ac-965924473e80"
      },
      "execution_count": 25,
      "outputs": [
        {
          "output_type": "stream",
          "name": "stdout",
          "text": [
            "[('', 'lgica'), ('l', 'gica'), ('lg', 'ica'), ('lgi', 'ca'), ('lgic', 'a'), ('lgica', '')]\n"
          ]
        }
      ]
    },
    {
      "cell_type": "markdown",
      "source": [
        "Com isso, receberemos os mesmos seis resultados de palavras fatiadas que podem ser vistos na tabela, sendo o último ('lgica','') como esperado."
      ],
      "metadata": {
        "id": "qsW-0DQCnaNO"
      }
    },
    {
      "cell_type": "markdown",
      "source": [
        "Continuando, a função insere_letras() receberá as fatias da palavra e retornará as novas combinações."
      ],
      "metadata": {
        "id": "1HOka9U1nxwz"
      }
    },
    {
      "cell_type": "markdown",
      "source": [
        "# Inserir caracteres"
      ],
      "metadata": {
        "id": "Q8uDZvtyDy9Y"
      }
    },
    {
      "cell_type": "markdown",
      "source": [
        "Em seu corpo, criaremos a variável novas_palavras sendo igual a uma lista vazia [].\n",
        "\n",
        "Dentro, inseriremos a operação que criará a palavra; novas_palavras com .append() receberá E representando o lado esquerdo, somado com a letra a ser inserida entre as partes, mais o D do lado direito. Porém, ainda não temos nenhum desses elementos definidos.\n",
        "\n",
        "Primeiramente, definiremos as letras sendo igual a todas as letras do alfabeto e as vogais acentuadas juntas, e deveremos passar por cada caractere durante a operação.\n",
        "\n",
        "Para isso, faremos um forde letra em letras, e realizaremos a operação dentro deste laço da variável novas_palavras.\n",
        "\n",
        "Para definirmos o E e o D que representam cada parte da palavra, adicionaremos mais um for pegando os lados E, D em fatias, as quais retornam as tuplas.\n",
        "\n",
        "Para cada um dos lados, realizaremos o for de letra feito antes."
      ],
      "metadata": {
        "id": "Nh1MbwOjn4Hc"
      }
    },
    {
      "cell_type": "code",
      "source": [
        "def insere_letras(fatias):\n",
        "    novas_palavras = []\n",
        "    letras = 'abcdefghijklmnopqrstuvwxyzàáâãèéêìíîòóôõùúûç'\n",
        "    for E, D in fatias:\n",
        "        for letra in letras:\n",
        "            novas_palavras.append(E + letra + D)\n",
        "    return novas_palavras"
      ],
      "metadata": {
        "id": "K1e9s1-Vk9HZ"
      },
      "execution_count": 26,
      "outputs": []
    },
    {
      "cell_type": "markdown",
      "source": [
        "Organizaremos os trechos de código em uma única célula para executarmos todos os comandos de uma vez."
      ],
      "metadata": {
        "id": "Bg6elqsqoj5z"
      }
    },
    {
      "cell_type": "code",
      "source": [
        "palavra_exemplo = \"lgica\"\n",
        "\n",
        "def insere_letras(fatias):\n",
        "    novas_palavras = []\n",
        "    letras = 'abcdefghijklmnopqrstuvwxyzàáâãèéêìíîòóôõùúûç'\n",
        "    for E, D in fatias:\n",
        "        for letra in letras:\n",
        "            novas_palavras.append(E + letra + D)\n",
        "        return novas_palavras\n",
        "\n",
        "def gerador_palavras(palavra):\n",
        "    fatias = []\n",
        "    for i in range(len(palavra)+1):\n",
        "        fatias.append((palavra[:i],palavra[i:]))\n",
        "    palavras_geradas = insere_letras(fatias)\n",
        "    return palavras_geradas\n",
        "\n",
        "palavras_geradas = gerador_palavras(palavra_exemplo)\n",
        "print(palavras_geradas)"
      ],
      "metadata": {
        "colab": {
          "base_uri": "https://localhost:8080/"
        },
        "id": "kmXNCa0iolkF",
        "outputId": "f232f669-06fd-4f2e-a735-a432df5348c0"
      },
      "execution_count": 27,
      "outputs": [
        {
          "output_type": "stream",
          "name": "stdout",
          "text": [
            "['algica', 'blgica', 'clgica', 'dlgica', 'elgica', 'flgica', 'glgica', 'hlgica', 'ilgica', 'jlgica', 'klgica', 'llgica', 'mlgica', 'nlgica', 'olgica', 'plgica', 'qlgica', 'rlgica', 'slgica', 'tlgica', 'ulgica', 'vlgica', 'wlgica', 'xlgica', 'ylgica', 'zlgica', 'àlgica', 'álgica', 'âlgica', 'ãlgica', 'èlgica', 'élgica', 'êlgica', 'ìlgica', 'ílgica', 'îlgica', 'òlgica', 'ólgica', 'ôlgica', 'õlgica', 'ùlgica', 'úlgica', 'ûlgica', 'çlgica']\n"
          ]
        }
      ]
    },
    {
      "cell_type": "markdown",
      "source": [
        "Com isso, geramos um conjunto com todas as possibilidades de correção, ou seja, a palavra separada em duas partes com inserção de letras no meio, formando novas palavras."
      ],
      "metadata": {
        "id": "TseCpMaUotSX"
      }
    },
    {
      "cell_type": "markdown",
      "source": [
        "De volta ao nosso código, faremos uma pequena correção na função gerador_palavras(). Dentro do for, substituiremos o termo lista por palavra na tupla dentro de append()."
      ],
      "metadata": {
        "id": "pzgvvz5jqJJG"
      }
    },
    {
      "cell_type": "code",
      "source": [
        "palavra_exemplo = \"lgica\"\n",
        "\n",
        "def insere_letras(fatias):\n",
        "    novas_palavras = []\n",
        "    letras = 'abcdefghijklmnopqrstuvwxyzàáâãèéêìíîòóôõùúûç'\n",
        "    for E, D in fatias:\n",
        "        for letra in letras:\n",
        "            novas_palavras.append(E + letra + D)\n",
        "    return novas_palavras\n",
        "\n",
        "def gerador_palavras(palavra):\n",
        "    fatias = []\n",
        "    for i in range(len(palavra)+1):\n",
        "        fatias.append((palavra[:i],palavra[i:])) # Correção\n",
        "    palavras_geradas = insere_letras(fatias)\n",
        "    return palavras_geradas\n",
        "\n",
        "palavras_geradas = gerador_palavras(palavra_exemplo)\n",
        "print(palavras_geradas)\n"
      ],
      "metadata": {
        "colab": {
          "base_uri": "https://localhost:8080/"
        },
        "id": "-3h1Oq91ou4b",
        "outputId": "423767db-d3e7-4cf5-9dcb-840c2b948232"
      },
      "execution_count": 28,
      "outputs": [
        {
          "output_type": "stream",
          "name": "stdout",
          "text": [
            "['algica', 'blgica', 'clgica', 'dlgica', 'elgica', 'flgica', 'glgica', 'hlgica', 'ilgica', 'jlgica', 'klgica', 'llgica', 'mlgica', 'nlgica', 'olgica', 'plgica', 'qlgica', 'rlgica', 'slgica', 'tlgica', 'ulgica', 'vlgica', 'wlgica', 'xlgica', 'ylgica', 'zlgica', 'àlgica', 'álgica', 'âlgica', 'ãlgica', 'èlgica', 'élgica', 'êlgica', 'ìlgica', 'ílgica', 'îlgica', 'òlgica', 'ólgica', 'ôlgica', 'õlgica', 'ùlgica', 'úlgica', 'ûlgica', 'çlgica', 'lagica', 'lbgica', 'lcgica', 'ldgica', 'legica', 'lfgica', 'lggica', 'lhgica', 'ligica', 'ljgica', 'lkgica', 'llgica', 'lmgica', 'lngica', 'logica', 'lpgica', 'lqgica', 'lrgica', 'lsgica', 'ltgica', 'lugica', 'lvgica', 'lwgica', 'lxgica', 'lygica', 'lzgica', 'làgica', 'lágica', 'lâgica', 'lãgica', 'lègica', 'légica', 'lêgica', 'lìgica', 'lígica', 'lîgica', 'lògica', 'lógica', 'lôgica', 'lõgica', 'lùgica', 'lúgica', 'lûgica', 'lçgica', 'lgaica', 'lgbica', 'lgcica', 'lgdica', 'lgeica', 'lgfica', 'lggica', 'lghica', 'lgiica', 'lgjica', 'lgkica', 'lglica', 'lgmica', 'lgnica', 'lgoica', 'lgpica', 'lgqica', 'lgrica', 'lgsica', 'lgtica', 'lguica', 'lgvica', 'lgwica', 'lgxica', 'lgyica', 'lgzica', 'lgàica', 'lgáica', 'lgâica', 'lgãica', 'lgèica', 'lgéica', 'lgêica', 'lgìica', 'lgíica', 'lgîica', 'lgòica', 'lgóica', 'lgôica', 'lgõica', 'lgùica', 'lgúica', 'lgûica', 'lgçica', 'lgiaca', 'lgibca', 'lgicca', 'lgidca', 'lgieca', 'lgifca', 'lgigca', 'lgihca', 'lgiica', 'lgijca', 'lgikca', 'lgilca', 'lgimca', 'lginca', 'lgioca', 'lgipca', 'lgiqca', 'lgirca', 'lgisca', 'lgitca', 'lgiuca', 'lgivca', 'lgiwca', 'lgixca', 'lgiyca', 'lgizca', 'lgiàca', 'lgiáca', 'lgiâca', 'lgiãca', 'lgièca', 'lgiéca', 'lgiêca', 'lgiìca', 'lgiíca', 'lgiîca', 'lgiòca', 'lgióca', 'lgiôca', 'lgiõca', 'lgiùca', 'lgiúca', 'lgiûca', 'lgiçca', 'lgicaa', 'lgicba', 'lgicca', 'lgicda', 'lgicea', 'lgicfa', 'lgicga', 'lgicha', 'lgicia', 'lgicja', 'lgicka', 'lgicla', 'lgicma', 'lgicna', 'lgicoa', 'lgicpa', 'lgicqa', 'lgicra', 'lgicsa', 'lgicta', 'lgicua', 'lgicva', 'lgicwa', 'lgicxa', 'lgicya', 'lgicza', 'lgicàa', 'lgicáa', 'lgicâa', 'lgicãa', 'lgicèa', 'lgicéa', 'lgicêa', 'lgicìa', 'lgicía', 'lgicîa', 'lgicòa', 'lgicóa', 'lgicôa', 'lgicõa', 'lgicùa', 'lgicúa', 'lgicûa', 'lgicça', 'lgicaa', 'lgicab', 'lgicac', 'lgicad', 'lgicae', 'lgicaf', 'lgicag', 'lgicah', 'lgicai', 'lgicaj', 'lgicak', 'lgical', 'lgicam', 'lgican', 'lgicao', 'lgicap', 'lgicaq', 'lgicar', 'lgicas', 'lgicat', 'lgicau', 'lgicav', 'lgicaw', 'lgicax', 'lgicay', 'lgicaz', 'lgicaà', 'lgicaá', 'lgicaâ', 'lgicaã', 'lgicaè', 'lgicaé', 'lgicaê', 'lgicaì', 'lgicaí', 'lgicaî', 'lgicaò', 'lgicaó', 'lgicaô', 'lgicaõ', 'lgicaù', 'lgicaú', 'lgicaû', 'lgicaç']\n"
          ]
        }
      ]
    },
    {
      "cell_type": "markdown",
      "source": [
        "Como saída de palavras_geradas, teremos todas as palavras geradas por inserção.\n",
        "\n",
        "Precisaremos de uma função que indicará 'lógica' como a palavra correta dentre as demais. Na célula seguinte, definiremos corretor() recebendo a palavra.\n",
        "\n",
        "Quando recebermos a palavra equivocada, chamaremos a função gerador_palavras() com a palavra dentro da variável palavras_geradas. Por fim, o corretor() retornará a palavra_correta.\n",
        "\n",
        "Em seguida, a grande questão será como definiremos essa palavra_correta.\n",
        "\n",
        "Temos um arquivo de texto, e queremos verificar se um termo está correto ou não de acordo com sua existência em nossa base de dados. Também deveremos calcular suas probabilidades dentro do conjunto de palavras geradas, pegando a correta como a de máxima probabilidade.\n",
        "\n",
        "Para entendermos melhor, diremos que a palavra_correta é igual a função max() do Python, o qual retornará o elemento de máxima probabilidade.\n",
        "\n",
        "Passaremos palavras_geradas para o método, ou seja, as strings do conjunto resultantes da impressão desta variável.\n",
        "\n",
        "Porém, queremos a probabilidade de cada uma dessas palavras ser a correta. Por exemplo, os resultados 'álgica' ou 'glgica' não possuem chances de estarem certos.\n",
        "\n",
        "Portanto, a palavra 'lógica' provavelmente terá a maior probabilidade, ainda que seja possível que outro termo existente no vocabulário português tenha se formado com as operações.\n",
        "\n",
        "Para fazermos este cálculo dentro de max(), chamaremos a função probabilidade através do parâmetro key, a qual será construída mais adiante."
      ],
      "metadata": {
        "id": "2-rhN-MfqX_b"
      }
    },
    {
      "cell_type": "code",
      "source": [
        "def corretor(palavra):\n",
        "    palavras_geradas = gerador_palavras(palavra)\n",
        "    palavra_correta = max(palavras_geradas, key=probabilidade)\n",
        "    return palavra_correta"
      ],
      "metadata": {
        "id": "Q9NWG7KzqY5v"
      },
      "execution_count": 29,
      "outputs": []
    },
    {
      "cell_type": "markdown",
      "source": [
        "Desta maneira, retornaremos a palavra de maior probabilidade."
      ],
      "metadata": {
        "id": "1IO0-EH1qkpr"
      }
    },
    {
      "cell_type": "markdown",
      "source": [
        "Neste passo, calcularemos a probabilidade dos resultados gerados.\n",
        "\n",
        "Pra construirmos a função probabilidade() em uma nova célula, primeiro precisaremos fazer este cálculo com uma palavra; a frequência do termo “lógica” será a quantidade de vezes que este parece no texto em relação ao total de palavras. Para calcular, o nltk possui a função .FreqDist().\n",
        "\n",
        "Para isso, criaremos uma variável chamada frequência sendo igual ao método que calcula a Distribuição de Frequência dos vocábulos, e passaremos a lista_normalizada como parâmetro.\n",
        "\n",
        "Na linha seguinte, plotaremos os dez primeiros itens escrevendo frequencia com .most_common() recebendo 10."
      ],
      "metadata": {
        "id": "foilhQfRtUCo"
      }
    },
    {
      "cell_type": "code",
      "source": [
        "frequencia = nltk.FreqDist(lista_normalizada)\n",
        "frequencia.most_common(10)"
      ],
      "metadata": {
        "colab": {
          "base_uri": "https://localhost:8080/"
        },
        "id": "YY9zyVLUqlvy",
        "outputId": "bdca0db5-222e-42ee-be2e-0b06302dd301"
      },
      "execution_count": 30,
      "outputs": [
        {
          "output_type": "execute_result",
          "data": {
            "text/plain": [
              "[('de', 15502),\n",
              " ('o', 14056),\n",
              " ('que', 12230),\n",
              " ('a', 11099),\n",
              " ('e', 10501),\n",
              " ('para', 7710),\n",
              " ('um', 6367),\n",
              " ('é', 5899),\n",
              " ('uma', 5220),\n",
              " ('do', 5124)]"
            ]
          },
          "metadata": {},
          "execution_count": 30
        }
      ]
    },
    {
      "cell_type": "markdown",
      "source": [
        "Executando o código, criaremos uma lista com as dez palavras mais frequentes no corpus. Desta forma, acessaremos a frequência de cada uma utilizando a anotação de dicionário.\n",
        "\n",
        "Na célula seguinte, escreveremos frequencia[] e passaremos a palavra que queremos dentro dos colchetes, para então descobrirmos a frequência. Neste caso, passaremos o termo “lógica”."
      ],
      "metadata": {
        "id": "YXt6U5qmtx1u"
      }
    },
    {
      "cell_type": "code",
      "source": [
        "frequencia[\"lógica\"]"
      ],
      "metadata": {
        "colab": {
          "base_uri": "https://localhost:8080/"
        },
        "id": "2hPR7rL7ty8s",
        "outputId": "27a6ffe1-6606-4bf7-9c1d-6ccf6a6fb8bb"
      },
      "execution_count": 31,
      "outputs": [
        {
          "output_type": "execute_result",
          "data": {
            "text/plain": [
              "96"
            ]
          },
          "metadata": {},
          "execution_count": 31
        }
      ]
    },
    {
      "cell_type": "markdown",
      "source": [
        "Com isso, receberemos o valor de 87 vezes em que este vocábulo aparece no corpus.\n",
        "\n",
        "Em seguida, construiremos a função de probabilidade() com def na próxima célula, e passaremos a palavra_gerada. Apenas relembrando, a função max() calculou a probabilidade chamando probabilidade e passando a palavra gerada pelo gerador_palavras().\n",
        "\n",
        "O return desta função será a frequencia[] da palavra_gerada dividido pelo total_palavras.\n",
        "\n",
        "Em uma nova célula anterior a esta, criaremos a variável total_palavras sendo igual ao len() da lista_normalizada, da mesma forma como fizemos anteriormente para descobrirmos o valor de 17654 tipos diferentes de palavras."
      ],
      "metadata": {
        "id": "B9z_gSFDt2KO"
      }
    },
    {
      "cell_type": "code",
      "source": [
        "total_palavras = len(lista_normalizada)"
      ],
      "metadata": {
        "id": "3wx1GjMYt4-W"
      },
      "execution_count": 32,
      "outputs": []
    },
    {
      "cell_type": "code",
      "source": [
        "def probabilidade(palavra_gerada):\n",
        "    return frequencia[palavra_gerada]/total_palavras"
      ],
      "metadata": {
        "id": "I7uooXMPuFhN"
      },
      "execution_count": 33,
      "outputs": []
    },
    {
      "cell_type": "markdown",
      "source": [
        "Estamos utilizando uma variável global porque a probabilidade() será chamada constantemente para retornar apenas os valores.\n",
        "\n",
        "Para melhorarmos a visualização do código, recortaremos a linha de total_palavras e colaremos na mesma célula onde a frequencia foi definida anteriormente."
      ],
      "metadata": {
        "id": "TBFhZK7QuODq"
      }
    },
    {
      "cell_type": "code",
      "source": [
        "frequencia = nltk.FreqDist(lista_normalizada)\n",
        "total_palavras = len(lista_normalizada)\n",
        "frequencia.most_common(10)"
      ],
      "metadata": {
        "colab": {
          "base_uri": "https://localhost:8080/"
        },
        "id": "T2yaw8n5uOv-",
        "outputId": "b6497ddf-ba94-48e9-ca06-68f400cafb19"
      },
      "execution_count": 34,
      "outputs": [
        {
          "output_type": "execute_result",
          "data": {
            "text/plain": [
              "[('de', 15502),\n",
              " ('o', 14056),\n",
              " ('que', 12230),\n",
              " ('a', 11099),\n",
              " ('e', 10501),\n",
              " ('para', 7710),\n",
              " ('um', 6367),\n",
              " ('é', 5899),\n",
              " ('uma', 5220),\n",
              " ('do', 5124)]"
            ]
          },
          "metadata": {},
          "execution_count": 34
        }
      ]
    },
    {
      "cell_type": "markdown",
      "source": [
        "Também apagaremos a célula onde fizemos um teste com o termo \"lógica\" em frequencia[].\n",
        "\n",
        "Na função probabilidade(), calcularemos a probabilidade da palavra “lógica” no corpus, pois é a correta no caso do equívoco em \"lgica\"."
      ],
      "metadata": {
        "id": "y3fPvN9YuTAD"
      }
    },
    {
      "cell_type": "code",
      "source": [
        "def probabilidade(palavra_gerada):\n",
        "    return frequencia[palavra_gerada]/total_palavras\n",
        "\n",
        "probabilidade(\"lógica\")"
      ],
      "metadata": {
        "colab": {
          "base_uri": "https://localhost:8080/"
        },
        "id": "uHIzpDtjuU5q",
        "outputId": "91921497-73bc-4dfa-a405-ccc9d536b3b8"
      },
      "execution_count": 35,
      "outputs": [
        {
          "output_type": "execute_result",
          "data": {
            "text/plain": [
              "0.00023819507680550628"
            ]
          },
          "metadata": {},
          "execution_count": 35
        }
      ]
    },
    {
      "cell_type": "markdown",
      "source": [
        "Como retorno, teremos o número 0.00022 aproximadamente. Este valor pequeno se dá por conta do grande volume total de palavras, onde \"lógica\" aparece 87 vezes.\n",
        "\n",
        "Na célula seguinte, calcularemos a probabilidade de uma outra palavra, como “lagica” por exemplo, a qual foi gerada como candidata a correção pelo algoritmo de inserção."
      ],
      "metadata": {
        "id": "H0G0JikhuZ5r"
      }
    },
    {
      "cell_type": "code",
      "source": [
        "probabilidade(\"lagica\")"
      ],
      "metadata": {
        "colab": {
          "base_uri": "https://localhost:8080/"
        },
        "id": "S2QJB_ijuaoF",
        "outputId": "6f28a8a7-5318-4a55-8107-f7c50760723c"
      },
      "execution_count": 36,
      "outputs": [
        {
          "output_type": "execute_result",
          "data": {
            "text/plain": [
              "0.0"
            ]
          },
          "metadata": {},
          "execution_count": 36
        }
      ]
    },
    {
      "cell_type": "markdown",
      "source": [
        "Sua probabilidade será 0, afinal não há ocorrências deste termo no corpus. Ainda, a frequência da palavra “logica” sem acento é um número muito menor do que em relação à “lógica” com acento.\n",
        "\n",
        "Isso acontece porque a autora ou autor do texto eventualmente pode esquecer de adicionar a acentuação correta em uma palavra. Porém isso também é um erro de digitação, e aparecem com bem menos frequência do que a palavra correta.\n",
        "\n",
        "Portanto, nosso algoritmo será capaz de corrigir termos como \"lgica\" para “lógica”. Para testarmos, chamaremos a função corretor() com a palavra_exemplo."
      ],
      "metadata": {
        "id": "GJK_fVWrufCm"
      }
    },
    {
      "cell_type": "code",
      "source": [
        "corretor(palavra_exemplo)"
      ],
      "metadata": {
        "colab": {
          "base_uri": "https://localhost:8080/",
          "height": 0
        },
        "id": "CHwhRPvpucDN",
        "outputId": "abfb0205-0873-4962-f150-5f986e11f09a"
      },
      "execution_count": 37,
      "outputs": [
        {
          "output_type": "execute_result",
          "data": {
            "text/plain": [
              "'lógica'"
            ],
            "application/vnd.google.colaboratory.intrinsic+json": {
              "type": "string"
            }
          },
          "metadata": {},
          "execution_count": 37
        }
      ]
    },
    {
      "cell_type": "markdown",
      "source": [
        "A saída do corretor será justamente a palavra 'lógica' mais frequente, a qual é a correção para quando digitamos erroneamente “lgica”. Portanto, conseguimos completar o pipeline do corretor ortográfico para este primeiro exemplo.\n",
        "\n",
        "Porém, só estamos corrigindo o tipo de erro onde uma letra não foi digitada, o termo “lgica”, e é interessante tratarmos outros casos.\n",
        "\n",
        "Se por acaso digitarmos um caractere a mais, como \"lógicaa\" ou \"lógicca\" por exemplo, também deveremos ter outras operações que realizam a correção, além da inserção que já vimos."
      ],
      "metadata": {
        "id": "5M25eHmtup2L"
      }
    },
    {
      "cell_type": "markdown",
      "source": [
        "# Preparando dados de teste"
      ],
      "metadata": {
        "id": "An2uHnTa1Utr"
      }
    },
    {
      "cell_type": "markdown",
      "source": [
        "Nosso corretor já é capaz de corrigir um único tipo de erro, mas precisaremos ampliar os operações de correção para abranger mais casos equivocados.\n",
        "\n",
        "Para comprovarmos se realmente melhoramos a eficiência do algoritmo, compararemos os resultados do corretor inicial com a versão final.\n",
        "\n",
        "Porém, ainda precisamos avaliar o nosso modelo, pois só realizamos testes com a palavra “lógica” até agora.\n",
        "\n",
        "Então definiremos uma função chamada avaliador() que receberá alguns dados de teste, mas ainda não sabemos quais são e os descobriremos adiante. Por enquanto, os chamaremos de testes.\n",
        "\n",
        "Com isso, receberemos uma porcentagem da taxa de acerto do meu corretor, e a printaremos com a frase \"taxa de acerto\".\n",
        "\n",
        "Agora, precisaremos descobrir quais são esses dados recebidos, e para isso veremos a nossa base de dados palavras.txt preparada para teste.\n",
        "\n",
        "Teremos uma lista com diversas palavras em pares, onde a primeira é a correta e a segunda está errada.\n",
        "\n",
        "O avaliador() precisará receber a palavra incorreta, passá-la pelo corretor e verificar se este acertou o resultado.\n",
        "\n",
        "No Google Colab, importaremos os dados e os prepararemos para a função. Antes desta, definiremos cria_dados_teste() recebendo justamente a base de dados palavras.txt que será chamada de nome_arquivo.\n",
        "\n",
        "Como retorno, teremos uma lista_palavras_teste, a qual será criada sendo igual a uma lista vazia antes de return."
      ],
      "metadata": {
        "id": "pusFevJ11a07"
      }
    },
    {
      "cell_type": "code",
      "source": [
        "def cria_dados_teste(nome_arquivo):\n",
        "    lista_palavras_teste = []\n",
        "\n",
        "    return lista_palavras_teste\n",
        "\n",
        "def avaliador(testes):\n",
        "    print(\"taxa de acerto\")"
      ],
      "metadata": {
        "id": "xIeMQaLY1XHB"
      },
      "execution_count": 38,
      "outputs": []
    },
    {
      "cell_type": "markdown",
      "source": [
        "Queremos ler cada uma das linhas do arquivo .txt, separando o lado correto do incorreto. Logo, precisaremos criar duas variáveis: a correta e a errada. Chamaremos essa leitura como linha mesmo.\n",
        "\n",
        "Para separarmos as palavras por espaço, poderemos utilizar o método split(). Esta linha vem justamente da leitura do arquivo apelidada como f no início do curso.\n",
        "\n",
        "Manteremos esta mesma nomenclatura para sermos consistentes. Então criaremos a variável f sendo igual a open() recebendo o nome_arquivo. Para que fique aberto para leitura, adicionaremos \"r\" como segundo parâmetro.\n",
        "\n",
        "Em seguida, iremos iterar sobre o arquivo e leremos cada uma de suas linhas, fazendo um for em linha dentro de f. Quando realizarmos a iteração, transformaremos cada linha em uma string.\n",
        "\n",
        "Então, para cada uma delas no meu arquivo f, faremos a divisão entre correta e errada com .split() como já escrevemos.\n",
        "\n",
        "Realizaremos o .append() na lista_palavras_teste também, passando uma tupla onde o primeiro lado será a palavra correta e o segundo, a errada.\n",
        "\n",
        "Por fim, fecharemos o arquivo com f.close()."
      ],
      "metadata": {
        "id": "tYa5Tla01iLN"
      }
    },
    {
      "cell_type": "code",
      "source": [
        "def cria_dados_teste(nome_arquivo):\n",
        "    lista_palavras_teste = []\n",
        "    f = open(nome_arquivo, \"r\")\n",
        "    for linha in f:\n",
        "        correta, errada = linha.split()\n",
        "        lista_palavras_teste.append((correta, errada))\n",
        "    f.close()\n",
        "    return lista_palavras_teste\n",
        "\n",
        "def avaliador(testes):\n",
        "    print(\"taxa de acerto\")"
      ],
      "metadata": {
        "id": "fIxoT-y81lyS"
      },
      "execution_count": 39,
      "outputs": []
    },
    {
      "cell_type": "markdown",
      "source": [
        "Com isso, criamos a função que pegará os nossos dados e os preparará para avaliação.\n",
        "\n",
        "Falta-nos enviar a base de dados para as máquinas do Google, pois ainda não está disponível; expandiremos a aba lateral do Colab para fazermos o upload de palavras.txt. Ao fim do carregamento, conseguiremos utilizar o arquivo de fato.\n",
        "\n",
        "Em seguida, criaremos a variável lista_teste no lugar da definição do avaliador() que será apagado por enquanto. Essa lista receberá o retorno da função cria_dados_teste() com o \"palavras.txt\".\n",
        "\n",
        "Com isso, teremos as tuplas e poderemos avaliar nosso corretor com os dados da forma que precisamos."
      ],
      "metadata": {
        "id": "QE6y86vn1jPg"
      }
    },
    {
      "cell_type": "code",
      "source": [
        "def cria_dados_teste(nome_arquivo):\n",
        "    lista_palavras_teste = []\n",
        "    f = open(nome_arquivo, \"r\")\n",
        "    for linha in f:\n",
        "        correta, errada = linha.split()\n",
        "        lista_palavras_teste.append((correta, errada))\n",
        "    f.close()\n",
        "    return lista_palavras_teste\n",
        "\n",
        "lista_teste = cria_dados_teste(\"palavras.txt\")\n",
        "lista_teste"
      ],
      "metadata": {
        "colab": {
          "base_uri": "https://localhost:8080/"
        },
        "id": "gE166YM91pO5",
        "outputId": "09e9f174-53f3-4894-8b76-d5504f105ca0"
      },
      "execution_count": 40,
      "outputs": [
        {
          "output_type": "execute_result",
          "data": {
            "text/plain": [
              "[('podemos', 'pyodemos'),\n",
              " ('esse', 'esje'),\n",
              " ('já', 'jrá'),\n",
              " ('nosso', 'nossov'),\n",
              " ('são', 'sãêo'),\n",
              " ('dos', 'dosa'),\n",
              " ('muito', 'muifo'),\n",
              " ('imagem', 'iômagem'),\n",
              " ('sua', 'ósua'),\n",
              " ('também', 'tambéùm'),\n",
              " ('ele', 'eme'),\n",
              " ('fazer', 'èazer'),\n",
              " ('temos', 'temfs'),\n",
              " ('essa', 'eàssa'),\n",
              " ('quando', 'quaôdo'),\n",
              " ('vamos', 'vamvos'),\n",
              " ('sobre', 'hsobre'),\n",
              " ('java', 'sjava'),\n",
              " ('das', 'daõs'),\n",
              " ('agora', 'agorah'),\n",
              " ('está', 'eòtá'),\n",
              " ('cada', 'céda'),\n",
              " ('mesmo', 'zmesmo'),\n",
              " ('nos', 'noâ'),\n",
              " ('forma', 'fobma'),\n",
              " ('seja', 'sejéa'),\n",
              " ('então', 'enêão'),\n",
              " ('criar', 'èriar'),\n",
              " ('código', 'cóeigo'),\n",
              " ('caso', 'casío'),\n",
              " ('exemplo', 'áexemplo'),\n",
              " ('tem', 'tĩem'),\n",
              " ('usuário', 'usuárôio'),\n",
              " ('dados', 'dfados'),\n",
              " ('python', 'pgthon'),\n",
              " ('nossa', 'nossah'),\n",
              " ('além', 'alémè'),\n",
              " ('assim', 'asõim'),\n",
              " ('ter', 'teb'),\n",
              " ('até', 'atĩ'),\n",
              " ('bem', 'âem'),\n",
              " ('design', 'desigen'),\n",
              " ('trabalho', 'trabalàho'),\n",
              " ('foi', 'foo'),\n",
              " ('apenas', 'apenaũ'),\n",
              " ('empresa', 'empresà'),\n",
              " ('valor', 'valíor'),\n",
              " ('será', 'serr'),\n",
              " ('entre', 'entke'),\n",
              " ('método', 'méqodo'),\n",
              " ('precisamos', 'precisamops'),\n",
              " ('ainda', 'ainàa'),\n",
              " ('vai', 'van'),\n",
              " ('conteúdo', 'ûconteúdo'),\n",
              " ('seus', 'çeus'),\n",
              " ('eu', 'eû'),\n",
              " ('todos', 'todtos'),\n",
              " ('tempo', 'temeo'),\n",
              " ('sempre', 'semre'),\n",
              " ('qual', 'quakl'),\n",
              " ('ela', 'elaá'),\n",
              " ('só', 'síó'),\n",
              " ('utilizar', 'utiqizar'),\n",
              " ('projeto', 'prhojeto'),\n",
              " ('site', 'siàe'),\n",
              " ('sem', 'seém'),\n",
              " ('pelo', 'peln'),\n",
              " ('alura', 'aléra'),\n",
              " ('dia', 'tdia'),\n",
              " ('tudo', 'tuúo'),\n",
              " ('podemos', 'kpodemos'),\n",
              " ('esse', 'eẽsse'),\n",
              " ('já', 'jé'),\n",
              " ('nosso', 'nçosso'),\n",
              " ('são', 'sãô'),\n",
              " ('dos', 'odos'),\n",
              " ('muito', 'tuito'),\n",
              " ('imagem', 'imõgem'),\n",
              " ('sua', 'siua'),\n",
              " ('também', 'tamvbém'),\n",
              " ('ele', 'elpe'),\n",
              " ('fazer', 'façzer'),\n",
              " ('temos', 'teos'),\n",
              " ('essa', 'eũsa'),\n",
              " ('quando', 'quaìdo'),\n",
              " ('vamos', 'vjmos'),\n",
              " ('sobre', 'sxobre'),\n",
              " ('java', 'jkva'),\n",
              " ('das', 'dms'),\n",
              " ('agora', 'agtora'),\n",
              " ('está', 'esútá'),\n",
              " ('cada', 'cava'),\n",
              " ('mesmo', 'medmo'),\n",
              " ('nos', 'ános'),\n",
              " ('forma', 'forûa'),\n",
              " ('seja', 'smeja'),\n",
              " ('então', 'enjtão'),\n",
              " ('criar', 'criôar'),\n",
              " ('código', 'cóàigo'),\n",
              " ('caso', 'èaso'),\n",
              " ('exemplo', 'exbemplo'),\n",
              " ('tem', 'túem'),\n",
              " ('usuário', 'usuárin'),\n",
              " ('dados', 'daáos'),\n",
              " ('python', 'pythoçn'),\n",
              " ('nossa', 'nossk'),\n",
              " ('além', 'âlém'),\n",
              " ('assim', 'aóssim'),\n",
              " ('ter', 'tãer'),\n",
              " ('até', 'vté'),\n",
              " ('bem', 'búm'),\n",
              " ('design', 'íesign'),\n",
              " ('trabalho', 'trabèalho'),\n",
              " ('foi', 'kfoi'),\n",
              " ('apenas', 'aapenas'),\n",
              " ('empresa', 'pmpresa'),\n",
              " ('valor', 'valoqr'),\n",
              " ('será', 'sçerá'),\n",
              " ('entre', 'entró'),\n",
              " ('método', 'nétodo'),\n",
              " ('precisamos', 'prefcisamos'),\n",
              " ('ainda', 'sainda'),\n",
              " ('vai', 'uai'),\n",
              " ('conteúdo', 'cĩonteúdo'),\n",
              " ('seus', 'sâus'),\n",
              " ('eu', 'ìeu'),\n",
              " ('todos', 'todás'),\n",
              " ('tempo', 'utempo'),\n",
              " ('sempre', 'sempce'),\n",
              " ('qual', 'fual'),\n",
              " ('ela', 'elal'),\n",
              " ('só', 'skó'),\n",
              " ('utilizar', 'utilĩzar'),\n",
              " ('projeto', 'proójeto'),\n",
              " ('site', 'isite'),\n",
              " ('sem', 'secm'),\n",
              " ('pelo', 'pẽlo'),\n",
              " ('alura', 'aluéa'),\n",
              " ('dia', 'dil'),\n",
              " ('tudo', 'tudy'),\n",
              " ('ela', 'qelay'),\n",
              " ('só', 'sód'),\n",
              " ('utilizar', 'dtilizacr'),\n",
              " ('projeto', 'bprojõto'),\n",
              " ('site', 'ysiteo'),\n",
              " ('sem', 'sõêm'),\n",
              " ('pelo', 'peàli'),\n",
              " ('alura', 'asuraó'),\n",
              " ('dia', 'deiìa'),\n",
              " ('tudo', 'tuĩdoì'),\n",
              " ('ela', 'eúaa'),\n",
              " ('só', 'ró'),\n",
              " ('utilizar', 'utilizẽaçr'),\n",
              " ('projeto', 'prêjetó'),\n",
              " ('site', 'sqiqte'),\n",
              " ('sem', 'sũexm'),\n",
              " ('pelo', 'pçlxo'),\n",
              " ('alura', 'uluraa'),\n",
              " ('dia', 'dĩaz'),\n",
              " ('tudo', 'kzudo'),\n",
              " ('corretor', 'correptor'),\n",
              " ('tática', 'trtica'),\n",
              " ('empoderamento', 'ewpoderamento'),\n",
              " ('linux', 'lifux'),\n",
              " ('cachorro', 'cachoçro'),\n",
              " ('gato', 'îgato'),\n",
              " ('cavalo', 'cakvalo'),\n",
              " ('relógio', 'relógiuo'),\n",
              " ('canela', 'canelac'),\n",
              " ('tênis', 'tênisy'),\n",
              " ('ansiosa', 'anciosa'),\n",
              " ('ansiosa', 'ancciosa'),\n",
              " ('ansiosa', 'ansioa'),\n",
              " ('empoderamento', 'empoderamento'),\n",
              " ('asterisco', 'asterístico'),\n",
              " ('gratuito', 'gratuíto'),\n",
              " ('entretido', 'entertido'),\n",
              " ('ritmo', 'ritimo'),\n",
              " ('idiota', 'indiota'),\n",
              " ('tomara', 'tomare'),\n",
              " ('seja', 'seje'),\n",
              " ('prevalecer', 'provalecer'),\n",
              " ('esteja', 'esteje'),\n",
              " ('mendigo', 'mindigo'),\n",
              " ('cérebro', 'célebro'),\n",
              " ('perturbar', 'pertubar')]"
            ]
          },
          "metadata": {},
          "execution_count": 40
        }
      ]
    },
    {
      "cell_type": "markdown",
      "source": [
        "Ao executarmos a célula, teremos a nossa base de dados em uma estrutura que facilita a criação do avaliador()."
      ],
      "metadata": {
        "id": "SsavWMVI1sQU"
      }
    },
    {
      "cell_type": "markdown",
      "source": [
        "Neste passo, desenvolveremos a função avaliador().\n",
        "\n",
        "A criaremos com def e passaremos os testes gerados pela função cria_dados_teste, para então printarmos a \"taxa de acerto\" com a porcentagem de quantas palavras o corretor está acertando de fato."
      ],
      "metadata": {
        "id": "HsoeQBAd6XLG"
      }
    },
    {
      "cell_type": "code",
      "source": [
        "def avaliador (testes):\n",
        "    print(\"taxa de acerto\")"
      ],
      "metadata": {
        "id": "L8XBLXYI1tvl"
      },
      "execution_count": 41,
      "outputs": []
    },
    {
      "cell_type": "markdown",
      "source": [
        "O primeiro passo será calcular justamente esta taxa com a variável taxa_acerto, a qual será igual a acertou sobre numero_palavras, correspondente ao número total.\n",
        "\n",
        "Em seguida, precisaremos descobrir o número de palavras e a quantidade de acertos. O primeiro elemento será igual ao tamanho da variável teste que estamos recebendo no avaliador(), pois o len() de testes será este valor total.\n",
        "\n",
        "Já em acertou, precisaremos criar um contador começando do zero, então será igual a 0. Este elemento será implementado toda vez que o corretor acertar.\n",
        "\n",
        "Precisaremos iterar sobre cada uma das linhas da lista_testes, passar a palavra equivocada para a função do corretor e verificar se a que foi gerada é igual à correta. Em caso positivo, acrescentaremos 1 à variável acertou.\n",
        "\n",
        "Para isso, desenvolveremos uma lógica; para cada for das linhas, retornaremos a palavra correta e a errada de testes.\n",
        "\n",
        "Passaremos a equivocada para o corretor() já desenvolvido, o qual retornará a palavra_corrigida. Caso esta seja igual à correta em if, implementaremos o 1 ao acertou com +=.\n",
        "\n",
        "Depois disso, já teremos a taxa de acerto em acertou sobre o número_palavras.\n",
        "\n",
        "No print() alteraremos o conteúdo \"taxa de acerto\" para a variável taxa_acerto dentro de aspas e chaves, fazendo a interpolação de string com f. Melhoraremos a visualização do código incluindo % e o número_palavras também.\n",
        "\n",
        "Para calcularmos a porcentagem, multiplicaremos acertou por 100 em taxa_acerto. Para arredondarmos o resultado, usaremos a função round() recebendo esta operação da taxa de acerto e o número de casas decimais que queremos, sendo 2 neste caso.\n",
        "\n",
        "Com isso, poderemos testar nosso corretor chamando a função avaliador() recebendo a lista_teste."
      ],
      "metadata": {
        "id": "F6CAxvrM6Zyg"
      }
    },
    {
      "cell_type": "code",
      "source": [
        "def avaliador (testes):\n",
        "    numero_palavras = len(testes)\n",
        "    acertou = 0\n",
        "    for correta, errada in testes:\n",
        "        palavra_corrigida = corretor(errada)\n",
        "        if palavra_corrigida == correta:\n",
        "            acertou += 1\n",
        "    taxa_acerto = acertou/numero_palavras\n",
        "    print(f'{taxa_acerto}')\n",
        "\n",
        "avaliador(lista_teste)"
      ],
      "metadata": {
        "colab": {
          "base_uri": "https://localhost:8080/"
        },
        "id": "G6wHG-nM7_k1",
        "outputId": "991d2448-8ac8-472b-ca40-2d4083fa4754"
      },
      "execution_count": 42,
      "outputs": [
        {
          "output_type": "stream",
          "name": "stdout",
          "text": [
            "0.010752688172043012\n"
          ]
        }
      ]
    },
    {
      "cell_type": "markdown",
      "source": [
        "Para deixar mais legível "
      ],
      "metadata": {
        "id": "mtYXNRI08Su-"
      }
    },
    {
      "cell_type": "code",
      "source": [
        "def avaliador (testes):\n",
        "    numero_palavras = len(testes)\n",
        "    acertou = 0\n",
        "    for correta, errada in testes:\n",
        "        palavra_corrigida = corretor(errada)\n",
        "        if palavra_corrigida == correta:\n",
        "            acertou += 1\n",
        "            \n",
        "# round arredondando e dizendo a quantidade da casa decimal 2\n",
        "\n",
        "    taxa_acerto = round(acertou*100/numero_palavras, 2)\n",
        "    print(f\"{taxa_acerto}% de {numero_palavras} palavras\")\n",
        "\n",
        "avaliador(lista_teste)"
      ],
      "metadata": {
        "colab": {
          "base_uri": "https://localhost:8080/"
        },
        "id": "z4eogv1O6daw",
        "outputId": "be19bafc-dcfd-4000-c065-0247056ffda8"
      },
      "execution_count": 43,
      "outputs": [
        {
          "output_type": "stream",
          "name": "stdout",
          "text": [
            "1.08% de 186 palavras\n"
          ]
        }
      ]
    },
    {
      "cell_type": "markdown",
      "source": [
        "Ao rodarmos a célula, teremos o resultado de apenas 1.08% de taxa de acerto num total de 186 palavras.\n",
        "\n",
        "Este é um número inadmissível, pois é muito baixo para um corretor ortográfico.\n",
        "\n",
        "Como já conseguimos comparar os nossos corretores, sabemos o quanto estamos acertando para podermos melhorá-lo."
      ],
      "metadata": {
        "id": "JqKop_p16gT3"
      }
    },
    {
      "cell_type": "markdown",
      "source": [
        "A operação que realizamos para corrigir o primeiro problema da falta de um caractere em \"lgica\" insere uma letra em todas as posições possíveis da palavra, gerando vários resultados.\n",
        "\n",
        "Neste passo, corrigiremos um outro tipo de erro bastante comum também além de deletar ou esquecer de digitar, que consiste em escrever uma letra a mais por engano.\n",
        "\n",
        "Por exemplo, nosso algoritmo receberá o termo equivocado “lóigica”, e notaremos que a tecla “O” fica ao lado de “I” no teclado padrão, o que facilmente poderia levar a este erro. Logo, precisaremos que nos retorne a palavra correta “lógica”.\n",
        "\n",
        "Para construirmos este novo algoritmo, continuaremos com o sistema de dividir a palavra em dois lados como fizemos anteriormente.\n",
        "\n",
        "Na primeira linha de divisão na tabela, teremos a primeira parte da palavra null e a segunda \"lóigica\" para realizarmos a operação, a qual sempre pegará o lado esquerdo e somará com algo.\n",
        "\n",
        "Porém, há uma letra a mais que precisa ser eliminada. Portanto, deletaremos o primeiro caractere da segunda parte, obtendo null + \"óigica\". Concatenaremos pela operação de soma para gerar o resultado. Neste caso, \"óigica\" mesmo.\n",
        "\n",
        "No segundo caso, o lado esquerdo é o “L” e o direito é o “óigica”, e realizaremos a mesma operação eliminando a primeira letra da segunda parte da palavra, resultando em “ligica” que também está equivocada.\n",
        "\n",
        "Como terceiro exemplo, teremos a primeira parte com “Ló” e a segunda “igica”. Eliminando a letra \"i\" escrita a mais por engano neste lado direito, teremos finalmente o resultado correto \"lógica\".\n",
        "\n",
        "Com isso, criamos um novo algoritmo que chegou à resposta certa. Continuaremos a tabela até o último caso para vermos os demais retornos.\n",
        "\n",
        "LÓIGICA"
      ],
      "metadata": {
        "id": "rhyqwFXh9hA4"
      }
    },
    {
      "cell_type": "markdown",
      "source": [
        "<table><thead><tr><th>ESQUERDO</th><th>DIREITO</th><th>OPERAÇÃO</th><th>RESULTADO</th></tr></thead><tbody><tr><td>null</td><td><del>l</del>óigica</td><td>null + óigica</td><td>óigica</td></tr><tr><td>l</td><td><del>ó</del>igica</td><td>l + igica</td><td>ligica</td></tr><tr><td>ló</td><td><del>i</del>gica</td><td>ló + gica</td><td><strong>lógica</strong></td></tr><tr><td>lói</td><td><del>g</del>ica</td><td>lói + ica</td><td>lóiica</td></tr><tr><td>lóig</td><td><del>i</del>ca</td><td>lóig + ca</td><td>lóigca</td></tr><tr><td>lóigi</td><td><del>c</del>a</td><td>lóigi + a</td><td>lóigia</td></tr><tr><td>lóigic</td><td><del>a</del></td><td>lóigic +</td><td>lóigic</td></tr><tr><td>lóigica</td><td>null</td><td>lóigica + null</td><td>lóigica</td></tr></tbody></table>"
      ],
      "metadata": {
        "id": "RINBDEjp9yBO"
      }
    },
    {
      "cell_type": "markdown",
      "source": [
        "Com isso, conseguimos elaborar um algoritmo que resolve nosso problema.\n",
        "\n",
        "Precisaremos generalizar e pensar em qual operação estamos realizando; eliminamos a primeira letra do lado direito e somamos as duas partes. A soma em Python é a concatenação, então estamos concatenando os dois pedaços de string.\n",
        "\n",
        "ESQUERDO + DIREITO[1:]\n",
        "\n",
        "Como a segunda parte da palavra inicia com o caractere de index 1, sempre eliminaremos o de index 0.\n",
        "\n",
        "A seguir, implementaremos este novo método para vermos como nosso corretor se comportará."
      ],
      "metadata": {
        "id": "hdNTPQ2Z95By"
      }
    },
    {
      "cell_type": "markdown",
      "source": [
        "# Deletando caracteres"
      ],
      "metadata": {
        "id": "yc3hcOLyDHn0"
      }
    },
    {
      "cell_type": "markdown",
      "source": [
        "Para gerarmos o novo algoritmo com base na tabela do passo anterior, criaremos a função deletando_caracteres() com def em uma nova célula, pois pode ser o caractere equivocado digitado a mais não seja sempre uma letra, e sim uma pontuação por exemplo.\n",
        "\n",
        "Esta receberá as fatias com os lados esquerdo e direito, as percorrerá e realizará a operação que queremos, da mesma forma feita com a anterior.\n",
        "\n",
        "Copiaremos e colaremos o corpo de insere_letras() para fazermos algumas adaptações a esta nova situação.\n",
        "\n",
        "Já não precisaremos mais das letras, pois não inseriremos nenhuma neste caso de erro, então poderemos deletar esta linha.\n",
        "\n",
        "A variável novas_palavras será o retorno com as novas palavras geradas.\n",
        "\n",
        "Com o for, pegaremos os dois lados e não precisaremos mais do for interno, pois já teremos a operação.\n",
        "\n",
        "A palavra que será appendada na lista com append() será a operação com a soma das duas partes E e D, mas desta vez iniciando no index [1:] como já vimos."
      ],
      "metadata": {
        "id": "eYdWDFgU_iB-"
      }
    },
    {
      "cell_type": "code",
      "source": [
        "def deletando_caracteres(fatias):\n",
        "    novas_palavras = []\n",
        "    for E, D in fatias:\n",
        "        novas_palavras.append(E + D[1:])\n",
        "    return novas_palavras"
      ],
      "metadata": {
        "id": "lyI9PTo76mTc"
      },
      "execution_count": 44,
      "outputs": []
    },
    {
      "cell_type": "markdown",
      "source": [
        "Por exemplo, digitaremos \"palavras\"[] na célula seguinte, pegando do index 1 até o último, o que retornará o resultado “alavra”.\n",
        "\n",
        "Logo, isso eliminará a primeira letra como queremos.\n",
        "\n",
        "Para testarmos a função, chamaremos gerador_palavras() para gerarmos diversas outras palavras com os algoritmos.\n",
        "\n",
        "Relembrando-a, pegamos a palavra, criamos as fatias divididas entre os dois lados e geramos a variável palavras_geradas.\n",
        "\n",
        "Porém, esta só chama a função insere_letras() por enquanto, e precisaremos adaptar a gerador_palavras() com o novo algoritmo que elimina caracteres.\n",
        "\n",
        "A seguir, faremos a adaptação para podermos testar a função e verificar se conseguiremos gerar a palavra correta."
      ],
      "metadata": {
        "id": "52xvqlLh_lXe"
      }
    },
    {
      "cell_type": "markdown",
      "source": [
        "Como gerador_palavras() ainda não está implementado para gerar as palavras através da função deletando_caracteres, é capaz de corrigir apenas o primeiro caso de uma letra a menos.\n",
        "\n",
        "Se colocarmos a palavra “lóigica” do novo caso de erro com um caractere a mais no gerador, a função retornará as palavras geradas, sendo a primeira “alóigica”.\n",
        "\n",
        "Logo, precisaremos adaptar o gerador_palavras(); copiaremos todo seu bloco e colaremos em uma nova célula. Esta função fatia a string, gera uma lista de novas palavras e a armazena em palavras_geradas que será retornada. Então precisaremos gerar uma nova com deletando_caracteres().\n",
        "\n",
        "Como é uma lista também, concatenaremos com a anterior. Pegaremos a variável palavras_geradas do insere_letras() e somaremos com a lista gerada pelo deletando_caracteres() recebendo as fatias.\n",
        "\n",
        "Feito isso, o gerador_palavras() estará adaptado para gerar as palavras também através do outro algoritmo. Em seguida, verificaremos se gerará a palavra correta com o exemplo \"lóigica\".\n",
        "\n",
        "a variável palavra_exemplo recebida como parâmetro de gerador_palavras() será criada na linha anterior, sendo igual a \"lóigica\".\n",
        "\n",
        "Por fim, imprimiremos as palavras geradas."
      ],
      "metadata": {
        "id": "QP3KPxHmA3YS"
      }
    },
    {
      "cell_type": "code",
      "source": [
        "def gerador_palavras(palavra):\n",
        "    fatias = []\n",
        "    for i in range(len(palavra)+1):\n",
        "        fatias.append((palavra[:i],palavra[i:]))\n",
        "    palavras_geradas = insere_letras(fatias)\n",
        "    palavras_geradas += deletando_caracteres(fatias)\n",
        "    return palavras_geradas\n",
        "palavra_exemplo = \"lóigica\"\n",
        "palavras_geradas = gerador_palavras(palavra_exemplo)\n",
        "print(palavras_geradas)"
      ],
      "metadata": {
        "colab": {
          "base_uri": "https://localhost:8080/"
        },
        "id": "Peo8R15PA4dr",
        "outputId": "9e771f8f-8f92-4d7e-cb5b-c01dfd68fa6f"
      },
      "execution_count": 45,
      "outputs": [
        {
          "output_type": "stream",
          "name": "stdout",
          "text": [
            "['alóigica', 'blóigica', 'clóigica', 'dlóigica', 'elóigica', 'flóigica', 'glóigica', 'hlóigica', 'ilóigica', 'jlóigica', 'klóigica', 'llóigica', 'mlóigica', 'nlóigica', 'olóigica', 'plóigica', 'qlóigica', 'rlóigica', 'slóigica', 'tlóigica', 'ulóigica', 'vlóigica', 'wlóigica', 'xlóigica', 'ylóigica', 'zlóigica', 'àlóigica', 'álóigica', 'âlóigica', 'ãlóigica', 'èlóigica', 'élóigica', 'êlóigica', 'ìlóigica', 'ílóigica', 'îlóigica', 'òlóigica', 'ólóigica', 'ôlóigica', 'õlóigica', 'ùlóigica', 'úlóigica', 'ûlóigica', 'çlóigica', 'laóigica', 'lbóigica', 'lcóigica', 'ldóigica', 'leóigica', 'lfóigica', 'lgóigica', 'lhóigica', 'lióigica', 'ljóigica', 'lkóigica', 'llóigica', 'lmóigica', 'lnóigica', 'loóigica', 'lpóigica', 'lqóigica', 'lróigica', 'lsóigica', 'ltóigica', 'luóigica', 'lvóigica', 'lwóigica', 'lxóigica', 'lyóigica', 'lzóigica', 'làóigica', 'láóigica', 'lâóigica', 'lãóigica', 'lèóigica', 'léóigica', 'lêóigica', 'lìóigica', 'líóigica', 'lîóigica', 'lòóigica', 'lóóigica', 'lôóigica', 'lõóigica', 'lùóigica', 'lúóigica', 'lûóigica', 'lçóigica', 'lóaigica', 'lóbigica', 'lócigica', 'lódigica', 'lóeigica', 'lófigica', 'lógigica', 'lóhigica', 'lóiigica', 'lójigica', 'lókigica', 'lóligica', 'lómigica', 'lónigica', 'lóoigica', 'lópigica', 'lóqigica', 'lórigica', 'lósigica', 'lótigica', 'lóuigica', 'lóvigica', 'lówigica', 'lóxigica', 'lóyigica', 'lózigica', 'lóàigica', 'lóáigica', 'lóâigica', 'lóãigica', 'lóèigica', 'lóéigica', 'lóêigica', 'lóìigica', 'lóíigica', 'lóîigica', 'lóòigica', 'lóóigica', 'lóôigica', 'lóõigica', 'lóùigica', 'lóúigica', 'lóûigica', 'lóçigica', 'lóiagica', 'lóibgica', 'lóicgica', 'lóidgica', 'lóiegica', 'lóifgica', 'lóiggica', 'lóihgica', 'lóiigica', 'lóijgica', 'lóikgica', 'lóilgica', 'lóimgica', 'lóingica', 'lóiogica', 'lóipgica', 'lóiqgica', 'lóirgica', 'lóisgica', 'lóitgica', 'lóiugica', 'lóivgica', 'lóiwgica', 'lóixgica', 'lóiygica', 'lóizgica', 'lóiàgica', 'lóiágica', 'lóiâgica', 'lóiãgica', 'lóiègica', 'lóiégica', 'lóiêgica', 'lóiìgica', 'lóiígica', 'lóiîgica', 'lóiògica', 'lóiógica', 'lóiôgica', 'lóiõgica', 'lóiùgica', 'lóiúgica', 'lóiûgica', 'lóiçgica', 'lóigaica', 'lóigbica', 'lóigcica', 'lóigdica', 'lóigeica', 'lóigfica', 'lóiggica', 'lóighica', 'lóigiica', 'lóigjica', 'lóigkica', 'lóiglica', 'lóigmica', 'lóignica', 'lóigoica', 'lóigpica', 'lóigqica', 'lóigrica', 'lóigsica', 'lóigtica', 'lóiguica', 'lóigvica', 'lóigwica', 'lóigxica', 'lóigyica', 'lóigzica', 'lóigàica', 'lóigáica', 'lóigâica', 'lóigãica', 'lóigèica', 'lóigéica', 'lóigêica', 'lóigìica', 'lóigíica', 'lóigîica', 'lóigòica', 'lóigóica', 'lóigôica', 'lóigõica', 'lóigùica', 'lóigúica', 'lóigûica', 'lóigçica', 'lóigiaca', 'lóigibca', 'lóigicca', 'lóigidca', 'lóigieca', 'lóigifca', 'lóigigca', 'lóigihca', 'lóigiica', 'lóigijca', 'lóigikca', 'lóigilca', 'lóigimca', 'lóiginca', 'lóigioca', 'lóigipca', 'lóigiqca', 'lóigirca', 'lóigisca', 'lóigitca', 'lóigiuca', 'lóigivca', 'lóigiwca', 'lóigixca', 'lóigiyca', 'lóigizca', 'lóigiàca', 'lóigiáca', 'lóigiâca', 'lóigiãca', 'lóigièca', 'lóigiéca', 'lóigiêca', 'lóigiìca', 'lóigiíca', 'lóigiîca', 'lóigiòca', 'lóigióca', 'lóigiôca', 'lóigiõca', 'lóigiùca', 'lóigiúca', 'lóigiûca', 'lóigiçca', 'lóigicaa', 'lóigicba', 'lóigicca', 'lóigicda', 'lóigicea', 'lóigicfa', 'lóigicga', 'lóigicha', 'lóigicia', 'lóigicja', 'lóigicka', 'lóigicla', 'lóigicma', 'lóigicna', 'lóigicoa', 'lóigicpa', 'lóigicqa', 'lóigicra', 'lóigicsa', 'lóigicta', 'lóigicua', 'lóigicva', 'lóigicwa', 'lóigicxa', 'lóigicya', 'lóigicza', 'lóigicàa', 'lóigicáa', 'lóigicâa', 'lóigicãa', 'lóigicèa', 'lóigicéa', 'lóigicêa', 'lóigicìa', 'lóigicía', 'lóigicîa', 'lóigicòa', 'lóigicóa', 'lóigicôa', 'lóigicõa', 'lóigicùa', 'lóigicúa', 'lóigicûa', 'lóigicça', 'lóigicaa', 'lóigicab', 'lóigicac', 'lóigicad', 'lóigicae', 'lóigicaf', 'lóigicag', 'lóigicah', 'lóigicai', 'lóigicaj', 'lóigicak', 'lóigical', 'lóigicam', 'lóigican', 'lóigicao', 'lóigicap', 'lóigicaq', 'lóigicar', 'lóigicas', 'lóigicat', 'lóigicau', 'lóigicav', 'lóigicaw', 'lóigicax', 'lóigicay', 'lóigicaz', 'lóigicaà', 'lóigicaá', 'lóigicaâ', 'lóigicaã', 'lóigicaè', 'lóigicaé', 'lóigicaê', 'lóigicaì', 'lóigicaí', 'lóigicaî', 'lóigicaò', 'lóigicaó', 'lóigicaô', 'lóigicaõ', 'lóigicaù', 'lóigicaú', 'lóigicaû', 'lóigicaç', 'óigica', 'ligica', 'lógica', 'lóiica', 'lóigca', 'lóigia', 'lóigic', 'lóigica']\n"
          ]
        }
      ]
    },
    {
      "cell_type": "markdown",
      "source": [
        "Como saída, teremos os resultados de insere_letras() seguido dos de deletando_caracteres(), indicando que a função está funcionando corretamente. Dentro das listas retornadas, encontraremos a palavra correta “lógica”.\n",
        "\n",
        "Na célula seguinte, chamaremos a função avaliador() recebendo a lista_teste."
      ],
      "metadata": {
        "id": "1orHTcg8A7xx"
      }
    },
    {
      "cell_type": "code",
      "source": [
        "avaliador(lista_teste)"
      ],
      "metadata": {
        "colab": {
          "base_uri": "https://localhost:8080/"
        },
        "id": "DWyLCW66A-h-",
        "outputId": "f538aded-a16e-4495-977d-2cec214b71f2"
      },
      "execution_count": 46,
      "outputs": [
        {
          "output_type": "stream",
          "name": "stdout",
          "text": [
            "41.4% de 186 palavras\n"
          ]
        }
      ]
    },
    {
      "cell_type": "markdown",
      "source": [
        "No retorno deste comando, teremos uma taxa de acerto de 41.4% de 186 palavras. Ou seja, fizemos um ótimo upgrade em comparação com com o resultado anterior.\n",
        "\n",
        "Este já é um retorno bem mais interessante, mas ainda podemos melhorar ainda mais como veremos a seguir."
      ],
      "metadata": {
        "id": "NuEHGDEPA9Ru"
      }
    },
    {
      "cell_type": "markdown",
      "source": [
        "# Trocando as letras"
      ],
      "metadata": {
        "id": "s4fQP3S3C8-k"
      }
    },
    {
      "cell_type": "markdown",
      "source": [
        "Nosso corretor já é capaz de resolver dois tipos de erros de digitação.\n",
        "\n",
        "Resumidamente, as operações consistem em dividir a string equivocada em duas partes e adicionar ou eliminar um caractere para obter diferentes resultados até chegar na palavra correta, através das funções insere_letras() e deletando_caracteres() respectivamente.\n",
        "\n",
        "Porém, ainda existem outros tipos de erros, como quando trocamos uma letra por outra. Por exemplo, na hora de digitar o “ó” no teclado, sem querer apertamos a tecla “í” que está bem ao lado do caractere correto, gerando a palavra errada \"lígica\".\n",
        "\n",
        "Logo, precisaremos desenvolver o corretor para realizarmos a operação de troca de letras. Para isso, elaboraremos outra tabela para entendermos melhor como fazê-la.\n",
        "\n",
        "Começaremos dividindo a palavra \"lígica\" em duas partes como já sabemos. Na primeira linha, teremos \"null\" somado com \"lígica\" mesmo, e neste caso, substituiremos a letra errada e concatenaremos com a correta em algum nos resultados finais da operação.\n",
        "\n",
        "Esta pegará o primeiro lado, somará com a letra \"ó\" que é a correta neste caso de erro de digitação, e adicionará o segundo lado.\n",
        "\n",
        "Como precisaremos trocar as letras, pegaremos um dos caracteres do lado direito e trocaremos pela letra “ó”, eliminando a primeira letra da segunda parte da palavra e concatenando com o restante da string.\n",
        "\n",
        "Com isso, o primeiro resultado será o termo “óigica” que ainda está equivocado. No segundo exemplo da linha seguinte da tabela, a operação será \"L + ó + gica\", formando enfim a palavra correta \"lógica\".\n",
        "\n",
        "Faremos até obtermos todos os resultados possíveis na tabela.\n",
        "\n",
        "LÍGICA"
      ],
      "metadata": {
        "id": "wPveyzIoC2SG"
      }
    },
    {
      "cell_type": "markdown",
      "source": [
        "<table><thead><tr><th>ESQUERDO</th><th>DIREITO</th><th>OPERAÇÃO</th><th>RESULTADO</th></tr></thead><tbody><tr><td>null</td><td><del>l</del>ígica</td><td>null + ó + ígica</td><td>óigica</td></tr><tr><td>l</td><td><del>í</del>gica</td><td>l + ó + gica</td><td><strong>lógica</strong></td></tr><tr><td>lí</td><td><del>g</del>ica</td><td>lí + ó + ica</td><td>lióica</td></tr><tr><td>líg</td><td><del>i</del>ca</td><td>líg + ó + ca</td><td>ligóca</td></tr><tr><td>lígi</td><td><del>c</del>a</td><td>lígi + ó + a</td><td>ligióa</td></tr><tr><td>lígic</td><td><del>a</del></td><td>lígic + ó</td><td>ligicó</td></tr><tr><td>lígica</td><td>null</td><td>lígica + ó + null</td><td>ligicaó</td></tr></tbody></table>"
      ],
      "metadata": {
        "id": "Ru6om9-9ENmm"
      }
    },
    {
      "cell_type": "markdown",
      "source": [
        "Com isso, teremos o primeiro lado, mais a letra, mais o segundo lado, menos a primeira letra desta mesma segunda parte.\n",
        "\n",
        "ESQUERDO + LETRA + DIREITO[1:]\n",
        "\n",
        "Notaremos que essa operação é praticamente a soma das anteriores, insere_letras() e deletando_caracteres(). Então, a nova função que trocará as letras ficará bastante parecida com estas duas operações que nós já realizamos, o que facilitará bastante o desenvolvimento dos algoritmos.\n",
        "\n",
        "A seguir, faremos esta implementação."
      ],
      "metadata": {
        "id": "bFFM9NngEPU1"
      }
    },
    {
      "cell_type": "markdown",
      "source": [
        "Para resolvermos o problema de digitação anterior, criaremos a função troca_letra(), que substituirá uma letra equivocada pela correta.\n",
        "\n",
        "No caso do termo \"lígica\" escrito erroneamente, nosso algoritmo precisará pegar a letra “í” e substituir por “ó”, corrigindo para \"lógica\".\n",
        "\n",
        "A nova função receberá as fatias e, como já comentamos, será a junção das funções insere_letras() e deletando_caracteres() criadas anteriormente.\n",
        "\n",
        "Então poderemos utilizar as funções que já implementamos para escrevermos a troca_letra(); copiaremos o corpo de insere_letras() e colaremos dentro da nova função para fazermos as adaptações cabíveis.\n",
        "\n",
        "Primeiro, precisaremos deletar a primeira letra de index 0 da segunda parte da palavra D, então pegaremos do index 1 em diante como fizemos em deletando_caracteres()."
      ],
      "metadata": {
        "id": "KE-bEVudK72U"
      }
    },
    {
      "cell_type": "code",
      "source": [
        "def troca_letra(fatias):\n",
        "    novas_palavras = []\n",
        "    letras = 'abcdefghijklmnopqrstuvwxyzáàãâéèêíìóòõôúùûç'\n",
        "    for E, D in fatias:\n",
        "        for letra in letras:\n",
        "            novas_palavras.append(E + letra + D[1:])\n",
        "    return novas_palavras"
      ],
      "metadata": {
        "id": "z1LqRZRmESA-"
      },
      "execution_count": 47,
      "outputs": []
    },
    {
      "cell_type": "markdown",
      "source": [
        "Com isso, teremos a operação de troca_letra() implementada.\n",
        "\n",
        "Antes de prosseguirmos, melhoraremos nosso código, pois estas operações, o gerador de palavras e o avaliador estão muito distantes entre si. Então os colocaremos em uma única célula para facilitar as modificações.\n",
        "\n",
        "Em seguida, precisaremos chamar a nova função troca_letra() recebendo as fatias dentro de gerador_palavras().\n",
        "\n",
        "Ao final, teremos a palavra_exemplo sendo igual a \"lígica\" e imprimiremos as palavras_geradas."
      ],
      "metadata": {
        "id": "NaDJpA9iLALo"
      }
    },
    {
      "cell_type": "code",
      "source": [
        "def insere_letras(fatias):\n",
        "    novas_palavras = []\n",
        "    letras = 'abcdefghijklmnopqrstuvwxyzàáâãèéêìíîòóôõùúûç'\n",
        "    for E, D in fatias:\n",
        "        for letra in letras:\n",
        "            novas_palavras.append(E + letra + D)\n",
        "    return novas_palavras\n",
        "\n",
        "def deletando_caracteres(fatias):\n",
        "    novas_palavras = []\n",
        "    for E, D in fatias:\n",
        "        novas_palavras.append(E + D[1:])\n",
        "    return novas_palavras\n",
        "\n",
        "def troca_letra(fatias):\n",
        "    novas_palavras = []\n",
        "    letras = 'abcdefghijklmnopqrstuvwxyzáàãâéèêíìóòõôúùûç'\n",
        "    for E, D in fatias:\n",
        "        for letra in letras:\n",
        "            novas_palavras.append(E + letra + D[1:])\n",
        "    return novas_palavras\n",
        "\n",
        "def gerador_palavras(palavra):\n",
        "    fatias = []\n",
        "    for i in range(len(palavra)+1):\n",
        "        fatias.append((palavra[:i],palavra[i:]))\n",
        "    palavras_geradas = insere_letras(fatias)\n",
        "    palavras_geradas += deletando_caracteres(fatias)\n",
        "    palavras_geradas += troca_letra(fatias)\n",
        "    return palavras_geradas\n",
        "\n",
        "palavra_exemplo = \"lígica\"\n",
        "palavras_geradas = gerador_palavras(palavra_exemplo)\n",
        "print(palavras_geradas)"
      ],
      "metadata": {
        "colab": {
          "base_uri": "https://localhost:8080/"
        },
        "id": "bS3CItgZLFbC",
        "outputId": "736b4b7c-3755-45a9-cc47-490ed1da002f"
      },
      "execution_count": 48,
      "outputs": [
        {
          "output_type": "stream",
          "name": "stdout",
          "text": [
            "['alígica', 'blígica', 'clígica', 'dlígica', 'elígica', 'flígica', 'glígica', 'hlígica', 'ilígica', 'jlígica', 'klígica', 'llígica', 'mlígica', 'nlígica', 'olígica', 'plígica', 'qlígica', 'rlígica', 'slígica', 'tlígica', 'ulígica', 'vlígica', 'wlígica', 'xlígica', 'ylígica', 'zlígica', 'àlígica', 'álígica', 'âlígica', 'ãlígica', 'èlígica', 'élígica', 'êlígica', 'ìlígica', 'ílígica', 'îlígica', 'òlígica', 'ólígica', 'ôlígica', 'õlígica', 'ùlígica', 'úlígica', 'ûlígica', 'çlígica', 'laígica', 'lbígica', 'lcígica', 'ldígica', 'leígica', 'lfígica', 'lgígica', 'lhígica', 'liígica', 'ljígica', 'lkígica', 'llígica', 'lmígica', 'lnígica', 'loígica', 'lpígica', 'lqígica', 'lrígica', 'lsígica', 'ltígica', 'luígica', 'lvígica', 'lwígica', 'lxígica', 'lyígica', 'lzígica', 'làígica', 'láígica', 'lâígica', 'lãígica', 'lèígica', 'léígica', 'lêígica', 'lìígica', 'líígica', 'lîígica', 'lòígica', 'lóígica', 'lôígica', 'lõígica', 'lùígica', 'lúígica', 'lûígica', 'lçígica', 'líagica', 'líbgica', 'lícgica', 'lídgica', 'líegica', 'lífgica', 'líggica', 'líhgica', 'líigica', 'líjgica', 'líkgica', 'lílgica', 'límgica', 'língica', 'líogica', 'lípgica', 'líqgica', 'lírgica', 'lísgica', 'lítgica', 'líugica', 'lívgica', 'líwgica', 'líxgica', 'líygica', 'lízgica', 'líàgica', 'líágica', 'líâgica', 'líãgica', 'líègica', 'líégica', 'líêgica', 'líìgica', 'líígica', 'líîgica', 'líògica', 'líógica', 'líôgica', 'líõgica', 'líùgica', 'líúgica', 'líûgica', 'líçgica', 'lígaica', 'lígbica', 'lígcica', 'lígdica', 'lígeica', 'lígfica', 'líggica', 'líghica', 'lígiica', 'lígjica', 'lígkica', 'líglica', 'lígmica', 'lígnica', 'lígoica', 'lígpica', 'lígqica', 'lígrica', 'lígsica', 'lígtica', 'líguica', 'lígvica', 'lígwica', 'lígxica', 'lígyica', 'lígzica', 'lígàica', 'lígáica', 'lígâica', 'lígãica', 'lígèica', 'lígéica', 'lígêica', 'lígìica', 'lígíica', 'lígîica', 'lígòica', 'lígóica', 'lígôica', 'lígõica', 'lígùica', 'lígúica', 'lígûica', 'lígçica', 'lígiaca', 'lígibca', 'lígicca', 'lígidca', 'lígieca', 'lígifca', 'lígigca', 'lígihca', 'lígiica', 'lígijca', 'lígikca', 'lígilca', 'lígimca', 'líginca', 'lígioca', 'lígipca', 'lígiqca', 'lígirca', 'lígisca', 'lígitca', 'lígiuca', 'lígivca', 'lígiwca', 'lígixca', 'lígiyca', 'lígizca', 'lígiàca', 'lígiáca', 'lígiâca', 'lígiãca', 'lígièca', 'lígiéca', 'lígiêca', 'lígiìca', 'lígiíca', 'lígiîca', 'lígiòca', 'lígióca', 'lígiôca', 'lígiõca', 'lígiùca', 'lígiúca', 'lígiûca', 'lígiçca', 'lígicaa', 'lígicba', 'lígicca', 'lígicda', 'lígicea', 'lígicfa', 'lígicga', 'lígicha', 'lígicia', 'lígicja', 'lígicka', 'lígicla', 'lígicma', 'lígicna', 'lígicoa', 'lígicpa', 'lígicqa', 'lígicra', 'lígicsa', 'lígicta', 'lígicua', 'lígicva', 'lígicwa', 'lígicxa', 'lígicya', 'lígicza', 'lígicàa', 'lígicáa', 'lígicâa', 'lígicãa', 'lígicèa', 'lígicéa', 'lígicêa', 'lígicìa', 'lígicía', 'lígicîa', 'lígicòa', 'lígicóa', 'lígicôa', 'lígicõa', 'lígicùa', 'lígicúa', 'lígicûa', 'lígicça', 'lígicaa', 'lígicab', 'lígicac', 'lígicad', 'lígicae', 'lígicaf', 'lígicag', 'lígicah', 'lígicai', 'lígicaj', 'lígicak', 'lígical', 'lígicam', 'lígican', 'lígicao', 'lígicap', 'lígicaq', 'lígicar', 'lígicas', 'lígicat', 'lígicau', 'lígicav', 'lígicaw', 'lígicax', 'lígicay', 'lígicaz', 'lígicaà', 'lígicaá', 'lígicaâ', 'lígicaã', 'lígicaè', 'lígicaé', 'lígicaê', 'lígicaì', 'lígicaí', 'lígicaî', 'lígicaò', 'lígicaó', 'lígicaô', 'lígicaõ', 'lígicaù', 'lígicaú', 'lígicaû', 'lígicaç', 'ígica', 'lgica', 'líica', 'lígca', 'lígia', 'lígic', 'lígica', 'aígica', 'bígica', 'cígica', 'dígica', 'eígica', 'fígica', 'gígica', 'hígica', 'iígica', 'jígica', 'kígica', 'lígica', 'mígica', 'nígica', 'oígica', 'pígica', 'qígica', 'rígica', 'sígica', 'tígica', 'uígica', 'vígica', 'wígica', 'xígica', 'yígica', 'zígica', 'áígica', 'àígica', 'ãígica', 'âígica', 'éígica', 'èígica', 'êígica', 'íígica', 'ìígica', 'óígica', 'òígica', 'õígica', 'ôígica', 'úígica', 'ùígica', 'ûígica', 'çígica', 'lagica', 'lbgica', 'lcgica', 'ldgica', 'legica', 'lfgica', 'lggica', 'lhgica', 'ligica', 'ljgica', 'lkgica', 'llgica', 'lmgica', 'lngica', 'logica', 'lpgica', 'lqgica', 'lrgica', 'lsgica', 'ltgica', 'lugica', 'lvgica', 'lwgica', 'lxgica', 'lygica', 'lzgica', 'lágica', 'làgica', 'lãgica', 'lâgica', 'légica', 'lègica', 'lêgica', 'lígica', 'lìgica', 'lógica', 'lògica', 'lõgica', 'lôgica', 'lúgica', 'lùgica', 'lûgica', 'lçgica', 'líaica', 'líbica', 'lícica', 'lídica', 'líeica', 'lífica', 'lígica', 'líhica', 'líiica', 'líjica', 'líkica', 'lílica', 'límica', 'línica', 'líoica', 'lípica', 'líqica', 'lírica', 'lísica', 'lítica', 'líuica', 'lívica', 'líwica', 'líxica', 'líyica', 'lízica', 'líáica', 'líàica', 'líãica', 'líâica', 'líéica', 'líèica', 'líêica', 'lííica', 'líìica', 'líóica', 'líòica', 'líõica', 'líôica', 'líúica', 'líùica', 'líûica', 'líçica', 'lígaca', 'lígbca', 'lígcca', 'lígdca', 'lígeca', 'lígfca', 'líggca', 'líghca', 'lígica', 'lígjca', 'lígkca', 'líglca', 'lígmca', 'lígnca', 'lígoca', 'lígpca', 'lígqca', 'lígrca', 'lígsca', 'lígtca', 'líguca', 'lígvca', 'lígwca', 'lígxca', 'lígyca', 'lígzca', 'lígáca', 'lígàca', 'lígãca', 'lígâca', 'lígéca', 'lígèca', 'lígêca', 'lígíca', 'lígìca', 'lígóca', 'lígòca', 'lígõca', 'lígôca', 'lígúca', 'lígùca', 'lígûca', 'lígçca', 'lígiaa', 'lígiba', 'lígica', 'lígida', 'lígiea', 'lígifa', 'lígiga', 'lígiha', 'lígiia', 'lígija', 'lígika', 'lígila', 'lígima', 'lígina', 'lígioa', 'lígipa', 'lígiqa', 'lígira', 'lígisa', 'lígita', 'lígiua', 'lígiva', 'lígiwa', 'lígixa', 'lígiya', 'lígiza', 'lígiáa', 'lígiàa', 'lígiãa', 'lígiâa', 'lígiéa', 'lígièa', 'lígiêa', 'lígiía', 'lígiìa', 'lígióa', 'lígiòa', 'lígiõa', 'lígiôa', 'lígiúa', 'lígiùa', 'lígiûa', 'lígiça', 'lígica', 'lígicb', 'lígicc', 'lígicd', 'lígice', 'lígicf', 'lígicg', 'lígich', 'lígici', 'lígicj', 'lígick', 'lígicl', 'lígicm', 'lígicn', 'lígico', 'lígicp', 'lígicq', 'lígicr', 'lígics', 'lígict', 'lígicu', 'lígicv', 'lígicw', 'lígicx', 'lígicy', 'lígicz', 'lígicá', 'lígicà', 'lígicã', 'lígicâ', 'lígicé', 'lígicè', 'lígicê', 'lígicí', 'lígicì', 'lígicó', 'lígicò', 'lígicõ', 'lígicô', 'lígicú', 'lígicù', 'lígicû', 'lígicç', 'lígicaa', 'lígicab', 'lígicac', 'lígicad', 'lígicae', 'lígicaf', 'lígicag', 'lígicah', 'lígicai', 'lígicaj', 'lígicak', 'lígical', 'lígicam', 'lígican', 'lígicao', 'lígicap', 'lígicaq', 'lígicar', 'lígicas', 'lígicat', 'lígicau', 'lígicav', 'lígicaw', 'lígicax', 'lígicay', 'lígicaz', 'lígicaá', 'lígicaà', 'lígicaã', 'lígicaâ', 'lígicaé', 'lígicaè', 'lígicaê', 'lígicaí', 'lígicaì', 'lígicaó', 'lígicaò', 'lígicaõ', 'lígicaô', 'lígicaú', 'lígicaù', 'lígicaû', 'lígicaç']\n"
          ]
        }
      ]
    },
    {
      "cell_type": "markdown",
      "source": [
        "Rodando esta célula, teremos todas as as palavras geradas pelos algoritmos, inclusive pela troca de letras, e dentre elas a correta \"lógica\".\n",
        "\n",
        "Portanto, a função troca_letra() está funcionando conforme o esperado.\n",
        "\n",
        "Mas ainda existe mais um tipo de erro para corrigirmos, e o veremos a seguir para podermos testar o algoritmo final do corretor."
      ],
      "metadata": {
        "id": "GigtJL8rLBLC"
      }
    },
    {
      "cell_type": "markdown",
      "source": [
        "# Invertendo as letras"
      ],
      "metadata": {
        "id": "PtjvEIl-NH6m"
      }
    },
    {
      "cell_type": "markdown",
      "source": [
        "Neste passo, corrigiremos um erro de digitação onde letras foram invertidas em suas posições, como na palavra escrita errada \"lgóica\".\n",
        "\n",
        "Neste caso, a posição da letra “g” foi trocada com a letra “ó”, e como se trata de um equívoco bastante comum, precisaremos deixar o corretor cada vez mais abrangente.\n",
        "\n",
        "Portanto, implementaremos um algoritmo capaz de realizar esse tipo de correção.\n",
        "\n",
        "Precisaremos inverter novamente o caractere “ó” com a letra “g”; logo, esta operação será a inversão das letras.\n",
        "\n",
        "Entenderemos o passo a passo da construção deste algoritmo com uma nova tabela da mesma forma que fizemos com os anteriores.\n",
        "\n",
        "Dividiremos a string \"lgóica\" em duas partes como já nos habituamos. Para começarmos, pegaremos o primeiro lado null da primeira linha e realizaremos a concatenação com a segunda letra \"g\".\n",
        "\n",
        "Depois, pegaremos a primeira letra do segundo lado \"l\" e realizaremos a concatenação com o restante da palavra \"óica\" neste primeiro resultado.\n",
        "\n",
        "Em resumo, pegaremos o lado esquerdo, somaremos com a segunda letra do lado direito, depois concatenaremos com a primeira letra deste mesmo lado direito e por fim somaremos com o restante da palavra.\n",
        "\n",
        "O resultado desta primeira operação será a palavra \"glóica\", que obviamente está errada também.\n",
        "\n",
        "Seguiremos por todas as linhas da tabela até o último caso para vermos se a palavra correta \"lógica\" aparece em algum dos resultados.\n",
        "\n",
        "LGÓICA"
      ],
      "metadata": {
        "id": "RTykjUjrNK7i"
      }
    },
    {
      "cell_type": "markdown",
      "source": [
        "<table><thead><tr><th>ESQUERDO</th><th>DIREITO</th><th>OPERAÇÃO</th><th>RESULTADO</th></tr></thead><tbody><tr><td>null</td><td>lgóica</td><td>null + g + l + óica</td><td>glóica</td></tr><tr><td>l</td><td>góica</td><td>l + ó + g + ica</td><td><strong>lógica</strong></td></tr><tr><td>lg</td><td>óica</td><td>lg + i + ó + ca</td><td>lgióca</td></tr><tr><td>lgó</td><td>ica</td><td>lgó + c + i + a</td><td>lgócia</td></tr><tr><td>lgói</td><td>ca</td><td>lgói + a + c + null</td><td>lgóiac</td></tr><tr><td>lgóic</td><td>a</td><td>lgóic + a + a + null</td><td>lgóicaa</td></tr><tr><td>lgóica</td><td>null</td><td>lgóica + null + null + null</td><td>lgóica</td></tr></tbody></table>"
      ],
      "metadata": {
        "id": "oV2IjHxNNQdw"
      }
    },
    {
      "cell_type": "markdown",
      "source": [
        "Feito isso, já sabemos qual operação este algoritmo será capaz de realizar para a inversão de letras em toda minha palavra.\n",
        "\n",
        "Esta será composta pelo lado esquerdo, somado com a segunda letra de index 1 do lado direito, visto que sempre começamos com 0. Ainda somaremos a primeira letra de index 0 da segunda parte com restante da palavra, ou seja, da terceira posição de index 2 em diante.\n",
        "\n",
        "ESQUERDO + DIREITO[1] + DIREITO[0] + DIREITO[2:]\n",
        "\n",
        "Agora que sabemos como realizar esta operação, poderemos implementá-la adiante."
      ],
      "metadata": {
        "id": "pMv96HE2NYho"
      }
    },
    {
      "cell_type": "markdown",
      "source": [
        "Implementaremos o algoritmo de inversão de letras neste passo.\n",
        "\n",
        "Desenvolveremos a nova função na mesma célula onde já estão todas as operações do nosso corretor.\n",
        "\n",
        "Nesta, notaremos que temos a mesma variável letras em duas das nossas operações; na insere_letras() e em troca_letra() também.\n",
        "\n",
        "Porém, não precisamos desta nem em deletando_caracteres(), e nem precisaremos na nova função inverte_letra() criada para o erro de digitação de \"lgóica\".\n",
        "\n",
        "Com isso, utilizaremos as vantagens de já termos dividido a string em dois lados. Praticamente copiaremos o corpo de deletando_letras() e colaremos no novo algoritmo logo após troca_letra() para alterarmos a operação.\n",
        "\n",
        "Dentro de append(), inseriremos a operação E + D[1] + D[0] + D[2:] como vimos anteriormente."
      ],
      "metadata": {
        "id": "RxMuGeoKPTUl"
      }
    },
    {
      "cell_type": "code",
      "source": [
        "def inverte_letra(fatias):\n",
        "    novas_palavras = []\n",
        "    for E, D in fatias:\n",
        "        novas_palavras.append(E + D[1] + D[0] + D[2:])\n",
        "    return novas_palavras\n"
      ],
      "metadata": {
        "id": "3osu0jNyNPxY"
      },
      "execution_count": 49,
      "outputs": []
    },
    {
      "cell_type": "code",
      "source": [
        "def insere_letras(fatias):\n",
        "    novas_palavras = []\n",
        "    letras = 'abcdefghijklmnopqrstuvwxyzàáâãèéêìíîòóôõùúûç'\n",
        "    for E, D in fatias:\n",
        "        for letra in letras:\n",
        "            novas_palavras.append(E + letra + D)\n",
        "    return novas_palavras\n",
        "\n",
        "def deletando_caracteres(fatias):\n",
        "    novas_palavras = []\n",
        "    for E, D in fatias:\n",
        "        novas_palavras.append(E + D[1:])\n",
        "    return novas_palavras\n",
        "\n",
        "def troca_letra(fatias):\n",
        "    novas_palavras = []\n",
        "    letras = 'abcdefghijklmnopqrstuvwxyzáàãâéèêíìóòõôúùûç'\n",
        "    for E, D in fatias:\n",
        "        for letra in letras:\n",
        "            novas_palavras.append(E + letra + D[1:])\n",
        "    return novas_palavras\n",
        "\n",
        "def inverte_letra(fatias):\n",
        "    novas_palavras = []\n",
        "    for E, D in fatias:\n",
        "        novas_palavras.append(E + D[1] + D[0] + D[2:])\n",
        "    return novas_palavras\n",
        "\n",
        "def gerador_palavras(palavra):\n",
        "    fatias = []\n",
        "    for i in range(len(palavra)+1):\n",
        "        fatias.append((palavra[:i],palavra[i:]))\n",
        "    palavras_geradas = insere_letras(fatias)\n",
        "    palavras_geradas += deletando_caracteres(fatias)\n",
        "    palavras_geradas += troca_letra(fatias)\n",
        "    return palavras_geradas\n",
        "\n",
        "palavra_exemplo = \"lígica\"\n",
        "palavras_geradas = gerador_palavras(palavra_exemplo)\n",
        "print(palavras_geradas)"
      ],
      "metadata": {
        "colab": {
          "base_uri": "https://localhost:8080/"
        },
        "id": "Mo17CxBtPdks",
        "outputId": "938df91e-cc93-4b44-e802-4ee6f9e74912"
      },
      "execution_count": 50,
      "outputs": [
        {
          "output_type": "stream",
          "name": "stdout",
          "text": [
            "['alígica', 'blígica', 'clígica', 'dlígica', 'elígica', 'flígica', 'glígica', 'hlígica', 'ilígica', 'jlígica', 'klígica', 'llígica', 'mlígica', 'nlígica', 'olígica', 'plígica', 'qlígica', 'rlígica', 'slígica', 'tlígica', 'ulígica', 'vlígica', 'wlígica', 'xlígica', 'ylígica', 'zlígica', 'àlígica', 'álígica', 'âlígica', 'ãlígica', 'èlígica', 'élígica', 'êlígica', 'ìlígica', 'ílígica', 'îlígica', 'òlígica', 'ólígica', 'ôlígica', 'õlígica', 'ùlígica', 'úlígica', 'ûlígica', 'çlígica', 'laígica', 'lbígica', 'lcígica', 'ldígica', 'leígica', 'lfígica', 'lgígica', 'lhígica', 'liígica', 'ljígica', 'lkígica', 'llígica', 'lmígica', 'lnígica', 'loígica', 'lpígica', 'lqígica', 'lrígica', 'lsígica', 'ltígica', 'luígica', 'lvígica', 'lwígica', 'lxígica', 'lyígica', 'lzígica', 'làígica', 'láígica', 'lâígica', 'lãígica', 'lèígica', 'léígica', 'lêígica', 'lìígica', 'líígica', 'lîígica', 'lòígica', 'lóígica', 'lôígica', 'lõígica', 'lùígica', 'lúígica', 'lûígica', 'lçígica', 'líagica', 'líbgica', 'lícgica', 'lídgica', 'líegica', 'lífgica', 'líggica', 'líhgica', 'líigica', 'líjgica', 'líkgica', 'lílgica', 'límgica', 'língica', 'líogica', 'lípgica', 'líqgica', 'lírgica', 'lísgica', 'lítgica', 'líugica', 'lívgica', 'líwgica', 'líxgica', 'líygica', 'lízgica', 'líàgica', 'líágica', 'líâgica', 'líãgica', 'líègica', 'líégica', 'líêgica', 'líìgica', 'líígica', 'líîgica', 'líògica', 'líógica', 'líôgica', 'líõgica', 'líùgica', 'líúgica', 'líûgica', 'líçgica', 'lígaica', 'lígbica', 'lígcica', 'lígdica', 'lígeica', 'lígfica', 'líggica', 'líghica', 'lígiica', 'lígjica', 'lígkica', 'líglica', 'lígmica', 'lígnica', 'lígoica', 'lígpica', 'lígqica', 'lígrica', 'lígsica', 'lígtica', 'líguica', 'lígvica', 'lígwica', 'lígxica', 'lígyica', 'lígzica', 'lígàica', 'lígáica', 'lígâica', 'lígãica', 'lígèica', 'lígéica', 'lígêica', 'lígìica', 'lígíica', 'lígîica', 'lígòica', 'lígóica', 'lígôica', 'lígõica', 'lígùica', 'lígúica', 'lígûica', 'lígçica', 'lígiaca', 'lígibca', 'lígicca', 'lígidca', 'lígieca', 'lígifca', 'lígigca', 'lígihca', 'lígiica', 'lígijca', 'lígikca', 'lígilca', 'lígimca', 'líginca', 'lígioca', 'lígipca', 'lígiqca', 'lígirca', 'lígisca', 'lígitca', 'lígiuca', 'lígivca', 'lígiwca', 'lígixca', 'lígiyca', 'lígizca', 'lígiàca', 'lígiáca', 'lígiâca', 'lígiãca', 'lígièca', 'lígiéca', 'lígiêca', 'lígiìca', 'lígiíca', 'lígiîca', 'lígiòca', 'lígióca', 'lígiôca', 'lígiõca', 'lígiùca', 'lígiúca', 'lígiûca', 'lígiçca', 'lígicaa', 'lígicba', 'lígicca', 'lígicda', 'lígicea', 'lígicfa', 'lígicga', 'lígicha', 'lígicia', 'lígicja', 'lígicka', 'lígicla', 'lígicma', 'lígicna', 'lígicoa', 'lígicpa', 'lígicqa', 'lígicra', 'lígicsa', 'lígicta', 'lígicua', 'lígicva', 'lígicwa', 'lígicxa', 'lígicya', 'lígicza', 'lígicàa', 'lígicáa', 'lígicâa', 'lígicãa', 'lígicèa', 'lígicéa', 'lígicêa', 'lígicìa', 'lígicía', 'lígicîa', 'lígicòa', 'lígicóa', 'lígicôa', 'lígicõa', 'lígicùa', 'lígicúa', 'lígicûa', 'lígicça', 'lígicaa', 'lígicab', 'lígicac', 'lígicad', 'lígicae', 'lígicaf', 'lígicag', 'lígicah', 'lígicai', 'lígicaj', 'lígicak', 'lígical', 'lígicam', 'lígican', 'lígicao', 'lígicap', 'lígicaq', 'lígicar', 'lígicas', 'lígicat', 'lígicau', 'lígicav', 'lígicaw', 'lígicax', 'lígicay', 'lígicaz', 'lígicaà', 'lígicaá', 'lígicaâ', 'lígicaã', 'lígicaè', 'lígicaé', 'lígicaê', 'lígicaì', 'lígicaí', 'lígicaî', 'lígicaò', 'lígicaó', 'lígicaô', 'lígicaõ', 'lígicaù', 'lígicaú', 'lígicaû', 'lígicaç', 'ígica', 'lgica', 'líica', 'lígca', 'lígia', 'lígic', 'lígica', 'aígica', 'bígica', 'cígica', 'dígica', 'eígica', 'fígica', 'gígica', 'hígica', 'iígica', 'jígica', 'kígica', 'lígica', 'mígica', 'nígica', 'oígica', 'pígica', 'qígica', 'rígica', 'sígica', 'tígica', 'uígica', 'vígica', 'wígica', 'xígica', 'yígica', 'zígica', 'áígica', 'àígica', 'ãígica', 'âígica', 'éígica', 'èígica', 'êígica', 'íígica', 'ìígica', 'óígica', 'òígica', 'õígica', 'ôígica', 'úígica', 'ùígica', 'ûígica', 'çígica', 'lagica', 'lbgica', 'lcgica', 'ldgica', 'legica', 'lfgica', 'lggica', 'lhgica', 'ligica', 'ljgica', 'lkgica', 'llgica', 'lmgica', 'lngica', 'logica', 'lpgica', 'lqgica', 'lrgica', 'lsgica', 'ltgica', 'lugica', 'lvgica', 'lwgica', 'lxgica', 'lygica', 'lzgica', 'lágica', 'làgica', 'lãgica', 'lâgica', 'légica', 'lègica', 'lêgica', 'lígica', 'lìgica', 'lógica', 'lògica', 'lõgica', 'lôgica', 'lúgica', 'lùgica', 'lûgica', 'lçgica', 'líaica', 'líbica', 'lícica', 'lídica', 'líeica', 'lífica', 'lígica', 'líhica', 'líiica', 'líjica', 'líkica', 'lílica', 'límica', 'línica', 'líoica', 'lípica', 'líqica', 'lírica', 'lísica', 'lítica', 'líuica', 'lívica', 'líwica', 'líxica', 'líyica', 'lízica', 'líáica', 'líàica', 'líãica', 'líâica', 'líéica', 'líèica', 'líêica', 'lííica', 'líìica', 'líóica', 'líòica', 'líõica', 'líôica', 'líúica', 'líùica', 'líûica', 'líçica', 'lígaca', 'lígbca', 'lígcca', 'lígdca', 'lígeca', 'lígfca', 'líggca', 'líghca', 'lígica', 'lígjca', 'lígkca', 'líglca', 'lígmca', 'lígnca', 'lígoca', 'lígpca', 'lígqca', 'lígrca', 'lígsca', 'lígtca', 'líguca', 'lígvca', 'lígwca', 'lígxca', 'lígyca', 'lígzca', 'lígáca', 'lígàca', 'lígãca', 'lígâca', 'lígéca', 'lígèca', 'lígêca', 'lígíca', 'lígìca', 'lígóca', 'lígòca', 'lígõca', 'lígôca', 'lígúca', 'lígùca', 'lígûca', 'lígçca', 'lígiaa', 'lígiba', 'lígica', 'lígida', 'lígiea', 'lígifa', 'lígiga', 'lígiha', 'lígiia', 'lígija', 'lígika', 'lígila', 'lígima', 'lígina', 'lígioa', 'lígipa', 'lígiqa', 'lígira', 'lígisa', 'lígita', 'lígiua', 'lígiva', 'lígiwa', 'lígixa', 'lígiya', 'lígiza', 'lígiáa', 'lígiàa', 'lígiãa', 'lígiâa', 'lígiéa', 'lígièa', 'lígiêa', 'lígiía', 'lígiìa', 'lígióa', 'lígiòa', 'lígiõa', 'lígiôa', 'lígiúa', 'lígiùa', 'lígiûa', 'lígiça', 'lígica', 'lígicb', 'lígicc', 'lígicd', 'lígice', 'lígicf', 'lígicg', 'lígich', 'lígici', 'lígicj', 'lígick', 'lígicl', 'lígicm', 'lígicn', 'lígico', 'lígicp', 'lígicq', 'lígicr', 'lígics', 'lígict', 'lígicu', 'lígicv', 'lígicw', 'lígicx', 'lígicy', 'lígicz', 'lígicá', 'lígicà', 'lígicã', 'lígicâ', 'lígicé', 'lígicè', 'lígicê', 'lígicí', 'lígicì', 'lígicó', 'lígicò', 'lígicõ', 'lígicô', 'lígicú', 'lígicù', 'lígicû', 'lígicç', 'lígicaa', 'lígicab', 'lígicac', 'lígicad', 'lígicae', 'lígicaf', 'lígicag', 'lígicah', 'lígicai', 'lígicaj', 'lígicak', 'lígical', 'lígicam', 'lígican', 'lígicao', 'lígicap', 'lígicaq', 'lígicar', 'lígicas', 'lígicat', 'lígicau', 'lígicav', 'lígicaw', 'lígicax', 'lígicay', 'lígicaz', 'lígicaá', 'lígicaà', 'lígicaã', 'lígicaâ', 'lígicaé', 'lígicaè', 'lígicaê', 'lígicaí', 'lígicaì', 'lígicaó', 'lígicaò', 'lígicaõ', 'lígicaô', 'lígicaú', 'lígicaù', 'lígicaû', 'lígicaç']\n"
          ]
        }
      ]
    },
    {
      "cell_type": "markdown",
      "source": [
        "Porém, estamos invertendo o elemento de index 0 com o elemento de index 1. Logo, precisaremos de no mínimo duas letras na segunda fatia, pois do contrário não teremos inversão alguma no caso de termos menos que isso ou null.\n",
        "\n",
        "Portanto, precisaremos colocar uma condicional if de len() dentro de for do inverte_letra().\n",
        "\n",
        "Se o tamanho do lado direito D for maior que 1:, realizaremos a operação. Caso seja menor, não fará sentido realizá-la como já discutimos.\n",
        "\n",
        "Adicionaremos a nova função dentro de gerador_palavras() e alteraremos a palavra_exemplo para \"lgóica\". Desta forma, poderemos verificar a saída deste algoritmo."
      ],
      "metadata": {
        "id": "Mbibr8zkPhml"
      }
    },
    {
      "cell_type": "code",
      "source": [
        "def insere_letras(fatias):\n",
        "    novas_palavras = []\n",
        "    letras = 'abcdefghijklmnopqrstuvwxyzàáâãèéêìíîòóôõùúûç'\n",
        "    for E, D in fatias:\n",
        "        for letra in letras:\n",
        "            novas_palavras.append(E + letra + D)\n",
        "    return novas_palavras\n",
        "\n",
        "def deletando_caracteres(fatias):\n",
        "    novas_palavras = []\n",
        "    for E, D in fatias:\n",
        "        novas_palavras.append(E + D[1:])\n",
        "    return novas_palavras\n",
        "\n",
        "def troca_letra(fatias):\n",
        "    novas_palavras = []\n",
        "    letras = 'abcdefghijklmnopqrstuvwxyzáàãâéèêíìóòõôúùûç'\n",
        "    for E, D in fatias:\n",
        "        for letra in letras:\n",
        "            novas_palavras.append(E + letra + D[1:])\n",
        "    return novas_palavras\n",
        "\n",
        "def inverte_letra(fatias):\n",
        "    novas_palavras = []\n",
        "    for E, D in fatias:\n",
        "        if len(D) > 1:\n",
        "            novas_palavras.append(E + D[1] + D[0] + D[2:])\n",
        "    return novas_palavras\n",
        "\n",
        "def gerador_palavras(palavra):\n",
        "    fatias = []\n",
        "    for i in range(len(palavra)+1):\n",
        "        fatias.append((palavra[:i],palavra[i:]))\n",
        "    palavras_geradas = insere_letras(fatias)\n",
        "    palavras_geradas += deletando_caracteres(fatias)\n",
        "    palavras_geradas += troca_letra(fatias)\n",
        "    palavras_geradas += inverte_letra(fatias)\n",
        "    return palavras_geradas\n",
        "\n",
        "palavra_exemplo = \"lgóica\"\n",
        "palavras_geradas = gerador_palavras(palavra_exemplo)\n",
        "print(palavras_geradas)"
      ],
      "metadata": {
        "colab": {
          "base_uri": "https://localhost:8080/"
        },
        "id": "1hp27IUEPimW",
        "outputId": "7bca697e-d51d-45f1-957b-9f63dae81d51"
      },
      "execution_count": 51,
      "outputs": [
        {
          "output_type": "stream",
          "name": "stdout",
          "text": [
            "['algóica', 'blgóica', 'clgóica', 'dlgóica', 'elgóica', 'flgóica', 'glgóica', 'hlgóica', 'ilgóica', 'jlgóica', 'klgóica', 'llgóica', 'mlgóica', 'nlgóica', 'olgóica', 'plgóica', 'qlgóica', 'rlgóica', 'slgóica', 'tlgóica', 'ulgóica', 'vlgóica', 'wlgóica', 'xlgóica', 'ylgóica', 'zlgóica', 'àlgóica', 'álgóica', 'âlgóica', 'ãlgóica', 'èlgóica', 'élgóica', 'êlgóica', 'ìlgóica', 'ílgóica', 'îlgóica', 'òlgóica', 'ólgóica', 'ôlgóica', 'õlgóica', 'ùlgóica', 'úlgóica', 'ûlgóica', 'çlgóica', 'lagóica', 'lbgóica', 'lcgóica', 'ldgóica', 'legóica', 'lfgóica', 'lggóica', 'lhgóica', 'ligóica', 'ljgóica', 'lkgóica', 'llgóica', 'lmgóica', 'lngóica', 'logóica', 'lpgóica', 'lqgóica', 'lrgóica', 'lsgóica', 'ltgóica', 'lugóica', 'lvgóica', 'lwgóica', 'lxgóica', 'lygóica', 'lzgóica', 'làgóica', 'lágóica', 'lâgóica', 'lãgóica', 'lègóica', 'légóica', 'lêgóica', 'lìgóica', 'lígóica', 'lîgóica', 'lògóica', 'lógóica', 'lôgóica', 'lõgóica', 'lùgóica', 'lúgóica', 'lûgóica', 'lçgóica', 'lgaóica', 'lgbóica', 'lgcóica', 'lgdóica', 'lgeóica', 'lgfóica', 'lggóica', 'lghóica', 'lgióica', 'lgjóica', 'lgkóica', 'lglóica', 'lgmóica', 'lgnóica', 'lgoóica', 'lgpóica', 'lgqóica', 'lgróica', 'lgsóica', 'lgtóica', 'lguóica', 'lgvóica', 'lgwóica', 'lgxóica', 'lgyóica', 'lgzóica', 'lgàóica', 'lgáóica', 'lgâóica', 'lgãóica', 'lgèóica', 'lgéóica', 'lgêóica', 'lgìóica', 'lgíóica', 'lgîóica', 'lgòóica', 'lgóóica', 'lgôóica', 'lgõóica', 'lgùóica', 'lgúóica', 'lgûóica', 'lgçóica', 'lgóaica', 'lgóbica', 'lgócica', 'lgódica', 'lgóeica', 'lgófica', 'lgógica', 'lgóhica', 'lgóiica', 'lgójica', 'lgókica', 'lgólica', 'lgómica', 'lgónica', 'lgóoica', 'lgópica', 'lgóqica', 'lgórica', 'lgósica', 'lgótica', 'lgóuica', 'lgóvica', 'lgówica', 'lgóxica', 'lgóyica', 'lgózica', 'lgóàica', 'lgóáica', 'lgóâica', 'lgóãica', 'lgóèica', 'lgóéica', 'lgóêica', 'lgóìica', 'lgóíica', 'lgóîica', 'lgóòica', 'lgóóica', 'lgóôica', 'lgóõica', 'lgóùica', 'lgóúica', 'lgóûica', 'lgóçica', 'lgóiaca', 'lgóibca', 'lgóicca', 'lgóidca', 'lgóieca', 'lgóifca', 'lgóigca', 'lgóihca', 'lgóiica', 'lgóijca', 'lgóikca', 'lgóilca', 'lgóimca', 'lgóinca', 'lgóioca', 'lgóipca', 'lgóiqca', 'lgóirca', 'lgóisca', 'lgóitca', 'lgóiuca', 'lgóivca', 'lgóiwca', 'lgóixca', 'lgóiyca', 'lgóizca', 'lgóiàca', 'lgóiáca', 'lgóiâca', 'lgóiãca', 'lgóièca', 'lgóiéca', 'lgóiêca', 'lgóiìca', 'lgóiíca', 'lgóiîca', 'lgóiòca', 'lgóióca', 'lgóiôca', 'lgóiõca', 'lgóiùca', 'lgóiúca', 'lgóiûca', 'lgóiçca', 'lgóicaa', 'lgóicba', 'lgóicca', 'lgóicda', 'lgóicea', 'lgóicfa', 'lgóicga', 'lgóicha', 'lgóicia', 'lgóicja', 'lgóicka', 'lgóicla', 'lgóicma', 'lgóicna', 'lgóicoa', 'lgóicpa', 'lgóicqa', 'lgóicra', 'lgóicsa', 'lgóicta', 'lgóicua', 'lgóicva', 'lgóicwa', 'lgóicxa', 'lgóicya', 'lgóicza', 'lgóicàa', 'lgóicáa', 'lgóicâa', 'lgóicãa', 'lgóicèa', 'lgóicéa', 'lgóicêa', 'lgóicìa', 'lgóicía', 'lgóicîa', 'lgóicòa', 'lgóicóa', 'lgóicôa', 'lgóicõa', 'lgóicùa', 'lgóicúa', 'lgóicûa', 'lgóicça', 'lgóicaa', 'lgóicab', 'lgóicac', 'lgóicad', 'lgóicae', 'lgóicaf', 'lgóicag', 'lgóicah', 'lgóicai', 'lgóicaj', 'lgóicak', 'lgóical', 'lgóicam', 'lgóican', 'lgóicao', 'lgóicap', 'lgóicaq', 'lgóicar', 'lgóicas', 'lgóicat', 'lgóicau', 'lgóicav', 'lgóicaw', 'lgóicax', 'lgóicay', 'lgóicaz', 'lgóicaà', 'lgóicaá', 'lgóicaâ', 'lgóicaã', 'lgóicaè', 'lgóicaé', 'lgóicaê', 'lgóicaì', 'lgóicaí', 'lgóicaî', 'lgóicaò', 'lgóicaó', 'lgóicaô', 'lgóicaõ', 'lgóicaù', 'lgóicaú', 'lgóicaû', 'lgóicaç', 'góica', 'lóica', 'lgica', 'lgóca', 'lgóia', 'lgóic', 'lgóica', 'agóica', 'bgóica', 'cgóica', 'dgóica', 'egóica', 'fgóica', 'ggóica', 'hgóica', 'igóica', 'jgóica', 'kgóica', 'lgóica', 'mgóica', 'ngóica', 'ogóica', 'pgóica', 'qgóica', 'rgóica', 'sgóica', 'tgóica', 'ugóica', 'vgóica', 'wgóica', 'xgóica', 'ygóica', 'zgóica', 'ágóica', 'àgóica', 'ãgóica', 'âgóica', 'égóica', 'ègóica', 'êgóica', 'ígóica', 'ìgóica', 'ógóica', 'ògóica', 'õgóica', 'ôgóica', 'úgóica', 'ùgóica', 'ûgóica', 'çgóica', 'laóica', 'lbóica', 'lcóica', 'ldóica', 'leóica', 'lfóica', 'lgóica', 'lhóica', 'lióica', 'ljóica', 'lkóica', 'llóica', 'lmóica', 'lnóica', 'loóica', 'lpóica', 'lqóica', 'lróica', 'lsóica', 'ltóica', 'luóica', 'lvóica', 'lwóica', 'lxóica', 'lyóica', 'lzóica', 'láóica', 'làóica', 'lãóica', 'lâóica', 'léóica', 'lèóica', 'lêóica', 'líóica', 'lìóica', 'lóóica', 'lòóica', 'lõóica', 'lôóica', 'lúóica', 'lùóica', 'lûóica', 'lçóica', 'lgaica', 'lgbica', 'lgcica', 'lgdica', 'lgeica', 'lgfica', 'lggica', 'lghica', 'lgiica', 'lgjica', 'lgkica', 'lglica', 'lgmica', 'lgnica', 'lgoica', 'lgpica', 'lgqica', 'lgrica', 'lgsica', 'lgtica', 'lguica', 'lgvica', 'lgwica', 'lgxica', 'lgyica', 'lgzica', 'lgáica', 'lgàica', 'lgãica', 'lgâica', 'lgéica', 'lgèica', 'lgêica', 'lgíica', 'lgìica', 'lgóica', 'lgòica', 'lgõica', 'lgôica', 'lgúica', 'lgùica', 'lgûica', 'lgçica', 'lgóaca', 'lgóbca', 'lgócca', 'lgódca', 'lgóeca', 'lgófca', 'lgógca', 'lgóhca', 'lgóica', 'lgójca', 'lgókca', 'lgólca', 'lgómca', 'lgónca', 'lgóoca', 'lgópca', 'lgóqca', 'lgórca', 'lgósca', 'lgótca', 'lgóuca', 'lgóvca', 'lgówca', 'lgóxca', 'lgóyca', 'lgózca', 'lgóáca', 'lgóàca', 'lgóãca', 'lgóâca', 'lgóéca', 'lgóèca', 'lgóêca', 'lgóíca', 'lgóìca', 'lgóóca', 'lgóòca', 'lgóõca', 'lgóôca', 'lgóúca', 'lgóùca', 'lgóûca', 'lgóçca', 'lgóiaa', 'lgóiba', 'lgóica', 'lgóida', 'lgóiea', 'lgóifa', 'lgóiga', 'lgóiha', 'lgóiia', 'lgóija', 'lgóika', 'lgóila', 'lgóima', 'lgóina', 'lgóioa', 'lgóipa', 'lgóiqa', 'lgóira', 'lgóisa', 'lgóita', 'lgóiua', 'lgóiva', 'lgóiwa', 'lgóixa', 'lgóiya', 'lgóiza', 'lgóiáa', 'lgóiàa', 'lgóiãa', 'lgóiâa', 'lgóiéa', 'lgóièa', 'lgóiêa', 'lgóiía', 'lgóiìa', 'lgóióa', 'lgóiòa', 'lgóiõa', 'lgóiôa', 'lgóiúa', 'lgóiùa', 'lgóiûa', 'lgóiça', 'lgóica', 'lgóicb', 'lgóicc', 'lgóicd', 'lgóice', 'lgóicf', 'lgóicg', 'lgóich', 'lgóici', 'lgóicj', 'lgóick', 'lgóicl', 'lgóicm', 'lgóicn', 'lgóico', 'lgóicp', 'lgóicq', 'lgóicr', 'lgóics', 'lgóict', 'lgóicu', 'lgóicv', 'lgóicw', 'lgóicx', 'lgóicy', 'lgóicz', 'lgóicá', 'lgóicà', 'lgóicã', 'lgóicâ', 'lgóicé', 'lgóicè', 'lgóicê', 'lgóicí', 'lgóicì', 'lgóicó', 'lgóicò', 'lgóicõ', 'lgóicô', 'lgóicú', 'lgóicù', 'lgóicû', 'lgóicç', 'lgóicaa', 'lgóicab', 'lgóicac', 'lgóicad', 'lgóicae', 'lgóicaf', 'lgóicag', 'lgóicah', 'lgóicai', 'lgóicaj', 'lgóicak', 'lgóical', 'lgóicam', 'lgóican', 'lgóicao', 'lgóicap', 'lgóicaq', 'lgóicar', 'lgóicas', 'lgóicat', 'lgóicau', 'lgóicav', 'lgóicaw', 'lgóicax', 'lgóicay', 'lgóicaz', 'lgóicaá', 'lgóicaà', 'lgóicaã', 'lgóicaâ', 'lgóicaé', 'lgóicaè', 'lgóicaê', 'lgóicaí', 'lgóicaì', 'lgóicaó', 'lgóicaò', 'lgóicaõ', 'lgóicaô', 'lgóicaú', 'lgóicaù', 'lgóicaû', 'lgóicaç', 'glóica', 'lógica', 'lgióca', 'lgócia', 'lgóiac']\n"
          ]
        }
      ]
    },
    {
      "cell_type": "markdown",
      "source": [
        "Executando a célula, veremos os resultados desta última operação ao final da lista impressa. Dentre estes, encontraremos a resposta correta 'lógica'.\n",
        "\n",
        "Portanto, a função inverte_letra() está implementada corretamente.\n",
        "\n",
        "Faremos mais um teste com outra palavra equivocadamente escrita com letras invertidas, como \"lógiac\" por exemplo.\n",
        "\n",
        "Como resultado desta execução, teremos a impressão da lista com a última palavra sendo a correta 'lógica'. Ou seja, também corrigiu esta inversão de letras com sucesso.\n",
        "\n",
        "Estando os algoritmos funcionando como o esperado, avaliaremos a eficiência do nosso corretor.\n",
        "\n",
        "Para avaliarmos o nosso modelo, chamaremos a função avaliador() e passaremos uma lista_teste em uma nova célula seguinte."
      ],
      "metadata": {
        "id": "fvUpZ1dgPm79"
      }
    },
    {
      "cell_type": "code",
      "source": [
        "avaliador(lista_teste)"
      ],
      "metadata": {
        "colab": {
          "base_uri": "https://localhost:8080/"
        },
        "id": "6_-FlC4qPp9S",
        "outputId": "6e7a0468-33d6-4547-ee74-632e819e033f"
      },
      "execution_count": 52,
      "outputs": [
        {
          "output_type": "stream",
          "name": "stdout",
          "text": [
            "76.34% de 186 palavras\n"
          ]
        }
      ]
    },
    {
      "cell_type": "markdown",
      "source": [
        "O resultado será de 76.34% de 186 palavras. Portanto, melhoramos consideravelmente o nosso corretor, pois começamos com aproximadamente 1% de taxa de acerto apenas, o que era inaceitável.\n",
        "\n",
        "Porém, estamos realizando os testes a partir de uma lista de palavras que pode conter alguns termos ainda desconhecidos pelo nosso vocabulário.\n",
        "\n",
        "Então os quase 24% restantes de erro estão associados tanto ao erro do próprio corretor quanto ao fato de desconhecermos a palavra, pois se o algoritmo ainda não a conhece, a correção não será feita.\n",
        "\n",
        "Portanto, precisaremos saber de alguma maneira qual é a porcentagem de vocábulos conhecidos na lista de teste. Veremos isso a seguir."
      ],
      "metadata": {
        "id": "Bw0jMAkYPsLE"
      }
    },
    {
      "cell_type": "markdown",
      "source": [
        "#  Palavras desconhecidas ao vocabulário"
      ],
      "metadata": {
        "id": "hHciGUe5R4lZ"
      }
    },
    {
      "cell_type": "markdown",
      "source": [
        "Nosso corretor já é capaz de acertar aproximadamente 77% das palavras.\n",
        "\n",
        "A taxa de erros está associada a dois fatores; restrição do algoritmo que não gera a palavra correta e dados de treinamento.\n",
        "\n",
        "Às vezes um determinado termo ainda é desconhecido, e portanto não podemos realizar a correção de algo que não conhecemos.\n",
        "\n",
        "Em um exemplo dado anteriormente, se conhecemos cerca de apenas 100 palavras de um idioma estrangeiro, somente poderemos corrigir esta mesma quantidade de palavras conhecidas.\n",
        "\n",
        "Logo, o modelo do corretor é restrito por este volume de vocabulário, calculado em 18.464 vocábulos em nosso caso.\n",
        "\n",
        "Precisaremos calcular o quanto que essa restrição está impactando no resultado, pois temos uma taxa de erro e deveremos saber o quanto desta porcentagem está associada às palavras desconhecidas."
      ],
      "metadata": {
        "id": "HebuTceCSBJE"
      }
    },
    {
      "cell_type": "code",
      "source": [
        "def avaliador(testes):\n",
        "    numero_palavras = len(testes)\n",
        "    acertou = 0\n",
        "    for correta, errada in testes:\n",
        "        palavra_corrigida = corretor(errada)\n",
        "        if palavra_corrigida == correta:\n",
        "            acertou += 1\n",
        "    taxa_acerto = round(acertou*100/numero_palavras, 2)\n",
        "    print(f\"{taxa_acerto}% de {numero_palavras} palavras\")\n",
        "\n",
        "avaliador(lista_teste)"
      ],
      "metadata": {
        "colab": {
          "base_uri": "https://localhost:8080/"
        },
        "id": "GoqbmivoPuE6",
        "outputId": "8cb42da8-69db-4934-d5d3-c723c9dc266a"
      },
      "execution_count": 53,
      "outputs": [
        {
          "output_type": "stream",
          "name": "stdout",
          "text": [
            "76.34% de 186 palavras\n"
          ]
        }
      ]
    },
    {
      "cell_type": "markdown",
      "source": [
        "Como estamos calculando a nossa taxa de acerto, poderemos calcular também a taxa de palavras desconhecidas por meio de uma nova variável chamada taxa_desconhecida. Esta será igual a algo muito parecido com o cálculo da taxa de acerto.\n",
        "\n",
        "Porém, não queremos mais calcular a acertou, e sim o que é desconhecido; então substituiremos pela nova variável desconhecida. Na função, setaremos seu valor com um contador de palavras desconhecidas, da mesma forma que fizemos com acertou igual a 0.\n",
        "\n",
        "Incrementaremos este contador a cada vez que descobrirmos que uma das palavras corretas em correta é desconhecida ao nosso vocabulário.\n",
        "\n",
        "Esta implementação entrará no if se acertou o termo. Já o else será justamente quando errar a previsão, ou seja, incrementaremos a variável desconhecida quando a palavra correta for desconhecida do meu vocabulário. Se errou, poderá ser por algum dos dois motivos já citados.\n",
        "\n",
        "Após +=, será incrementada quando a palavra correta não estiver no vocabulario com not in entre parênteses, e precisaremos recebê-lo como parâmetro de avaliador() também.\n",
        "\n",
        "Com isso, recebemos o vocabulario como parâmetro do avaliador, incrementamos a variável desconhecida quando a palavra correta não estiver no meu vocabulário e calculamos a taxa de taxa_desconhecida\n",
        "\n",
        "Falta-nos imprimi-la também na frase e setar a variável vocabulario sendo igual a set() recebendo a lista_normalizada.\n",
        "\n",
        "Ao final do código, passaremos vocabulario como segundo parâmetro da chamada de avaliador()."
      ],
      "metadata": {
        "id": "hsvaQ1EuSEFD"
      }
    },
    {
      "cell_type": "code",
      "source": [
        "def avaliador(testes, vocabulario):\n",
        "    numero_palavras = len(testes)\n",
        "    acertou = 0\n",
        "    desconhecida = 0\n",
        "    for correta, errada in testes:\n",
        "        palavra_corrigida = corretor(errada)\n",
        "        if palavra_corrigida == correta:\n",
        "            acertou += 1\n",
        "        else:\n",
        "            desconhecida += (correta not in vocabulario)\n",
        "    taxa_acerto = round(acertou*100/numero_palavras, 2)\n",
        "    taxa_desconhecida = round(desconhecida*100/numero_palavras, 2)\n",
        "    print(f\"{taxa_acerto}% de {numero_palavras} palavras, desconhecidas é {taxa_desconhecida}%\")\n",
        "\n",
        "\n",
        "vocabulario = set(lista_normalizada)\n",
        "avaliador(lista_teste, vocabulario)"
      ],
      "metadata": {
        "colab": {
          "base_uri": "https://localhost:8080/"
        },
        "id": "ZNirXs2VSIw_",
        "outputId": "8a8f4866-608e-49c2-ca6b-48b60cf050ed"
      },
      "execution_count": 54,
      "outputs": [
        {
          "output_type": "stream",
          "name": "stdout",
          "text": [
            "76.34% de 186 palavras, desconhecidas é 6.99%\n"
          ]
        }
      ]
    },
    {
      "cell_type": "markdown",
      "source": [
        "Como retorno da execução, teremos a taxa de acerto de 76,34% e a taxa de palavras desconhecidas de 6.99%.\n",
        "\n",
        "A seguir, descobriremos se há um maneira de tornarmos nosso algoritmo mais abrangente com alguma expansão de metodologia."
      ],
      "metadata": {
        "id": "TXth7mAcSLnr"
      }
    },
    {
      "cell_type": "markdown",
      "source": [
        "Após algumas reflexões sobre o corretor, poderemos chegar em algumas conclusões; uma delas diz respeito à variável palavra que é a palavra “lóigica”."
      ],
      "metadata": {
        "id": "2w5YINFOUMcl"
      }
    },
    {
      "cell_type": "code",
      "source": [
        "palavra = \"lóigica\""
      ],
      "metadata": {
        "id": "Gnty_jgGUNXd"
      },
      "execution_count": 55,
      "outputs": []
    },
    {
      "cell_type": "markdown",
      "source": [
        "Precisaremos corrigir este termo equivocado. Para isso, eliminaremos a letra “i” para obtermos o correto “lógica”. Nesta correção, realizamos uma única operação que deleta apenas um caractere.\n",
        "\n",
        "Porém, às vezes poderemos ter um problema em que sejam necessárias mais operações para corrigirmos a palavra digitada equivocadamente.\n",
        "\n",
        "Por exemplo, se escrevermos erroneamente “lóiigica”, precisaremos deletar o caractere “i” duas vezes, e o nosso corretor ainda não é capaz de fazer isso.\n",
        "\n",
        "Logo, notaremos que o nosso corretor só corrige palavras que estão a uma única distância da correta. Então construiremos uma função que corrigirá as que estão a duas distâncias do resultado correto, e verificará qual será o retorno do novo corretor.\n",
        "\n",
        "Para isso, criaremos um novo gerador de palavras chamado gerador_turbinado() com def, o qual receberá as palavras_geradas do próprio gerador_palavras como parâmetro.\n",
        "\n",
        "Esta função retornará os novos vocábulos corrigidos a duas distâncias da palavra digitada equivocadamente, ou seja, novas_palavras.\n",
        "\n",
        "Pegaremos cada uma das palavras geradas pelo gerador_palavras com for, aplicando novamente o gerador para palavra.\n",
        "\n",
        "No caso da palavra “lóiigica”, o gerador_palavras conterá a palavra 'lóigica' como resultado. A partir daí, o gerador_turbinado() removerá o outro caractere “i” a mais, gerando a palavra correta \"lógica\".\n",
        "\n",
        "Então, para cada palavra das palavras_geradas, chamaremos a função gerador_palavras() novamente e colocaremos tudo dentro de novas_palavras que será igual a uma lista.\n",
        "\n",
        "Não aplicaremos .append() no gerador, pois seu retorno será uma lista. Logo, a concatenaremos com novas_palavras usando +=.\n",
        "\n",
        "Com isso, retornaremos as novas palavras corrigidas a duas distâncias da digitada equivocadamente.\n",
        "\n",
        "Para testarmos, chamaremos a nova variável temporária palavras_g ao final do bloco, chamando o gerador_turbinado() que receberá as palavras_geradas() com a palavra digitada equivocadamente “lóigica”, ou seja, a palavra.\n",
        "\n",
        "Agora queremos saber se o termo “lógica” está de fato em palavras_g. Caso o retorno seja verdadeiro, o algoritmo de gerador de palavras turbinado corrigirá este tipo de erro."
      ],
      "metadata": {
        "id": "91oGY8jVUSWO"
      }
    },
    {
      "cell_type": "code",
      "source": [
        "palavra = \"lóiigica\"\n",
        "\n",
        "def gerador_turbinado(palavras_geradas):\n",
        "    novas_palavras = []\n",
        "    for palavra in palavras_geradas:\n",
        "        novas_palavras += gerador_palavras(palavra)\n",
        "    return novas_palavras\n",
        "\n",
        "palavras_g = gerador_turbinado(gerador_palavras(palavra))\n",
        "\"lógica\" in palavras_g"
      ],
      "metadata": {
        "colab": {
          "base_uri": "https://localhost:8080/"
        },
        "id": "rVosTvXHUTZt",
        "outputId": "0164c24c-4a82-4bf9-db3b-790cec4e90f6"
      },
      "execution_count": 56,
      "outputs": [
        {
          "output_type": "execute_result",
          "data": {
            "text/plain": [
              "True"
            ]
          },
          "metadata": {},
          "execution_count": 56
        }
      ]
    },
    {
      "cell_type": "markdown",
      "source": [
        "Rodando o código, teremos o resultado True.\n",
        "\n",
        "Portanto, nosso gerador_turbinado() está corrigindo palavras com até duas de distância da correta.\n",
        "\n",
        "Para descobrirmos o tamanho desta nova lista, aplicaremos len() das palavras_g na célula seguinte."
      ],
      "metadata": {
        "id": "ZifqTUWSUVst"
      }
    },
    {
      "cell_type": "code",
      "source": [
        "len(palavras_g)"
      ],
      "metadata": {
        "colab": {
          "base_uri": "https://localhost:8080/"
        },
        "id": "e-KkGfcAUd3J",
        "outputId": "0eab808d-cce4-477a-b80d-ce74ee92f2ca"
      },
      "execution_count": 57,
      "outputs": [
        {
          "output_type": "execute_result",
          "data": {
            "text/plain": [
              "676760"
            ]
          },
          "metadata": {},
          "execution_count": 57
        }
      ]
    },
    {
      "cell_type": "markdown",
      "source": [
        "Como retorno, veremos que gerou 676.760 variações de uma única palavra, ou seja teremos um volume extra de palavras geradas.\n",
        "\n",
        "Sempre fazer a correção com esta grande quantidade de resultados talvez não faça sentido, pois demoraria muito.\n",
        "\n",
        "A seguir, veremos uma maneira de eliminar as palavras que não existem dentro de palavras_geradas."
      ],
      "metadata": {
        "id": "hEHrNaxXUXs9"
      }
    },
    {
      "cell_type": "markdown",
      "source": [
        "Anteriormente, vimos um gigantesco número de palavras geradas para uma única correção, tanto pelo gerador_palavras() quanto pelo gerador_turbinado().\n",
        "\n",
        "Por conta disso, calcular a máxima probabilidade de todas esses possíveis resultados corretos se tornou inviável, então precisaremos reduzir este número de candidatos.\n",
        "\n",
        "Construímos a função que chama o gerador_palavras() pelo corretor(), a qual gera as palavras e calcula a probabilidade de cada uma, retornando a possível correção.\n",
        "\n",
        "Teremos que modificá-la; copiaremos seu bloco com \"Ctrl + C\" e colaremos em uma nova célula com \"Ctrl + V\".\n",
        "\n",
        "Chamaremos este corretor de novo_corretor(), pois ainda utilizaremos o antigo mais adiante, e passaremos as palavras_geradas para o meu gerador_turbinado()."
      ],
      "metadata": {
        "id": "wfSJQrM3WWtO"
      }
    },
    {
      "cell_type": "code",
      "source": [
        "def novo_corretor(palavra):\n",
        "    palavras_geradas = gerador_palavras(palavra)\n",
        "    palavra_correta = max(palavras_geradas, key=probabilidade)\n",
        "    return palavra_correta"
      ],
      "metadata": {
        "id": "V8L-DZvHWH99"
      },
      "execution_count": 58,
      "outputs": []
    },
    {
      "cell_type": "markdown",
      "source": [
        "Então, apenas chamaremos função do turbinado para gerarmos palavras apenas através deste. Estas serão armazenadas em palavras_turbinado sendo igual a gerador_turbinado() recebendo palavras_geradas.\n",
        "\n",
        "Em seguida, combinaremos essas duas variáveis. Antes, teremos uma outra variável chamada de todas_palavras, a qual será o conjunto set() das palavras_geradas somado com as palavras_turbinado. Depois, deveremos calcular a probabilidade de todas as palavras.\n",
        "\n",
        "Porém, nosso problema diz respeito à enorme quantidade de resultados, então precisaremos pegar somente os candidatos, e para isso criaremos a variável candidatos.\n",
        "\n",
        "Esta será uma lista com a própria palavra que queremos corrigir, visto que se não conseguirmos gerar uma possível correção, retornaremos a palavra a ser corrigida. Nesta, adicionaremos as palavras que existem no nosso vocabulário, do contrário a probabilidade sempre será zero e o vocábulo nunca será escolhido.\n",
        "\n",
        "Para verificarmos quais palavras da todas_palavras existem no meu vocabulário, colocaremos um for de palavra nesta variável. Se estiver no vocabulario com if, a adicionaremos à lista candidatos com .append().\n",
        "\n",
        "Feito isso, reduziremos o número de possíveis termos a serem corrigidos. Retornaremos a palavra_correta, porém a probabilidade será calculada a partir dos candidatos, e não mais de palavras_geradas.\n",
        "\n",
        "Para verificarmos a quantidade de candidatos, colocaremos um print() do tamanho len() da variável candidatos. Depois, chamaremos essa função passando a palavra “lóigica” com novo_corretor() recebendo palavra."
      ],
      "metadata": {
        "id": "9i2P2I2vWY37"
      }
    },
    {
      "cell_type": "code",
      "source": [
        "def novo_corretor(palavra):\n",
        "    palavras_geradas = gerador_palavras(palavra)\n",
        "    palavras_turbinado = gerador_turbinado(palavras_geradas)\n",
        "    todas_palavras = set(palavras_geradas + palavras_turbinado)\n",
        "    candidatos = [palavra]\n",
        "    for palavra in todas_palavras:\n",
        "        if palavra in vocabulario:\n",
        "            candidatos.append(palavra)\n",
        "    print(len(candidatos))\n",
        "    palavra_correta = max(candidatos, key=probabilidade)\n",
        "    return palavra_correta\n",
        "\n",
        "novo_corretor(palavra)"
      ],
      "metadata": {
        "colab": {
          "base_uri": "https://localhost:8080/",
          "height": 0
        },
        "id": "mcjSoQcPWcVy",
        "outputId": "c8f4f1d6-0380-4f37-c1e0-bd4433c90585"
      },
      "execution_count": 59,
      "outputs": [
        {
          "output_type": "stream",
          "name": "stdout",
          "text": [
            "2\n"
          ]
        },
        {
          "output_type": "execute_result",
          "data": {
            "text/plain": [
              "'lógica'"
            ],
            "application/vnd.google.colaboratory.intrinsic+json": {
              "type": "string"
            }
          },
          "metadata": {},
          "execution_count": 59
        }
      ]
    },
    {
      "cell_type": "markdown",
      "source": [
        "Com isso, corrigimos a nossa palavra ao receber 'lógica', e calculamos a probabilidade máxima de candidatos, sendo apenas 2. O grande restante de resultados é insignificante para este novo corretor, pois não nos servirá para o que queremos.\n",
        "\n",
        "Portanto, conseguimos otimizar muito o nosso resultado, de quase um milhão de palavras para apenas duas possíveis correções.\n",
        "\n",
        "A seguir, trabalharemos com os dados de teste."
      ],
      "metadata": {
        "id": "Q6y3IdhUWgMB"
      }
    },
    {
      "cell_type": "markdown",
      "source": [
        "# Avaliando o resultado dos dois corretores"
      ],
      "metadata": {
        "id": "iTESSrLKZCZR"
      }
    },
    {
      "cell_type": "markdown",
      "source": [
        "Neste passo, testaremos o novo_corretor() e o compararemos com o corretor antigo para verificarmos as qualidades e escolhermos o melhor.\n",
        "\n",
        "Começaremos adaptando a função avaliador() copiando e colando seu bloco em uma nova célula. Depois, alteraremos a chamada para novo_corretor(), pois queremos também que esta realize a avaliação do novo corretor."
      ],
      "metadata": {
        "id": "kxSfF5PaZEKI"
      }
    },
    {
      "cell_type": "code",
      "source": [
        "def avaliador(testes, vocabulario):\n",
        "    numero_palavras = len(testes)\n",
        "    acertou = 0\n",
        "    desconhecida = 0\n",
        "    for correta, errada in testes:\n",
        "        palavra_corrigida = novo_corretor(errada)\n",
        "        if palavra_corrigida == correta:\n",
        "            acertou += 1\n",
        "        else:\n",
        "            desconhecida += (correta not in vocabulario)\n",
        "    taxa_acerto = round(acertou*100/numero_palavras, 2)\n",
        "    taxa_desconhecida = round(desconhecida*100/numero_palavras, 2)\n",
        "    print(f\"{taxa_acerto}% de {numero_palavras} palavras, desconhecidas {taxa_desconhecida}%\")\n",
        "\n",
        "vocabulario = set(lista_normalizada)\n",
        "avaliador(lista_teste, vocabulario)"
      ],
      "metadata": {
        "colab": {
          "base_uri": "https://localhost:8080/"
        },
        "id": "Ppu19TIkWijY",
        "outputId": "54bcba18-823a-4e9e-9f45-ff4cb662f04a"
      },
      "execution_count": 60,
      "outputs": [
        {
          "output_type": "stream",
          "name": "stdout",
          "text": [
            "5\n",
            "35\n",
            "75\n",
            "7\n",
            "21\n",
            "122\n",
            "13\n",
            "4\n",
            "26\n",
            "4\n",
            "143\n",
            "18\n",
            "22\n",
            "11\n",
            "8\n",
            "14\n",
            "8\n",
            "19\n",
            "58\n",
            "5\n",
            "8\n",
            "51\n",
            "5\n",
            "111\n",
            "30\n",
            "12\n",
            "9\n",
            "25\n",
            "10\n",
            "26\n",
            "3\n",
            "41\n",
            "4\n",
            "14\n",
            "3\n",
            "9\n",
            "4\n",
            "6\n",
            "144\n",
            "108\n",
            "133\n",
            "5\n",
            "6\n",
            "184\n",
            "5\n",
            "6\n",
            "4\n",
            "88\n",
            "17\n",
            "4\n",
            "5\n",
            "15\n",
            "176\n",
            "5\n",
            "38\n",
            "268\n",
            "14\n",
            "32\n",
            "34\n",
            "8\n",
            "43\n",
            "58\n",
            "6\n",
            "5\n",
            "49\n",
            "57\n",
            "63\n",
            "23\n",
            "69\n",
            "38\n",
            "4\n",
            "14\n",
            "211\n",
            "7\n",
            "64\n",
            "76\n",
            "41\n",
            "4\n",
            "93\n",
            "4\n",
            "38\n",
            "6\n",
            "108\n",
            "32\n",
            "8\n",
            "21\n",
            "10\n",
            "18\n",
            "162\n",
            "11\n",
            "4\n",
            "122\n",
            "29\n",
            "46\n",
            "38\n",
            "16\n",
            "3\n",
            "13\n",
            "6\n",
            "69\n",
            "3\n",
            "41\n",
            "4\n",
            "35\n",
            "3\n",
            "18\n",
            "5\n",
            "2\n",
            "32\n",
            "74\n",
            "70\n",
            "4\n",
            "6\n",
            "10\n",
            "2\n",
            "7\n",
            "4\n",
            "9\n",
            "17\n",
            "6\n",
            "5\n",
            "18\n",
            "191\n",
            "5\n",
            "32\n",
            "104\n",
            "11\n",
            "4\n",
            "4\n",
            "61\n",
            "56\n",
            "60\n",
            "5\n",
            "5\n",
            "27\n",
            "67\n",
            "45\n",
            "23\n",
            "162\n",
            "25\n",
            "16\n",
            "96\n",
            "2\n",
            "2\n",
            "3\n",
            "12\n",
            "10\n",
            "2\n",
            "34\n",
            "2\n",
            "18\n",
            "238\n",
            "2\n",
            "3\n",
            "4\n",
            "4\n",
            "5\n",
            "4\n",
            "24\n",
            "5\n",
            "4\n",
            "13\n",
            "1\n",
            "6\n",
            "3\n",
            "13\n",
            "2\n",
            "4\n",
            "6\n",
            "1\n",
            "4\n",
            "1\n",
            "9\n",
            "1\n",
            "1\n",
            "5\n",
            "3\n",
            "5\n",
            "5\n",
            "15\n",
            "73\n",
            "3\n",
            "13\n",
            "3\n",
            "2\n",
            "2\n",
            "55.38% de 186 palavras, desconhecidas 6.45%\n"
          ]
        }
      ]
    },
    {
      "cell_type": "markdown",
      "source": [
        "55.38% de 186 palavras, desconhecidas 6.45%"
      ],
      "metadata": {
        "id": "GX2EHhDiaImS"
      }
    },
    {
      "cell_type": "markdown",
      "source": [
        "Antes disso, modificaremos a função novo_corretor() removendo o print() para que não imprima a quantidade de candidatos para toda a palavra dos dados de teste, pois essa informação não nos interessa mais."
      ],
      "metadata": {
        "id": "6KIXTnAqZJPU"
      }
    },
    {
      "cell_type": "code",
      "source": [
        "def novo_corretor(palavra):\n",
        "    palavras_geradas = gerador_palavras(palavra)\n",
        "    palavras_turbinado = gerador_turbinado(palavras_geradas)\n",
        "    todas_palavras = set(palavras_geradas + palavras_turbinado)\n",
        "    candidatos = [palavra]\n",
        "    for palavra in todas_palavras:\n",
        "      if palavra in vocabulario:\n",
        "        candidatos.append(palavra)\n",
        "        palavra_correta = max(candidatos, key=probabilidade)\n",
        "    return palavra_correta\n",
        "\n",
        "novo_corretor(palavra)"
      ],
      "metadata": {
        "colab": {
          "base_uri": "https://localhost:8080/",
          "height": 35
        },
        "id": "wOCmJnPrZLiX",
        "outputId": "3287e355-8603-4f9c-990b-e68500896531"
      },
      "execution_count": 66,
      "outputs": [
        {
          "output_type": "execute_result",
          "data": {
            "text/plain": [
              "'lógica'"
            ],
            "application/vnd.google.colaboratory.intrinsic+json": {
              "type": "string"
            }
          },
          "metadata": {},
          "execution_count": 66
        }
      ]
    },
    {
      "cell_type": "markdown",
      "source": [
        "Após a execução, o resultado será 55.91% de 186 palavras, sendo 6.45% a taxa de desconhecidas. Logo, tivemos uma redução das duas taxas.\n",
        "\n",
        "O número de palavras desconhecidas teoricamente deveria ser um número fixo, mas este valor caiu.\n",
        "\n",
        "Isso aconteceu porque colocamos o contador da desconhecida após o if, então só entramos nesse else caso a palavra_corrigida esteja incorreta. Porém, esta variável é fixa e independe se o corretor acertou ou não.\n",
        "\n",
        "Precisaremos ter certa atenção, pois às vezes teremos variáveis de valor fixo e as tornamos de valor variável, fazendo com que esses resultados se alterem sem fazer algum sentido, como neste caso.\n",
        "\n",
        "Para corrigirmos isso, removeremos o else para não cometermos este erro. Colocaremos o incremento desta variável antes do if mesmo, pois é independente deste. Se acertarmos ou errarmos a correção da palavra, o valor desconhecida será fixo."
      ],
      "metadata": {
        "id": "E49k_JQVZOl_"
      }
    },
    {
      "cell_type": "code",
      "source": [
        "def avaliador(testes, vocabulario):\n",
        "    numero_palavras = len(testes)\n",
        "    acertou = 0\n",
        "    desconhecida = 0\n",
        "    for correta, errada in testes:\n",
        "      palavra_corrigida = novo_corretor(errada)\n",
        "      desconhecida += (correta not in vocabulario)\n",
        "      if palavra_corrigida == correta:\n",
        "        acertou += 1\n",
        "    taxa_acerto = round(acertou*100/numero_palavras, 2)\n",
        "    taxa_desconhecida = round(desconhecida*100/numero_palavras, 2)\n",
        "    print(f\"{taxa_acerto}% de {numero_palavras} palavras, desconhecidas {taxa_desconhecida}%\")\n",
        "\n",
        "vocabulario = set(lista_normalizada)\n",
        "avaliador(lista_teste, vocabulario)"
      ],
      "metadata": {
        "colab": {
          "base_uri": "https://localhost:8080/",
          "height": 345
        },
        "id": "5UR9BqA4ZP4s",
        "outputId": "b2aaab40-de57-4af2-e9bc-f8f37275c88d"
      },
      "execution_count": 67,
      "outputs": [
        {
          "output_type": "error",
          "ename": "UnboundLocalError",
          "evalue": "ignored",
          "traceback": [
            "\u001b[0;31m---------------------------------------------------------------------------\u001b[0m",
            "\u001b[0;31mUnboundLocalError\u001b[0m                         Traceback (most recent call last)",
            "\u001b[0;32m<ipython-input-67-558ee54801cc>\u001b[0m in \u001b[0;36m<module>\u001b[0;34m\u001b[0m\n\u001b[1;32m     13\u001b[0m \u001b[0;34m\u001b[0m\u001b[0m\n\u001b[1;32m     14\u001b[0m \u001b[0mvocabulario\u001b[0m \u001b[0;34m=\u001b[0m \u001b[0mset\u001b[0m\u001b[0;34m(\u001b[0m\u001b[0mlista_normalizada\u001b[0m\u001b[0;34m)\u001b[0m\u001b[0;34m\u001b[0m\u001b[0;34m\u001b[0m\u001b[0m\n\u001b[0;32m---> 15\u001b[0;31m \u001b[0mavaliador\u001b[0m\u001b[0;34m(\u001b[0m\u001b[0mlista_teste\u001b[0m\u001b[0;34m,\u001b[0m \u001b[0mvocabulario\u001b[0m\u001b[0;34m)\u001b[0m\u001b[0;34m\u001b[0m\u001b[0;34m\u001b[0m\u001b[0m\n\u001b[0m",
            "\u001b[0;32m<ipython-input-67-558ee54801cc>\u001b[0m in \u001b[0;36mavaliador\u001b[0;34m(testes, vocabulario)\u001b[0m\n\u001b[1;32m      4\u001b[0m     \u001b[0mdesconhecida\u001b[0m \u001b[0;34m=\u001b[0m \u001b[0;36m0\u001b[0m\u001b[0;34m\u001b[0m\u001b[0;34m\u001b[0m\u001b[0m\n\u001b[1;32m      5\u001b[0m     \u001b[0;32mfor\u001b[0m \u001b[0mcorreta\u001b[0m\u001b[0;34m,\u001b[0m \u001b[0merrada\u001b[0m \u001b[0;32min\u001b[0m \u001b[0mtestes\u001b[0m\u001b[0;34m:\u001b[0m\u001b[0;34m\u001b[0m\u001b[0;34m\u001b[0m\u001b[0m\n\u001b[0;32m----> 6\u001b[0;31m       \u001b[0mpalavra_corrigida\u001b[0m \u001b[0;34m=\u001b[0m \u001b[0mnovo_corretor\u001b[0m\u001b[0;34m(\u001b[0m\u001b[0merrada\u001b[0m\u001b[0;34m)\u001b[0m\u001b[0;34m\u001b[0m\u001b[0;34m\u001b[0m\u001b[0m\n\u001b[0m\u001b[1;32m      7\u001b[0m       \u001b[0mdesconhecida\u001b[0m \u001b[0;34m+=\u001b[0m \u001b[0;34m(\u001b[0m\u001b[0mcorreta\u001b[0m \u001b[0;32mnot\u001b[0m \u001b[0;32min\u001b[0m \u001b[0mvocabulario\u001b[0m\u001b[0;34m)\u001b[0m\u001b[0;34m\u001b[0m\u001b[0;34m\u001b[0m\u001b[0m\n\u001b[1;32m      8\u001b[0m       \u001b[0;32mif\u001b[0m \u001b[0mpalavra_corrigida\u001b[0m \u001b[0;34m==\u001b[0m \u001b[0mcorreta\u001b[0m\u001b[0;34m:\u001b[0m\u001b[0;34m\u001b[0m\u001b[0;34m\u001b[0m\u001b[0m\n",
            "\u001b[0;32m<ipython-input-66-ba9c56e92c15>\u001b[0m in \u001b[0;36mnovo_corretor\u001b[0;34m(palavra)\u001b[0m\n\u001b[1;32m      8\u001b[0m         \u001b[0mcandidatos\u001b[0m\u001b[0;34m.\u001b[0m\u001b[0mappend\u001b[0m\u001b[0;34m(\u001b[0m\u001b[0mpalavra\u001b[0m\u001b[0;34m)\u001b[0m\u001b[0;34m\u001b[0m\u001b[0;34m\u001b[0m\u001b[0m\n\u001b[1;32m      9\u001b[0m         \u001b[0mpalavra_correta\u001b[0m \u001b[0;34m=\u001b[0m \u001b[0mmax\u001b[0m\u001b[0;34m(\u001b[0m\u001b[0mcandidatos\u001b[0m\u001b[0;34m,\u001b[0m \u001b[0mkey\u001b[0m\u001b[0;34m=\u001b[0m\u001b[0mprobabilidade\u001b[0m\u001b[0;34m)\u001b[0m\u001b[0;34m\u001b[0m\u001b[0;34m\u001b[0m\u001b[0m\n\u001b[0;32m---> 10\u001b[0;31m     \u001b[0;32mreturn\u001b[0m \u001b[0mpalavra_correta\u001b[0m\u001b[0;34m\u001b[0m\u001b[0;34m\u001b[0m\u001b[0m\n\u001b[0m\u001b[1;32m     11\u001b[0m \u001b[0;34m\u001b[0m\u001b[0m\n\u001b[1;32m     12\u001b[0m \u001b[0mnovo_corretor\u001b[0m\u001b[0;34m(\u001b[0m\u001b[0mpalavra\u001b[0m\u001b[0;34m)\u001b[0m\u001b[0;34m\u001b[0m\u001b[0;34m\u001b[0m\u001b[0m\n",
            "\u001b[0;31mUnboundLocalError\u001b[0m: local variable 'palavra_correta' referenced before assignment"
          ]
        }
      ]
    },
    {
      "cell_type": "markdown",
      "source": [
        "Com isso, teremos o resultado correto da minha taxa de desconhecida com 6.99%.\n",
        "\n",
        "A seguir, verificaremos o valor de 55.91% da taxa de acertos."
      ],
      "metadata": {
        "id": "S1yXoPu7ZSfP"
      }
    },
    {
      "cell_type": "markdown",
      "source": [
        "Vimos que o novo_corretor() performou consideravelmente pior do que o nosso corretor anterior. Printaremos alguns resultados para analisarmos o porquê deste novo não estar indo tão bem quanto o outro.\n",
        "\n",
        "Logo após o if, colocaremos um else para toda vez em que errarmos a palavra a ser corrigida. Imprimiremos a palavra errada e concatenaremos com um hífen para separarmos da palavra errada gerada pelo antigo corretor().\n",
        "\n",
        "Em seguida, concatenaremos da mesma forma com a palavra corrigida pelo novo_corretor().\n",
        "\n",
        "Imprimiremos a equivocada, a corrigida pelo meu antigo corretor e a corrigida pelo meu novo corretor para analisarmos os resultados."
      ],
      "metadata": {
        "id": "QCzf-E-ZdIDh"
      }
    },
    {
      "cell_type": "code",
      "source": [
        "def avaliador(testes, vocabulario):\n",
        "    numero_palavras = len(testes)\n",
        "    acertou = 0\n",
        "    desconhecida = 0\n",
        "    for correta, errada in testes:\n",
        "        palavra_corrigida = novo_corretor(errada)\n",
        "        desconhecida += (correta not in vocabulario)\n",
        "        if palavra_corrigida == correta:\n",
        "            acertou += 1\n",
        "        else:\n",
        "            print(errada + \"-\" + corretor(errada) + \"-\" + palavra_corrigida)\n",
        "    taxa_acerto = round(acertou*100/numero_palavras, 2)\n",
        "    taxa_desconhecida = round(desconhecida*100/numero_palavras, 2)\n",
        "    print(f\"{taxa_acerto}% de {numero_palavras} palavras, desconhecidas {taxa_desconhecida}%\")\n",
        "\n",
        "vocabulario = set(lista_normalizada)\n",
        "avaliador(lista_teste, vocabulario)"
      ],
      "metadata": {
        "id": "bbEqpx_5ZVhb"
      },
      "execution_count": null,
      "outputs": []
    },
    {
      "cell_type": "markdown",
      "source": [
        "Com a execução, veremos uma lista em que a primeira palavra é a errada, a segunda é a gerada pelo corretor antigo, e a terceira pelo nosso novo.\n",
        "\n",
        "Na primeira linha, teremos a palavra digitada equivocadamente esje, onde provavelmente a pessoa substituiu o “j” pelo “s”. Assim, gerou as palavras certas esse e se.\n",
        "\n",
        "Na terceira linha do resultado, teremos a palavra dosa onde digitaram um “a” a mais, pois está ao lado da tecla \"s\".\n",
        "\n",
        "Nosso corretor antigo fez a corrigiu para dos corretamente. Porém, o novo corretor corrige para do, o que está incorreto, pois novo_corretor gera ambos os resultados.\n",
        "\n",
        "Porém, do aparece muito mais vezes do que a palavra dos. Como dependemos dessa máxima probabilidade, a função exibirá o termo que possui uma maior chance de estar correta, mesmo que a outra palavra também seja uma possibilidade correta.\n",
        "\n",
        "Muitas vezes nossos erros de digitação estão apenas a uma distância da palavra equivocada, ou seja, é mais comum esquecermos de digitar ou trocarmos uma única letra.\n",
        "\n",
        "Embora teoricamente o novo_corretor() parecesse ser melhor, está performando bem pior do que o outro. Portanto, é mais interessante continuarmos com o antigo.\n",
        "\n",
        "Modificaremos o avaliador() novamente. Copiaremos seu bloco e o colaremos em uma nova célula, e ao invés de chamarmos o novo corretor, o deletaremos e chamaremos o antigo corretor(). O print() em else também não nos interessa mais, então poderemos apagá-lo."
      ],
      "metadata": {
        "id": "zIywOg9ndWj0"
      }
    },
    {
      "cell_type": "code",
      "source": [
        "def avaliador(testes, vocabulario):\n",
        "    numero_palavras = len(testes)\n",
        "    acertou = 0\n",
        "    desconhecida = 0\n",
        "    for correta, errada in testes:\n",
        "        palavra_corrigida = corretor(errada)\n",
        "        desconhecida += (correta not in vocabulario)\n",
        "        if palavra_corrigida == correta:\n",
        "            acertou += 1\n",
        "    taxa_acerto = round(acertou*100/numero_palavras, 2)\n",
        "    taxa_desconhecida = round(desconhecida*100/numero_palavras, 2)\n",
        "    print(f\"{taxa_acerto}% de {numero_palavras} palavras, desconhecidas {taxa_desconhecida}%\")\n",
        "\n",
        "vocabulario = set(lista_normalizada)\n",
        "avaliador(lista_teste, vocabulario)"
      ],
      "metadata": {
        "colab": {
          "base_uri": "https://localhost:8080/"
        },
        "id": "BuQKUyjwdYn7",
        "outputId": "0f8803a8-851b-44d9-e22a-f1cb3bb33bdd"
      },
      "execution_count": 69,
      "outputs": [
        {
          "output_type": "stream",
          "name": "stdout",
          "text": [
            "76.34% de 186 palavras, desconhecidas 6.99%\n"
          ]
        }
      ]
    },
    {
      "cell_type": "markdown",
      "source": [
        "Rodando este código para verificarmos o resultado final do avaliador(), veremos nosso corretor tem 76.34% e desconhece aproximadamente 7% das palavras. Portanto, possui uma performance bem interessante.\n",
        "\n",
        "Para finalizarmos, teremos uma nova célula para analisarmos seu funcionamento com outros exemplos de termos errados.\n",
        "\n",
        "Imprimiremos o novo_corretor() e o antigo corretor para os nossos dados. Como exemplo, teremos a palavra sendo igual a “lgica”."
      ],
      "metadata": {
        "id": "nnAcP-yRdbE3"
      }
    },
    {
      "cell_type": "code",
      "source": [
        "palavra = \"lgica\"\n",
        "print(novo_corretor(palavra))\n",
        "print(corretor(palavra))"
      ],
      "metadata": {
        "colab": {
          "base_uri": "https://localhost:8080/"
        },
        "id": "De8NQ-u9dcO5",
        "outputId": "39bfd855-c3c8-494c-e329-8e4f2f70cc3c"
      },
      "execution_count": 70,
      "outputs": [
        {
          "output_type": "stream",
          "name": "stdout",
          "text": [
            "fica\n",
            "lógica\n"
          ]
        }
      ]
    },
    {
      "cell_type": "markdown",
      "source": [
        "O novo corretor acaba corrigindo para fica, e o nosso corretor antigo e ideal para esses nossos dados fez a correção correta.\n",
        "\n",
        "Já no caso da palavra \"lóigica\", os dois retornam a palavra correta.\n",
        "\n",
        "Se eu colocarmos mais um “i” equivocadamente obtendo \"lóiigica\", veremos que nosso corretor definitivo não conseguirá corrigir esse tipo de erro.\n",
        "\n",
        "Como retorno, veremos um alóiigica e a palavra correta lógica.\n",
        "\n",
        "Poderemos testar mais e verificar que nosso algoritmo de corretor é eficiente e corrige muitas palavras.\n",
        "\n",
        "Para melhorarmos ainda mais, poderemos procurar uma base de dados maior para fazermos esse treinamento e termos uma performance ainda melhor."
      ],
      "metadata": {
        "id": "QaG_zzApdeVK"
      }
    },
    {
      "cell_type": "markdown",
      "source": [
        "Finalizamos mais um curso da Plataforma Alura, e neste passo revisaremos o que realizamos em nossas aulas.\n",
        "\n",
        "Começamos a discutir um pouco sobre o que é o Processamento de Linguagem Natural, e como como o ser humano e a máquina conseguem criar uma comunicação entre si, e percebemos não é feita de maneira direta.\n",
        "\n",
        "O NLP é o intermediário, e possui diversas aplicações. Entre elas, temos o assistente pessoal, tradutor, os buscadores, e o corretor ortográfico, que é justamente o que criamos nesse curso.\n",
        "\n",
        "Como exemplo, temos uma palavra digitada de maneira equivocada, geramos as possíveis palavras corretas, e então inferimos quais daquelas possíveis candidatas era justamente a correta.\n",
        "\n",
        "Para as gerarmos, discutimos alguns algoritmos; o insere_letras(), onde nós inseríamos letras na palavra digitada equivocadamente, o deletando_caracteres(), o troca_letra() e o inverte_letra(), que é quando digitamos sem querer uma letra na frente da outra.\n",
        "\n",
        "Esses algoritmos eram os responsáveis por gerar as palavras, mas não por realizar a inferência da palavra correta. Para isso, precisamos de uma base de dados, e neste caso foram os artigos do Blog da Alura compilados em artigos.txt.\n",
        "\n",
        "Esse nosso arquivo é o nosso corpus textual com um número muito grande de caracteres, mas descobrimos também o número de palavras.\n",
        "\n",
        "Separamos a string em pequenos tokens. Para isso, nós utilizamos a biblioteca Python específica para processamento de linguagem natural chamada nltk.\n",
        "\n",
        "Depois, separamos dos tokens apenas os que eram palavras, e aí contamos o número de palavras que havia no nosso dataset., chegando a quase 400 mil, o que é um número bem interessante para o nosso treinamento.\n",
        "\n",
        "Saber só o número de palavras não era suficiente, então contamos também os tipos de palavras. Após isso, iniciamos a construção do nosso algoritmo.\n",
        "\n",
        "Começamos por insere_letras() e testamos esse nosso corretor apenas com esta função, e descobrimos que o resultado não era muito bom, pois corrigia apenas 1% dos dados, um número bem abaixo do que precisamos.\n",
        "\n",
        "Implementamos os outros algoritmos e atingimos um resultado de quase 77%, já um número bem mais interessante.\n",
        "\n",
        "Após atingirmos esse resultado, tentamos melhorar ainda mais o nosso corretor e criamos o gerador_turbinado(), o qual foi capaz de corrigir palavras como o “lóiigica” aqui.\n",
        "\n",
        "Chegamos à conclusão que esse gerador turbinado não era muito bom na realidade, e o nosso novo corretor foi descartado, chegando à conclusão que o melhor resultado que nós atingimos foi realmente os quase 77% do primeiro corretor.\n",
        "\n",
        "Portanto, ficamos com o antigo.\n",
        "\n",
        "Se tiver qualquer dúvida, acesse nosso fórum que responderemos o mais rápido possível. Também convidamos a realizar todos os exercícios disponibilizados nesse curso."
      ],
      "metadata": {
        "id": "GaZW4Zj4hfxA"
      }
    },
    {
      "cell_type": "code",
      "source": [],
      "metadata": {
        "id": "JPzNaabqhhRG"
      },
      "execution_count": null,
      "outputs": []
    }
  ]
}